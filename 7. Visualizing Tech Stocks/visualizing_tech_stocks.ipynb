{
 "cells": [
  {
   "cell_type": "markdown",
   "metadata": {},
   "source": [
    "## Visualizing Tech Stocks"
   ]
  },
  {
   "cell_type": "markdown",
   "metadata": {},
   "source": [
    "Analyzing and visualizing the top 5 highest valued technology stocks during the six months from January through June 2019. Based on the calculations choose the best option to invest in and ideas for portfolio diversification.\n",
    "\n",
    "The top 5 highest valued technology stocks, as of the end of the first half of 2019:\n",
    "* Microsoft (NASDAQ:MSFT)\n",
    "* Amazon (NASDAQ:AMZN)\n",
    "* Apple (NASDAQ:AAPL)\n",
    "* Alphabet (NASDAQ:GOOG)\n",
    "* Facebook (NASDAQ:FB).\n",
    "\n",
    "Using Pandas, Pandas-Datarader, Matplotlib, and Seaborn taking a visual look into the similarities and differences between these stocks:\n",
    "1. Visualize the stock prices using matplotlib\n",
    "2. Calculate and visualize the daily simple rate of return \n",
    "3. Calculate and visualize the mean rates of return\n",
    "4. Calculate and visualize the variances of the returns\n",
    "5. Calculate and visualize the standard deviations of the returns\n",
    "6. Calculate and visualize the correlations between the tech stocks\n",
    "\n",
    "The project was made for Codecademy 'Analyze Financial Data with Python' course, but exploring financial analysis with Python further I decided to add the 7th task: Calculate moving averages of the chosen stock and plot candlestick chart using Plotly."
   ]
  },
  {
   "cell_type": "markdown",
   "metadata": {},
   "source": [
    "### Preparation: import packages and download data"
   ]
  },
  {
   "cell_type": "code",
   "execution_count": 3,
   "metadata": {
    "ExecuteTime": {
     "end_time": "2019-09-20T17:07:04.003420Z",
     "start_time": "2019-09-20T17:07:03.119028Z"
    }
   },
   "outputs": [],
   "source": [
    "# import data manipulation packages\n",
    "import pandas as pd\n",
    "import numpy as np"
   ]
  },
  {
   "cell_type": "code",
   "execution_count": 4,
   "metadata": {
    "ExecuteTime": {
     "end_time": "2019-09-20T17:09:14.195426Z",
     "start_time": "2019-09-20T17:09:13.727288Z"
    }
   },
   "outputs": [],
   "source": [
    "# import API package\n",
    "import pandas_datareader as web"
   ]
  },
  {
   "cell_type": "code",
   "execution_count": 5,
   "metadata": {
    "ExecuteTime": {
     "end_time": "2019-09-20T17:09:59.493267Z",
     "start_time": "2019-09-20T17:09:59.116556Z"
    }
   },
   "outputs": [],
   "source": [
    "#Import Visualization Packages\n",
    "import seaborn as sns\n",
    "import matplotlib.pyplot as plt"
   ]
  },
  {
   "cell_type": "code",
   "execution_count": 6,
   "metadata": {
    "ExecuteTime": {
     "end_time": "2019-09-20T17:30:17.329249Z",
     "start_time": "2019-09-20T17:30:17.193738Z"
    },
    "scrolled": true
   },
   "outputs": [
    {
     "data": {
      "text/html": [
       "<div>\n",
       "<style scoped>\n",
       "    .dataframe tbody tr th:only-of-type {\n",
       "        vertical-align: middle;\n",
       "    }\n",
       "\n",
       "    .dataframe tbody tr th {\n",
       "        vertical-align: top;\n",
       "    }\n",
       "\n",
       "    .dataframe thead tr th {\n",
       "        text-align: left;\n",
       "    }\n",
       "\n",
       "    .dataframe thead tr:last-of-type th {\n",
       "        text-align: right;\n",
       "    }\n",
       "</style>\n",
       "<table border=\"1\" class=\"dataframe\">\n",
       "  <thead>\n",
       "    <tr>\n",
       "      <th>Attributes</th>\n",
       "      <th colspan=\"5\" halign=\"left\">Adj Close</th>\n",
       "      <th colspan=\"5\" halign=\"left\">Close</th>\n",
       "      <th>...</th>\n",
       "      <th colspan=\"5\" halign=\"left\">Open</th>\n",
       "      <th colspan=\"5\" halign=\"left\">Volume</th>\n",
       "    </tr>\n",
       "    <tr>\n",
       "      <th>Symbols</th>\n",
       "      <th>AAPL</th>\n",
       "      <th>AMZN</th>\n",
       "      <th>FB</th>\n",
       "      <th>GOOG</th>\n",
       "      <th>MSFT</th>\n",
       "      <th>AAPL</th>\n",
       "      <th>AMZN</th>\n",
       "      <th>FB</th>\n",
       "      <th>GOOG</th>\n",
       "      <th>MSFT</th>\n",
       "      <th>...</th>\n",
       "      <th>AAPL</th>\n",
       "      <th>AMZN</th>\n",
       "      <th>FB</th>\n",
       "      <th>GOOG</th>\n",
       "      <th>MSFT</th>\n",
       "      <th>AAPL</th>\n",
       "      <th>AMZN</th>\n",
       "      <th>FB</th>\n",
       "      <th>GOOG</th>\n",
       "      <th>MSFT</th>\n",
       "    </tr>\n",
       "    <tr>\n",
       "      <th>Date</th>\n",
       "      <th></th>\n",
       "      <th></th>\n",
       "      <th></th>\n",
       "      <th></th>\n",
       "      <th></th>\n",
       "      <th></th>\n",
       "      <th></th>\n",
       "      <th></th>\n",
       "      <th></th>\n",
       "      <th></th>\n",
       "      <th></th>\n",
       "      <th></th>\n",
       "      <th></th>\n",
       "      <th></th>\n",
       "      <th></th>\n",
       "      <th></th>\n",
       "      <th></th>\n",
       "      <th></th>\n",
       "      <th></th>\n",
       "      <th></th>\n",
       "      <th></th>\n",
       "    </tr>\n",
       "  </thead>\n",
       "  <tbody>\n",
       "    <tr>\n",
       "      <th>2019-01-02</th>\n",
       "      <td>154.794983</td>\n",
       "      <td>1539.130005</td>\n",
       "      <td>135.679993</td>\n",
       "      <td>1045.849976</td>\n",
       "      <td>99.375191</td>\n",
       "      <td>157.919998</td>\n",
       "      <td>1539.130005</td>\n",
       "      <td>135.679993</td>\n",
       "      <td>1045.849976</td>\n",
       "      <td>101.120003</td>\n",
       "      <td>...</td>\n",
       "      <td>154.889999</td>\n",
       "      <td>1465.199951</td>\n",
       "      <td>128.990005</td>\n",
       "      <td>1016.570007</td>\n",
       "      <td>99.550003</td>\n",
       "      <td>37039700.0</td>\n",
       "      <td>7983100.0</td>\n",
       "      <td>28146200.0</td>\n",
       "      <td>1532600.0</td>\n",
       "      <td>35329300.0</td>\n",
       "    </tr>\n",
       "    <tr>\n",
       "      <th>2019-01-03</th>\n",
       "      <td>139.376251</td>\n",
       "      <td>1500.280029</td>\n",
       "      <td>131.740005</td>\n",
       "      <td>1016.059998</td>\n",
       "      <td>95.719376</td>\n",
       "      <td>142.190002</td>\n",
       "      <td>1500.280029</td>\n",
       "      <td>131.740005</td>\n",
       "      <td>1016.059998</td>\n",
       "      <td>97.400002</td>\n",
       "      <td>...</td>\n",
       "      <td>143.979996</td>\n",
       "      <td>1520.010010</td>\n",
       "      <td>134.690002</td>\n",
       "      <td>1041.000000</td>\n",
       "      <td>100.099998</td>\n",
       "      <td>91312200.0</td>\n",
       "      <td>6975600.0</td>\n",
       "      <td>22717900.0</td>\n",
       "      <td>1841100.0</td>\n",
       "      <td>42579100.0</td>\n",
       "    </tr>\n",
       "    <tr>\n",
       "      <th>2019-01-04</th>\n",
       "      <td>145.326126</td>\n",
       "      <td>1575.390015</td>\n",
       "      <td>137.949997</td>\n",
       "      <td>1070.709961</td>\n",
       "      <td>100.171211</td>\n",
       "      <td>148.259995</td>\n",
       "      <td>1575.390015</td>\n",
       "      <td>137.949997</td>\n",
       "      <td>1070.709961</td>\n",
       "      <td>101.930000</td>\n",
       "      <td>...</td>\n",
       "      <td>144.529999</td>\n",
       "      <td>1530.000000</td>\n",
       "      <td>134.009995</td>\n",
       "      <td>1032.589966</td>\n",
       "      <td>99.720001</td>\n",
       "      <td>58607100.0</td>\n",
       "      <td>9182600.0</td>\n",
       "      <td>29002100.0</td>\n",
       "      <td>2093900.0</td>\n",
       "      <td>44060600.0</td>\n",
       "    </tr>\n",
       "    <tr>\n",
       "      <th>2019-01-07</th>\n",
       "      <td>145.002686</td>\n",
       "      <td>1629.510010</td>\n",
       "      <td>138.050003</td>\n",
       "      <td>1068.390015</td>\n",
       "      <td>100.298965</td>\n",
       "      <td>147.929993</td>\n",
       "      <td>1629.510010</td>\n",
       "      <td>138.050003</td>\n",
       "      <td>1068.390015</td>\n",
       "      <td>102.059998</td>\n",
       "      <td>...</td>\n",
       "      <td>148.699997</td>\n",
       "      <td>1602.310059</td>\n",
       "      <td>137.559998</td>\n",
       "      <td>1071.500000</td>\n",
       "      <td>101.639999</td>\n",
       "      <td>54777800.0</td>\n",
       "      <td>7993200.0</td>\n",
       "      <td>20089300.0</td>\n",
       "      <td>1981900.0</td>\n",
       "      <td>35656100.0</td>\n",
       "    </tr>\n",
       "    <tr>\n",
       "      <th>2019-01-08</th>\n",
       "      <td>147.766861</td>\n",
       "      <td>1656.579956</td>\n",
       "      <td>142.529999</td>\n",
       "      <td>1076.280029</td>\n",
       "      <td>101.026199</td>\n",
       "      <td>150.750000</td>\n",
       "      <td>1656.579956</td>\n",
       "      <td>142.529999</td>\n",
       "      <td>1076.280029</td>\n",
       "      <td>102.800003</td>\n",
       "      <td>...</td>\n",
       "      <td>149.559998</td>\n",
       "      <td>1664.689941</td>\n",
       "      <td>139.889999</td>\n",
       "      <td>1076.109985</td>\n",
       "      <td>103.040001</td>\n",
       "      <td>41025300.0</td>\n",
       "      <td>8881400.0</td>\n",
       "      <td>26263800.0</td>\n",
       "      <td>1764900.0</td>\n",
       "      <td>31514400.0</td>\n",
       "    </tr>\n",
       "  </tbody>\n",
       "</table>\n",
       "<p>5 rows × 30 columns</p>\n",
       "</div>"
      ],
      "text/plain": [
       "Attributes   Adj Close                                                    \\\n",
       "Symbols           AAPL         AMZN          FB         GOOG        MSFT   \n",
       "Date                                                                       \n",
       "2019-01-02  154.794983  1539.130005  135.679993  1045.849976   99.375191   \n",
       "2019-01-03  139.376251  1500.280029  131.740005  1016.059998   95.719376   \n",
       "2019-01-04  145.326126  1575.390015  137.949997  1070.709961  100.171211   \n",
       "2019-01-07  145.002686  1629.510010  138.050003  1068.390015  100.298965   \n",
       "2019-01-08  147.766861  1656.579956  142.529999  1076.280029  101.026199   \n",
       "\n",
       "Attributes       Close                                                    ...  \\\n",
       "Symbols           AAPL         AMZN          FB         GOOG        MSFT  ...   \n",
       "Date                                                                      ...   \n",
       "2019-01-02  157.919998  1539.130005  135.679993  1045.849976  101.120003  ...   \n",
       "2019-01-03  142.190002  1500.280029  131.740005  1016.059998   97.400002  ...   \n",
       "2019-01-04  148.259995  1575.390015  137.949997  1070.709961  101.930000  ...   \n",
       "2019-01-07  147.929993  1629.510010  138.050003  1068.390015  102.059998  ...   \n",
       "2019-01-08  150.750000  1656.579956  142.529999  1076.280029  102.800003  ...   \n",
       "\n",
       "Attributes        Open                                                    \\\n",
       "Symbols           AAPL         AMZN          FB         GOOG        MSFT   \n",
       "Date                                                                       \n",
       "2019-01-02  154.889999  1465.199951  128.990005  1016.570007   99.550003   \n",
       "2019-01-03  143.979996  1520.010010  134.690002  1041.000000  100.099998   \n",
       "2019-01-04  144.529999  1530.000000  134.009995  1032.589966   99.720001   \n",
       "2019-01-07  148.699997  1602.310059  137.559998  1071.500000  101.639999   \n",
       "2019-01-08  149.559998  1664.689941  139.889999  1076.109985  103.040001   \n",
       "\n",
       "Attributes      Volume                                                \n",
       "Symbols           AAPL       AMZN          FB       GOOG        MSFT  \n",
       "Date                                                                  \n",
       "2019-01-02  37039700.0  7983100.0  28146200.0  1532600.0  35329300.0  \n",
       "2019-01-03  91312200.0  6975600.0  22717900.0  1841100.0  42579100.0  \n",
       "2019-01-04  58607100.0  9182600.0  29002100.0  2093900.0  44060600.0  \n",
       "2019-01-07  54777800.0  7993200.0  20089300.0  1981900.0  35656100.0  \n",
       "2019-01-08  41025300.0  8881400.0  26263800.0  1764900.0  31514400.0  \n",
       "\n",
       "[5 rows x 30 columns]"
      ]
     },
     "execution_count": 6,
     "metadata": {},
     "output_type": "execute_result"
    }
   ],
   "source": [
    "# Define Stocks\n",
    "symbols = [\"MSFT\", \"AMZN\", \"AAPL\", \"GOOG\", \"FB\"]\n",
    "\n",
    "# Create Dates\n",
    "start_date = \"2019-01-01\"\n",
    "end_date = \"2019-07-01\"\n",
    "\n",
    "# Retrieve Data\n",
    "stock_data = web.get_data_yahoo(symbols, start_date, end_date)\n",
    "\n",
    "#View Data\n",
    "stock_data.head()"
   ]
  },
  {
   "cell_type": "code",
   "execution_count": 7,
   "metadata": {},
   "outputs": [
    {
     "data": {
      "text/html": [
       "<div>\n",
       "<style scoped>\n",
       "    .dataframe tbody tr th:only-of-type {\n",
       "        vertical-align: middle;\n",
       "    }\n",
       "\n",
       "    .dataframe tbody tr th {\n",
       "        vertical-align: top;\n",
       "    }\n",
       "\n",
       "    .dataframe thead th {\n",
       "        text-align: right;\n",
       "    }\n",
       "</style>\n",
       "<table border=\"1\" class=\"dataframe\">\n",
       "  <thead>\n",
       "    <tr style=\"text-align: right;\">\n",
       "      <th>Symbols</th>\n",
       "      <th>AAPL</th>\n",
       "      <th>AMZN</th>\n",
       "      <th>FB</th>\n",
       "      <th>GOOG</th>\n",
       "      <th>MSFT</th>\n",
       "    </tr>\n",
       "    <tr>\n",
       "      <th>Date</th>\n",
       "      <th></th>\n",
       "      <th></th>\n",
       "      <th></th>\n",
       "      <th></th>\n",
       "      <th></th>\n",
       "    </tr>\n",
       "  </thead>\n",
       "  <tbody>\n",
       "    <tr>\n",
       "      <th>2019-01-02</th>\n",
       "      <td>154.794983</td>\n",
       "      <td>1539.130005</td>\n",
       "      <td>135.679993</td>\n",
       "      <td>1045.849976</td>\n",
       "      <td>99.375191</td>\n",
       "    </tr>\n",
       "    <tr>\n",
       "      <th>2019-01-03</th>\n",
       "      <td>139.376251</td>\n",
       "      <td>1500.280029</td>\n",
       "      <td>131.740005</td>\n",
       "      <td>1016.059998</td>\n",
       "      <td>95.719376</td>\n",
       "    </tr>\n",
       "    <tr>\n",
       "      <th>2019-01-04</th>\n",
       "      <td>145.326126</td>\n",
       "      <td>1575.390015</td>\n",
       "      <td>137.949997</td>\n",
       "      <td>1070.709961</td>\n",
       "      <td>100.171211</td>\n",
       "    </tr>\n",
       "    <tr>\n",
       "      <th>2019-01-07</th>\n",
       "      <td>145.002686</td>\n",
       "      <td>1629.510010</td>\n",
       "      <td>138.050003</td>\n",
       "      <td>1068.390015</td>\n",
       "      <td>100.298965</td>\n",
       "    </tr>\n",
       "    <tr>\n",
       "      <th>2019-01-08</th>\n",
       "      <td>147.766861</td>\n",
       "      <td>1656.579956</td>\n",
       "      <td>142.529999</td>\n",
       "      <td>1076.280029</td>\n",
       "      <td>101.026199</td>\n",
       "    </tr>\n",
       "  </tbody>\n",
       "</table>\n",
       "</div>"
      ],
      "text/plain": [
       "Symbols           AAPL         AMZN          FB         GOOG        MSFT\n",
       "Date                                                                    \n",
       "2019-01-02  154.794983  1539.130005  135.679993  1045.849976   99.375191\n",
       "2019-01-03  139.376251  1500.280029  131.740005  1016.059998   95.719376\n",
       "2019-01-04  145.326126  1575.390015  137.949997  1070.709961  100.171211\n",
       "2019-01-07  145.002686  1629.510010  138.050003  1068.390015  100.298965\n",
       "2019-01-08  147.766861  1656.579956  142.529999  1076.280029  101.026199"
      ]
     },
     "execution_count": 7,
     "metadata": {},
     "output_type": "execute_result"
    }
   ],
   "source": [
    "stock_data['Adj Close'].head()"
   ]
  },
  {
   "cell_type": "markdown",
   "metadata": {},
   "source": [
    "### Plot of the Adjusted Closing Prices over Time"
   ]
  },
  {
   "cell_type": "code",
   "execution_count": 13,
   "metadata": {
    "ExecuteTime": {
     "end_time": "2019-09-20T17:41:01.873022Z",
     "start_time": "2019-09-20T17:41:01.687043Z"
    }
   },
   "outputs": [
    {
     "data": {
      "image/png": "[encoded data removed]",
      "text/plain": [
       "<Figure size 432x288 with 1 Axes>"
      ]
     },
     "metadata": {
      "needs_background": "light"
     },
     "output_type": "display_data"
    }
   ],
   "source": [
    "# ploting the adjusted closing prices of each stock over time with default style\n",
    "stock_data['Adj Close'].plot()\n",
    "plt.xlabel('Date')\n",
    "plt.ylabel('Adjusted Closing Price')\n",
    "plt.title('Tech Stocks Adjusted Price Over Time')\n",
    "plt.savefig('adjclose1')\n",
    "plt.show()"
   ]
  },
  {
   "cell_type": "code",
   "execution_count": 44,
   "metadata": {},
   "outputs": [
    {
     "data": {
      "image/png": "[encoded data removed]",
      "text/plain": [
       "<Figure size 864x576 with 1 Axes>"
      ]
     },
     "metadata": {},
     "output_type": "display_data"
    }
   ],
   "source": [
    "#styling the plot using dark background and company colors\n",
    "\n",
    "adj = stock_data['Adj Close']\n",
    "plt.style.use('dark_background')\n",
    "\n",
    "fig = plt.figure(figsize=(12,8))\n",
    "\n",
    "plt.plot(adj.AAPL,color=\"#A3AAAE\")\n",
    "plt.plot(adj.AMZN,color=\"#FF9900\")\n",
    "plt.plot(adj.FB,color=\"#3B5998\")\n",
    "plt.plot(adj.GOOG,color=\"#3cba54\")\n",
    "plt.plot(adj.MSFT,color=\"#F34F1C\")\n",
    "\n",
    "plt.ylabel('Adjusted Closing Price', fontsize=16)\n",
    "plt.title('Tech Stocks Adjusted Price Over Time', fontsize=20)\n",
    "plt.legend(stock_data['Adj Close'].columns,loc='center left', fontsize=12)\n",
    "plt.savefig('adjclose_2')\n",
    "plt.show()"
   ]
  },
  {
   "cell_type": "markdown",
   "metadata": {},
   "source": [
    "### The Daily Simple Rate of Return Over Time"
   ]
  },
  {
   "cell_type": "code",
   "execution_count": 7,
   "metadata": {
    "ExecuteTime": {
     "end_time": "2019-09-20T17:41:17.173004Z",
     "start_time": "2019-09-20T17:41:16.974468Z"
    }
   },
   "outputs": [
    {
     "data": {
      "image/png": "[encoded data removed]",
      "text/plain": [
       "<Figure size 432x288 with 1 Axes>"
      ]
     },
     "metadata": {
      "needs_background": "light"
     },
     "output_type": "display_data"
    }
   ],
   "source": [
    "stock_data['Adj Close'].pct_change().plot()\n",
    "plt.xlabel('Date')\n",
    "plt.ylabel('ROR')\n",
    "plt.title('Daily Simple Rate of Return Over time')\n",
    "plt.show()"
   ]
  },
  {
   "cell_type": "code",
   "execution_count": 81,
   "metadata": {},
   "outputs": [
    {
     "data": {
      "image/png": "[encoded data removed]",
      "text/plain": [
       "<Figure size 864x576 with 1 Axes>"
      ]
     },
     "metadata": {},
     "output_type": "display_data"
    }
   ],
   "source": [
    "fig = plt.figure(figsize=(12,8))\n",
    "plt.style.use('dark_background')\n",
    "plt.plot(adj.AAPL.pct_change(),color=\"#A3AAAE\")\n",
    "plt.plot(adj.AMZN.pct_change(),color=\"#FF9900\")\n",
    "plt.plot(adj.FB.pct_change(),color=\"#3B5998\")\n",
    "plt.plot(adj.GOOG.pct_change(),color=\"#3cba54\")\n",
    "plt.plot(adj.MSFT.pct_change(),color=\"#F34F1C\")\n",
    "\n",
    "plt.ylabel('ROR', fontsize=16)\n",
    "plt.title('Daily Simple Rate of Return Over time', fontsize=20)\n",
    "plt.legend(stock_data['Adj Close'].columns,loc='center left', fontsize=12)\n",
    "plt.savefig('adjclose_4')\n",
    "plt.show()"
   ]
  },
  {
   "cell_type": "markdown",
   "metadata": {},
   "source": [
    "### Subplots of daily simple rate of return"
   ]
  },
  {
   "cell_type": "code",
   "execution_count": 50,
   "metadata": {
    "ExecuteTime": {
     "end_time": "2019-09-20T17:41:36.728365Z",
     "start_time": "2019-09-20T17:41:36.399525Z"
    }
   },
   "outputs": [
    {
     "data": {
      "image/png": "[encoded data removed]",
      "text/plain": [
       "<Figure size 1152x720 with 5 Axes>"
      ]
     },
     "metadata": {},
     "output_type": "display_data"
    }
   ],
   "source": [
    "fig = plt.figure(figsize=(16,10))\n",
    "\n",
    "plt.subplot(2,3,1)\n",
    "x = range(len(stock_data['Adj Close']['AAPL'].pct_change()))\n",
    "y = stock_data['Adj Close']['AAPL'].pct_change()\n",
    "for x1, x2, y1,y2 in zip(x, x[1:], y, y[1:]):\n",
    "    if y1 > y2:\n",
    "        plt.plot([x1, x2], [y1, y2], 'r')\n",
    "    elif y1 < y2:\n",
    "        plt.plot([x1, x2], [y1, y2], 'g')\n",
    "    else:\n",
    "        plt.plot([x1, x2], [y1, y2], 'b')\n",
    "plt.title(\"Apple\")\n",
    "\n",
    "\n",
    "plt.subplot(2,3,2)\n",
    "x = range(len(stock_data['Adj Close']['AMZN'].pct_change()))\n",
    "y = stock_data['Adj Close']['AMZN'].pct_change()\n",
    "for x1, x2, y1,y2 in zip(x, x[1:], y, y[1:]):\n",
    "    if y1 > y2:\n",
    "        plt.plot([x1, x2], [y1, y2], 'r')\n",
    "    elif y1 < y2:\n",
    "        plt.plot([x1, x2], [y1, y2], 'g')\n",
    "    else:\n",
    "        plt.plot([x1, x2], [y1, y2], 'b')\n",
    "plt.title(\"Amazon\")\n",
    "\n",
    "plt.subplot(2,3,3)\n",
    "x = range(len(stock_data['Adj Close']['FB'].pct_change()))\n",
    "y = stock_data['Adj Close']['FB'].pct_change()\n",
    "for x1, x2, y1,y2 in zip(x, x[1:], y, y[1:]):\n",
    "    if y1 > y2:\n",
    "        plt.plot([x1, x2], [y1, y2], 'r')\n",
    "    elif y1 < y2:\n",
    "        plt.plot([x1, x2], [y1, y2], 'g')\n",
    "    else:\n",
    "        plt.plot([x1, x2], [y1, y2], 'b')\n",
    "plt.title(\"Facebook\")\n",
    "\n",
    "plt.subplot(2,3,4)\n",
    "x = range(len(stock_data['Adj Close']['MSFT'].pct_change()))\n",
    "y = stock_data['Adj Close']['MSFT'].pct_change()\n",
    "for x1, x2, y1,y2 in zip(x, x[1:], y, y[1:]):\n",
    "    if y1 > y2:\n",
    "        plt.plot([x1, x2], [y1, y2], 'r')\n",
    "    elif y1 < y2:\n",
    "        plt.plot([x1, x2], [y1, y2], 'g')\n",
    "    else:\n",
    "        plt.plot([x1, x2], [y1, y2], 'b')\n",
    "plt.title(\"Microsoft\")\n",
    "\n",
    "plt.subplot(2,3,5)\n",
    "x = range(len(stock_data['Adj Close']['GOOG'].pct_change()))\n",
    "y = stock_data['Adj Close']['GOOG'].pct_change()\n",
    "for x1, x2, y1,y2 in zip(x, x[1:], y, y[1:]):\n",
    "    if y1 > y2:\n",
    "        plt.plot([x1, x2], [y1, y2], 'r')\n",
    "    elif y1 < y2:\n",
    "        plt.plot([x1, x2], [y1, y2], 'g')\n",
    "    else:\n",
    "        plt.plot([x1, x2], [y1, y2], 'b')\n",
    "plt.title(\"Google\")\n",
    "\n",
    "plt.tight_layout()\n",
    "plt.show()"
   ]
  },
  {
   "cell_type": "markdown",
   "metadata": {},
   "source": [
    "### The Mean of Daily Simple Rate of Return"
   ]
  },
  {
   "cell_type": "code",
   "execution_count": 8,
   "metadata": {
    "ExecuteTime": {
     "end_time": "2019-09-20T17:50:45.153005Z",
     "start_time": "2019-09-20T17:50:45.142751Z"
    }
   },
   "outputs": [
    {
     "data": {
      "text/plain": [
       "<matplotlib.axes._subplots.AxesSubplot at 0x1a229388d0>"
      ]
     },
     "execution_count": 8,
     "metadata": {},
     "output_type": "execute_result"
    },
    {
     "data": {
      "image/png": "[encoded data removed]",
      "text/plain": [
       "<Figure size 432x288 with 1 Axes>"
      ]
     },
     "metadata": {
      "needs_background": "light"
     },
     "output_type": "display_data"
    }
   ],
   "source": [
    "# calculate mean rate of return\n",
    "mean_return_d = stock_data['Adj Close'].pct_change().mean()\n",
    "\n",
    "#bar chart using pandas\n",
    "mean_return_d.plot.bar(title='The mean daily simple rate of return using Pandas', \n",
    "                       color=[\"#A3AAAE\",\"#FF9900\",\"#3B5998\",\"#3cba54\",\"#F34F1C\"])"
   ]
  },
  {
   "cell_type": "code",
   "execution_count": 54,
   "metadata": {},
   "outputs": [
    {
     "data": {
      "image/png": "[encoded data removed]",
      "text/plain": [
       "<Figure size 432x288 with 1 Axes>"
      ]
     },
     "metadata": {},
     "output_type": "display_data"
    }
   ],
   "source": [
    "#plotting a bar chart using matpotlib\n",
    "plt.bar(stock_data['Adj Close'].columns,mean_return_d,color=[\"#A3AAAE\",\"#FF9900\",\"#3B5998\",\"#3cba54\",\"#F34F1C\"])\n",
    "\n",
    "plt.title('The mean daily simple rate of return using Matplotlib')\n",
    "\n",
    "plt.show()"
   ]
  },
  {
   "cell_type": "code",
   "execution_count": 19,
   "metadata": {},
   "outputs": [
    {
     "name": "stdout",
     "output_type": "stream",
     "text": [
      "Based on the mean rate of return Facebook would be the best option to invest in. It has  the highest mean simple rate of return over the evaluated period\n"
     ]
    }
   ],
   "source": [
    "print('Based on the mean rate of return Facebook would be the best option to invest in. It has  the highest mean simple rate of return over the evaluated period')"
   ]
  },
  {
   "cell_type": "markdown",
   "metadata": {},
   "source": [
    "### The variance"
   ]
  },
  {
   "cell_type": "code",
   "execution_count": 55,
   "metadata": {
    "ExecuteTime": {
     "end_time": "2019-09-20T17:55:30.943434Z",
     "start_time": "2019-09-20T17:55:30.796988Z"
    }
   },
   "outputs": [
    {
     "data": {
      "image/png": "[encoded data removed]",
      "text/plain": [
       "<Figure size 432x288 with 1 Axes>"
      ]
     },
     "metadata": {},
     "output_type": "display_data"
    }
   ],
   "source": [
    "plt.bar(stock_data['Adj Close'].columns,stock_data['Adj Close'].pct_change().var(),color=[\"#A3AAAE\",\"#FF9900\",\"#3B5998\",\"#3cba54\",\"#F34F1C\"])\n",
    "\n",
    "plt.title('The variance of Tech Stocks')\n",
    "\n",
    "plt.show()"
   ]
  },
  {
   "cell_type": "code",
   "execution_count": 21,
   "metadata": {},
   "outputs": [
    {
     "name": "stdout",
     "output_type": "stream",
     "text": [
      "Based on variance Facebook would be the riskiest to invest in, since it has the highest variance\n"
     ]
    }
   ],
   "source": [
    "print('Based on variance Facebook would be the riskiest to invest in, since it has the highest variance')"
   ]
  },
  {
   "cell_type": "markdown",
   "metadata": {},
   "source": [
    "### The standard deviation"
   ]
  },
  {
   "cell_type": "code",
   "execution_count": 56,
   "metadata": {
    "ExecuteTime": {
     "end_time": "2019-09-20T17:57:35.824949Z",
     "start_time": "2019-09-20T17:57:35.725823Z"
    }
   },
   "outputs": [
    {
     "data": {
      "image/png": "[encoded data removed]",
      "text/plain": [
       "<Figure size 432x288 with 1 Axes>"
      ]
     },
     "metadata": {},
     "output_type": "display_data"
    }
   ],
   "source": [
    "plt.bar(stock_data['Adj Close'].columns,stock_data['Adj Close'].pct_change().std(),color=[\"#A3AAAE\",\"#FF9900\",\"#3B5998\",\"#3cba54\",\"#F34F1C\"])\n",
    "\n",
    "plt.title('The Standard Deviation of Tech Stocks')\n",
    "\n",
    "plt.show()"
   ]
  },
  {
   "cell_type": "code",
   "execution_count": 24,
   "metadata": {
    "ExecuteTime": {
     "end_time": "2019-09-20T18:20:15.272923Z",
     "start_time": "2019-09-20T18:20:15.108312Z"
    }
   },
   "outputs": [
    {
     "name": "stdout",
     "output_type": "stream",
     "text": [
      "Based on all availible information I would choose Microsoft. It has the least standard deviation and it comes second in terms of daily returns\n"
     ]
    }
   ],
   "source": [
    "print('Based on all availible information I would choose Microsoft. It has the least standard deviation and it comes second in terms of daily returns')"
   ]
  },
  {
   "cell_type": "markdown",
   "metadata": {},
   "source": [
    "### Correlation"
   ]
  },
  {
   "cell_type": "code",
   "execution_count": 57,
   "metadata": {
    "ExecuteTime": {
     "end_time": "2019-09-20T18:20:31.790079Z",
     "start_time": "2019-09-20T18:20:31.774044Z"
    }
   },
   "outputs": [
    {
     "data": {
      "text/html": [
       "<div>\n",
       "<style scoped>\n",
       "    .dataframe tbody tr th:only-of-type {\n",
       "        vertical-align: middle;\n",
       "    }\n",
       "\n",
       "    .dataframe tbody tr th {\n",
       "        vertical-align: top;\n",
       "    }\n",
       "\n",
       "    .dataframe thead th {\n",
       "        text-align: right;\n",
       "    }\n",
       "</style>\n",
       "<table border=\"1\" class=\"dataframe\">\n",
       "  <thead>\n",
       "    <tr style=\"text-align: right;\">\n",
       "      <th>Symbols</th>\n",
       "      <th>AAPL</th>\n",
       "      <th>AMZN</th>\n",
       "      <th>FB</th>\n",
       "      <th>GOOG</th>\n",
       "      <th>MSFT</th>\n",
       "    </tr>\n",
       "    <tr>\n",
       "      <th>Symbols</th>\n",
       "      <th></th>\n",
       "      <th></th>\n",
       "      <th></th>\n",
       "      <th></th>\n",
       "      <th></th>\n",
       "    </tr>\n",
       "  </thead>\n",
       "  <tbody>\n",
       "    <tr>\n",
       "      <th>AAPL</th>\n",
       "      <td>1.000000</td>\n",
       "      <td>0.610110</td>\n",
       "      <td>0.438760</td>\n",
       "      <td>0.569773</td>\n",
       "      <td>0.652943</td>\n",
       "    </tr>\n",
       "    <tr>\n",
       "      <th>AMZN</th>\n",
       "      <td>0.610110</td>\n",
       "      <td>1.000000</td>\n",
       "      <td>0.572073</td>\n",
       "      <td>0.721504</td>\n",
       "      <td>0.731493</td>\n",
       "    </tr>\n",
       "    <tr>\n",
       "      <th>FB</th>\n",
       "      <td>0.438760</td>\n",
       "      <td>0.572073</td>\n",
       "      <td>1.000000</td>\n",
       "      <td>0.633440</td>\n",
       "      <td>0.454094</td>\n",
       "    </tr>\n",
       "    <tr>\n",
       "      <th>GOOG</th>\n",
       "      <td>0.569773</td>\n",
       "      <td>0.721504</td>\n",
       "      <td>0.633440</td>\n",
       "      <td>1.000000</td>\n",
       "      <td>0.636987</td>\n",
       "    </tr>\n",
       "    <tr>\n",
       "      <th>MSFT</th>\n",
       "      <td>0.652943</td>\n",
       "      <td>0.731493</td>\n",
       "      <td>0.454094</td>\n",
       "      <td>0.636987</td>\n",
       "      <td>1.000000</td>\n",
       "    </tr>\n",
       "  </tbody>\n",
       "</table>\n",
       "</div>"
      ],
      "text/plain": [
       "Symbols      AAPL      AMZN        FB      GOOG      MSFT\n",
       "Symbols                                                  \n",
       "AAPL     1.000000  0.610110  0.438760  0.569773  0.652943\n",
       "AMZN     0.610110  1.000000  0.572073  0.721504  0.731493\n",
       "FB       0.438760  0.572073  1.000000  0.633440  0.454094\n",
       "GOOG     0.569773  0.721504  0.633440  1.000000  0.636987\n",
       "MSFT     0.652943  0.731493  0.454094  0.636987  1.000000"
      ]
     },
     "execution_count": 57,
     "metadata": {},
     "output_type": "execute_result"
    }
   ],
   "source": [
    "stock_data['Adj Close'].pct_change().corr()"
   ]
  },
  {
   "cell_type": "code",
   "execution_count": 84,
   "metadata": {},
   "outputs": [
    {
     "data": {
      "image/png": "[encoded data removed]",
      "text/plain": [
       "<Figure size 842.4x595.44 with 2 Axes>"
      ]
     },
     "metadata": {},
     "output_type": "display_data"
    }
   ],
   "source": [
    "import seaborn as sns\n",
    "\n",
    "# build heatmap using seaborn library\n",
    "\n",
    "sns.set(rc={'figure.figsize':(11.7,8.27)})\n",
    "sns.heatmap(data=stock_data['Adj Close'].pct_change().corr(),annot=True,cmap='Blues')\n",
    "#sns.set_style(\"darkgrid\")\n",
    "plt.title('Correlation between Tech Stocks',fontsize=20, y=1.2)\n",
    "plt.ylabel('')    \n",
    "plt.xlabel('')\n",
    "plt.show()"
   ]
  },
  {
   "cell_type": "code",
   "execution_count": 85,
   "metadata": {},
   "outputs": [
    {
     "name": "stdout",
     "output_type": "stream",
     "text": [
      "All companies are positive correlates, which is logical since they represent the same industry\n",
      "To diversify portfolio:\n",
      "Microsoft is highly correlated with Amazon, so it would not be the best choice.\n",
      "Microsoft and Facebook have the least correlation, and Facebook has the highest rate of return. For the riskier investor that would be the best option.\n",
      "Alternatively, Apple could be chosen. Google and Apple have close variations, but Apple has a significantly higher return.\n"
     ]
    }
   ],
   "source": [
    "print(\"\"\"All companies are positive correlates, which is logical since they represent the same industry\n",
    "To diversify portfolio:\n",
    "Microsoft is highly correlated with Amazon, so it would not be the best choice.\n",
    "Microsoft and Facebook have the least correlation, and Facebook has the highest rate of return. For the riskier investor that would be the best option.\n",
    "Alternatively, Apple could be chosen. Google and Apple have close variations, but Apple has a significantly higher return.\"\"\")"
   ]
  },
  {
   "cell_type": "markdown",
   "metadata": {},
   "source": [
    "## Microsoft Portfolio Visualisation"
   ]
  },
  {
   "cell_type": "code",
   "execution_count": 40,
   "metadata": {},
   "outputs": [],
   "source": [
    "import plotly.graph_objects as go\n",
    "# Retrieve Data\n",
    "msft = web.get_data_yahoo('MSFT', start_date, end_date)\n",
    "\n",
    "#accesing dates\n",
    "df_dates=msft.index.to_frame().reset_index(drop=True)"
   ]
  },
  {
   "cell_type": "code",
   "execution_count": 48,
   "metadata": {},
   "outputs": [
    {
     "data": {
      "application/vnd.plotly.v1+json": {
       "config": {
        "plotlyServerURL": "https://plot.ly"
       },
       "data": [
        {
         "close": [
          101.12000274658203,
          97.4000015258789,
          101.93000030517578,
          102.05999755859375,
          102.80000305175781,
          104.2699966430664,
          103.5999984741211,
          102.80000305175781,
          102.05000305175781,
          105.01000213623047,
          105.37999725341797,
          106.12000274658203,
          107.70999908447266,
          105.68000030517578,
          106.70999908447266,
          106.19999694824219,
          107.16999816894531,
          105.08000183105469,
          102.94000244140625,
          106.37999725341797,
          104.43000030517578,
          102.77999877929688,
          105.73999786376953,
          107.22000122070312,
          106.02999877929688,
          105.2699966430664,
          105.66999816894531,
          105.25,
          106.88999938964844,
          106.80999755859375,
          106.9000015258789,
          108.22000122070312,
          108.16999816894531,
          107.1500015258789,
          109.41000366210938,
          110.97000122070312,
          111.58999633789062,
          112.36000061035156,
          112.16999816894531,
          112.02999877929688,
          112.52999877929688,
          112.26000213623047,
          111.69999694824219,
          111.75,
          110.38999938964844,
          110.51000213623047,
          112.83000183105469,
          113.62000274658203,
          114.5,
          114.58999633789062,
          115.91000366210938,
          117.56999969482422,
          117.6500015258789,
          117.5199966430664,
          120.22000122070312,
          117.05000305175781,
          117.66000366210938,
          117.91000366210938,
          116.7699966430664,
          116.93000030517578,
          117.94000244140625,
          119.0199966430664,
          119.19000244140625,
          119.97000122070312,
          119.36000061035156,
          119.88999938964844,
          119.93000030517578,
          119.27999877929688,
          120.19000244140625,
          120.33000183105469,
          120.94999694824219,
          121.05000305175781,
          120.7699966430664,
          121.7699966430664,
          123.37000274658203,
          123.76000213623047,
          125.44000244140625,
          125.01000213623047,
          129.14999389648438,
          129.88999938964844,
          129.77000427246094,
          130.60000610351562,
          127.87999725341797,
          126.20999908447266,
          128.89999389648438,
          128.14999389648438,
          125.5199966430664,
          125.51000213623047,
          125.5,
          127.12999725341797,
          123.3499984741211,
          124.7300033569336,
          126.0199966430664,
          128.92999267578125,
          128.07000732421875,
          126.22000122070312,
          126.9000015258789,
          127.66999816894531,
          126.18000030517578,
          126.23999786376953,
          126.16000366210938,
          124.94000244140625,
          125.7300033569336,
          123.68000030517578,
          119.83999633789062,
          123.16000366210938,
          125.83000183105469,
          127.81999969482422,
          131.39999389648438,
          132.60000610351562,
          132.10000610351562,
          131.49000549316406,
          132.32000732421875,
          132.4499969482422,
          132.85000610351562,
          135.16000366210938,
          135.69000244140625,
          136.9499969482422,
          136.97000122070312,
          137.77999877929688,
          133.42999267578125,
          133.92999267578125,
          134.14999389648438,
          133.9600067138672,
          135.67999267578125
         ],
         "high": [
          101.75,
          100.19000244140625,
          102.51000213623047,
          103.2699966430664,
          103.97000122070312,
          104.87999725341797,
          103.75,
          103.44000244140625,
          102.87000274658203,
          105.05000305175781,
          106.26000213623047,
          106.62999725341797,
          107.9000015258789,
          107.0999984741211,
          107.04000091552734,
          107,
          107.87999725341797,
          106.4800033569336,
          104.97000122070312,
          106.37999725341797,
          105.22000122070312,
          104.0999984741211,
          105.80000305175781,
          107.2699966430664,
          107,
          105.58999633789062,
          105.77999877929688,
          106.58000183105469,
          107.13999938964844,
          107.77999877929688,
          107.29000091552734,
          108.30000305175781,
          108.66000366210938,
          107.94000244140625,
          109.4800033569336,
          111.19999694824219,
          112.18000030517578,
          113.23999786376953,
          112.36000061035156,
          112.87999725341797,
          113.0199966430664,
          113.25,
          112.38999938964844,
          112.66000366210938,
          111.55000305175781,
          110.70999908447266,
          112.94999694824219,
          113.98999786376953,
          115,
          115.19999694824219,
          117.25,
          117.61000061035156,
          118.44000244140625,
          118.75,
          120.81999969482422,
          119.58999633789062,
          118.01000213623047,
          118.70999908447266,
          118.20999908447266,
          117.58000183105469,
          118.31999969482422,
          119.11000061035156,
          119.4800033569336,
          120.43000030517578,
          120.2300033569336,
          120.2300033569336,
          120.0199966430664,
          119.54000091552734,
          120.3499984741211,
          120.8499984741211,
          120.9800033569336,
          121.58000183105469,
          121.6500015258789,
          121.8499984741211,
          123.5199966430664,
          124,
          125.58000183105469,
          125.8499984741211,
          131.3699951171875,
          130.52000427246094,
          130.17999267578125,
          130.6999969482422,
          130.64999389648438,
          128,
          129.42999267578125,
          128.55999755859375,
          127.18000030517578,
          126.37000274658203,
          125.79000091552734,
          127.93000030517578,
          125.55000305175781,
          125.87999725341797,
          126.70999908447266,
          129.3800048828125,
          130.4600067138672,
          127.58999633789062,
          127.52999877929688,
          128.24000549316406,
          126.29000091552734,
          127.41999816894531,
          128,
          125.38999938964844,
          125.76000213623047,
          124.62000274658203,
          124.37000274658203,
          123.27999877929688,
          125.87000274658203,
          127.97000122070312,
          132.25,
          134.0800018310547,
          134.24000549316406,
          131.97000122070312,
          133,
          133.7899932861328,
          133.72999572753906,
          135.24000549316406,
          135.92999267578125,
          137.66000366210938,
          137.72999572753906,
          138.39999389648438,
          137.58999633789062,
          135.74000549316406,
          134.7100067138672,
          134.60000610351562,
          136.6999969482422
         ],
         "low": [
          98.94000244140625,
          97.19999694824219,
          98.93000030517578,
          100.9800033569336,
          101.70999908447266,
          103.23999786376953,
          102.37999725341797,
          101.63999938964844,
          101.26000213623047,
          101.87999725341797,
          104.95999908447266,
          104.76000213623047,
          105.91000366210938,
          104.86000061035156,
          105.33999633789062,
          105.33999633789062,
          106.19999694824219,
          104.66000366210938,
          102.16999816894531,
          104.33000183105469,
          103.18000030517578,
          102.3499984741211,
          102.7699966430664,
          105.95999908447266,
          105.52999877929688,
          104.29000091552734,
          104.26000213623047,
          104.97000122070312,
          105.4800033569336,
          106.70999908447266,
          105.66000366210938,
          107.36000061035156,
          107.77999877929688,
          106.29000091552734,
          106.87000274658203,
          109.81999969482422,
          111.26000213623047,
          111.16999816894531,
          110.87999725341797,
          111.7300033569336,
          111.66999816894531,
          110.80000305175781,
          111.2300033569336,
          111.43000030517578,
          109.87000274658203,
          108.80000305175781,
          110.9800033569336,
          112.6500015258789,
          113.77999877929688,
          114.33000183105469,
          114.58999633789062,
          116.05000305175781,
          116.98999786376953,
          116.70999908447266,
          117.08999633789062,
          117.04000091552734,
          116.31999969482422,
          116.8499984741211,
          115.5199966430664,
          116.12999725341797,
          116.95999908447266,
          118.0999984741211,
          118.5199966430664,
          119.1500015258789,
          118.37999725341797,
          119.37000274658203,
          118.63999938964844,
          118.58000183105469,
          119.54000091552734,
          119.91999816894531,
          120.37000274658203,
          120.56999969482422,
          120.0999984741211,
          120.54000091552734,
          121.30000305175781,
          122.56999969482422,
          123.83000183105469,
          124.5199966430664,
          128.8300018310547,
          129.02000427246094,
          129.35000610351562,
          129.38999938964844,
          127.69999694824219,
          125.5199966430664,
          127.25,
          126.11000061035156,
          124.22000122070312,
          124.75,
          123.56999969482422,
          123.81999969482422,
          123.04000091552734,
          123.69999694824219,
          123.69999694824219,
          126.45999908447266,
          127.91999816894531,
          125.76000213623047,
          126.58000183105469,
          126.5199966430664,
          124.73999786376953,
          125.97000122070312,
          126.05000305175781,
          124.04000091552734,
          124.77999877929688,
          123.31999969482422,
          119.01000213623047,
          120.6500015258789,
          124.20999908447266,
          125.5999984741211,
          128.25999450683594,
          132,
          131.27999877929688,
          130.7100067138672,
          131.55999755859375,
          131.63999938964844,
          132.52999877929688,
          133.57000732421875,
          133.80999755859375,
          135.72000122070312,
          136.4600067138672,
          137,
          132.72999572753906,
          133.60000610351562,
          133.50999450683594,
          133.16000366210938,
          134.97000122070312
         ],
         "name": "MSFT",
         "open": [
          99.55000305175781,
          100.0999984741211,
          99.72000122070312,
          101.63999938964844,
          103.04000091552734,
          103.86000061035156,
          103.22000122070312,
          103.19000244140625,
          101.9000015258789,
          102.51000213623047,
          105.26000213623047,
          105,
          107.45999908447266,
          106.75,
          106.12000274658203,
          106.86000061035156,
          107.23999786376953,
          106.26000213623047,
          104.87999725341797,
          104.62000274658203,
          103.80000305175781,
          103.77999877929688,
          102.87000274658203,
          106.05999755859375,
          107,
          105.19000244140625,
          104.38999938964844,
          106.19999694824219,
          106.13999938964844,
          107.5,
          106.30999755859375,
          107.91000366210938,
          107.79000091552734,
          107.86000061035156,
          106.9000015258789,
          110.05000305175781,
          111.76000213623047,
          111.26000213623047,
          111.69000244140625,
          112.04000091552734,
          112.88999938964844,
          113.0199966430664,
          112.25,
          111.87000274658203,
          111.4000015258789,
          109.16000366210938,
          110.98999786376953,
          112.81999969482422,
          114.12999725341797,
          114.54000091552734,
          115.33999633789062,
          116.16999816894531,
          118.08999633789062,
          117.38999938964844,
          117.13999938964844,
          119.5,
          116.55999755859375,
          118.62000274658203,
          117.87999725341797,
          117.44000244140625,
          118.06999969482422,
          118.94999694824219,
          119.05999755859375,
          119.86000061035156,
          120.0999984741211,
          119.38999938964844,
          119.80999755859375,
          118.62999725341797,
          119.76000213623047,
          120.54000091552734,
          120.63999938964844,
          120.94000244140625,
          121.63999938964844,
          121.23999786376953,
          122.19000244140625,
          122.62000274658203,
          124.0999984741211,
          125.79000091552734,
          130.05999755859375,
          129.6999969482422,
          129.89999389648438,
          129.80999755859375,
          130.52999877929688,
          127.9800033569336,
          127.36000061035156,
          126.38999938964844,
          126.45999908447266,
          125.44000244140625,
          124.29000091552734,
          124.91000366210938,
          124.11000061035156,
          123.87000274658203,
          124.26000213623047,
          126.75,
          128.30999755859375,
          126.5199966430664,
          127.43000030517578,
          126.62000274658203,
          126.19999694824219,
          126.91000366210938,
          126.9800033569336,
          125.37999725341797,
          125.26000213623047,
          124.2300033569336,
          123.8499984741211,
          121.27999877929688,
          124.94999694824219,
          126.44000244140625,
          129.19000244140625,
          132.39999389648438,
          133.8800048828125,
          131.39999389648438,
          131.97999572753906,
          132.25999450683594,
          132.6300048828125,
          134.19000244140625,
          135,
          137.4499969482422,
          136.5800018310547,
          137,
          137.25,
          134.35000610351562,
          134.13999938964844,
          134.57000732421875,
          136.6300048828125
         ],
         "showlegend": false,
         "type": "candlestick",
         "x": [
          "2019-01-02T00:00:00",
          "2019-01-03T00:00:00",
          "2019-01-04T00:00:00",
          "2019-01-07T00:00:00",
          "2019-01-08T00:00:00",
          "2019-01-09T00:00:00",
          "2019-01-10T00:00:00",
          "2019-01-11T00:00:00",
          "2019-01-14T00:00:00",
          "2019-01-15T00:00:00",
          "2019-01-16T00:00:00",
          "2019-01-17T00:00:00",
          "2019-01-18T00:00:00",
          "2019-01-22T00:00:00",
          "2019-01-23T00:00:00",
          "2019-01-24T00:00:00",
          "2019-01-25T00:00:00",
          "2019-01-28T00:00:00",
          "2019-01-29T00:00:00",
          "2019-01-30T00:00:00",
          "2019-01-31T00:00:00",
          "2019-02-01T00:00:00",
          "2019-02-04T00:00:00",
          "2019-02-05T00:00:00",
          "2019-02-06T00:00:00",
          "2019-02-07T00:00:00",
          "2019-02-08T00:00:00",
          "2019-02-11T00:00:00",
          "2019-02-12T00:00:00",
          "2019-02-13T00:00:00",
          "2019-02-14T00:00:00",
          "2019-02-15T00:00:00",
          "2019-02-19T00:00:00",
          "2019-02-20T00:00:00",
          "2019-02-21T00:00:00",
          "2019-02-22T00:00:00",
          "2019-02-25T00:00:00",
          "2019-02-26T00:00:00",
          "2019-02-27T00:00:00",
          "2019-02-28T00:00:00",
          "2019-03-01T00:00:00",
          "2019-03-04T00:00:00",
          "2019-03-05T00:00:00",
          "2019-03-06T00:00:00",
          "2019-03-07T00:00:00",
          "2019-03-08T00:00:00",
          "2019-03-11T00:00:00",
          "2019-03-12T00:00:00",
          "2019-03-13T00:00:00",
          "2019-03-14T00:00:00",
          "2019-03-15T00:00:00",
          "2019-03-18T00:00:00",
          "2019-03-19T00:00:00",
          "2019-03-20T00:00:00",
          "2019-03-21T00:00:00",
          "2019-03-22T00:00:00",
          "2019-03-25T00:00:00",
          "2019-03-26T00:00:00",
          "2019-03-27T00:00:00",
          "2019-03-28T00:00:00",
          "2019-03-29T00:00:00",
          "2019-04-01T00:00:00",
          "2019-04-02T00:00:00",
          "2019-04-03T00:00:00",
          "2019-04-04T00:00:00",
          "2019-04-05T00:00:00",
          "2019-04-08T00:00:00",
          "2019-04-09T00:00:00",
          "2019-04-10T00:00:00",
          "2019-04-11T00:00:00",
          "2019-04-12T00:00:00",
          "2019-04-15T00:00:00",
          "2019-04-16T00:00:00",
          "2019-04-17T00:00:00",
          "2019-04-18T00:00:00",
          "2019-04-22T00:00:00",
          "2019-04-23T00:00:00",
          "2019-04-24T00:00:00",
          "2019-04-25T00:00:00",
          "2019-04-26T00:00:00",
          "2019-04-29T00:00:00",
          "2019-04-30T00:00:00",
          "2019-05-01T00:00:00",
          "2019-05-02T00:00:00",
          "2019-05-03T00:00:00",
          "2019-05-06T00:00:00",
          "2019-05-07T00:00:00",
          "2019-05-08T00:00:00",
          "2019-05-09T00:00:00",
          "2019-05-10T00:00:00",
          "2019-05-13T00:00:00",
          "2019-05-14T00:00:00",
          "2019-05-15T00:00:00",
          "2019-05-16T00:00:00",
          "2019-05-17T00:00:00",
          "2019-05-20T00:00:00",
          "2019-05-21T00:00:00",
          "2019-05-22T00:00:00",
          "2019-05-23T00:00:00",
          "2019-05-24T00:00:00",
          "2019-05-28T00:00:00",
          "2019-05-29T00:00:00",
          "2019-05-30T00:00:00",
          "2019-05-31T00:00:00",
          "2019-06-03T00:00:00",
          "2019-06-04T00:00:00",
          "2019-06-05T00:00:00",
          "2019-06-06T00:00:00",
          "2019-06-07T00:00:00",
          "2019-06-10T00:00:00",
          "2019-06-11T00:00:00",
          "2019-06-12T00:00:00",
          "2019-06-13T00:00:00",
          "2019-06-14T00:00:00",
          "2019-06-17T00:00:00",
          "2019-06-18T00:00:00",
          "2019-06-19T00:00:00",
          "2019-06-20T00:00:00",
          "2019-06-21T00:00:00",
          "2019-06-24T00:00:00",
          "2019-06-25T00:00:00",
          "2019-06-26T00:00:00",
          "2019-06-27T00:00:00",
          "2019-06-28T00:00:00",
          "2019-07-01T00:00:00"
         ]
        }
       ],
       "layout": {
        "template": {
         "data": {
          "bar": [
           {
            "error_x": {
             "color": "#2a3f5f"
            },
            "error_y": {
             "color": "#2a3f5f"
            },
            "marker": {
             "line": {
              "color": "#E5ECF6",
              "width": 0.5
             }
            },
            "type": "bar"
           }
          ],
          "barpolar": [
           {
            "marker": {
             "line": {
              "color": "#E5ECF6",
              "width": 0.5
             }
            },
            "type": "barpolar"
           }
          ],
          "carpet": [
           {
            "aaxis": {
             "endlinecolor": "#2a3f5f",
             "gridcolor": "white",
             "linecolor": "white",
             "minorgridcolor": "white",
             "startlinecolor": "#2a3f5f"
            },
            "baxis": {
             "endlinecolor": "#2a3f5f",
             "gridcolor": "white",
             "linecolor": "white",
             "minorgridcolor": "white",
             "startlinecolor": "#2a3f5f"
            },
            "type": "carpet"
           }
          ],
          "choropleth": [
           {
            "colorbar": {
             "outlinewidth": 0,
             "ticks": ""
            },
            "type": "choropleth"
           }
          ],
          "contour": [
           {
            "colorbar": {
             "outlinewidth": 0,
             "ticks": ""
            },
            "colorscale": [
             [
              0,
              "#0d0887"
             ],
             [
              0.1111111111111111,
              "#46039f"
             ],
             [
              0.2222222222222222,
              "#7201a8"
             ],
             [
              0.3333333333333333,
              "#9c179e"
             ],
             [
              0.4444444444444444,
              "#bd3786"
             ],
             [
              0.5555555555555556,
              "#d8576b"
             ],
             [
              0.6666666666666666,
              "#ed7953"
             ],
             [
              0.7777777777777778,
              "#fb9f3a"
             ],
             [
              0.8888888888888888,
              "#fdca26"
             ],
             [
              1,
              "#f0f921"
             ]
            ],
            "type": "contour"
           }
          ],
          "contourcarpet": [
           {
            "colorbar": {
             "outlinewidth": 0,
             "ticks": ""
            },
            "type": "contourcarpet"
           }
          ],
          "heatmap": [
           {
            "colorbar": {
             "outlinewidth": 0,
             "ticks": ""
            },
            "colorscale": [
             [
              0,
              "#0d0887"
             ],
             [
              0.1111111111111111,
              "#46039f"
             ],
             [
              0.2222222222222222,
              "#7201a8"
             ],
             [
              0.3333333333333333,
              "#9c179e"
             ],
             [
              0.4444444444444444,
              "#bd3786"
             ],
             [
              0.5555555555555556,
              "#d8576b"
             ],
             [
              0.6666666666666666,
              "#ed7953"
             ],
             [
              0.7777777777777778,
              "#fb9f3a"
             ],
             [
              0.8888888888888888,
              "#fdca26"
             ],
             [
              1,
              "#f0f921"
             ]
            ],
            "type": "heatmap"
           }
          ],
          "heatmapgl": [
           {
            "colorbar": {
             "outlinewidth": 0,
             "ticks": ""
            },
            "colorscale": [
             [
              0,
              "#0d0887"
             ],
             [
              0.1111111111111111,
              "#46039f"
             ],
             [
              0.2222222222222222,
              "#7201a8"
             ],
             [
              0.3333333333333333,
              "#9c179e"
             ],
             [
              0.4444444444444444,
              "#bd3786"
             ],
             [
              0.5555555555555556,
              "#d8576b"
             ],
             [
              0.6666666666666666,
              "#ed7953"
             ],
             [
              0.7777777777777778,
              "#fb9f3a"
             ],
             [
              0.8888888888888888,
              "#fdca26"
             ],
             [
              1,
              "#f0f921"
             ]
            ],
            "type": "heatmapgl"
           }
          ],
          "histogram": [
           {
            "marker": {
             "colorbar": {
              "outlinewidth": 0,
              "ticks": ""
             }
            },
            "type": "histogram"
           }
          ],
          "histogram2d": [
           {
            "colorbar": {
             "outlinewidth": 0,
             "ticks": ""
            },
            "colorscale": [
             [
              0,
              "#0d0887"
             ],
             [
              0.1111111111111111,
              "#46039f"
             ],
             [
              0.2222222222222222,
              "#7201a8"
             ],
             [
              0.3333333333333333,
              "#9c179e"
             ],
             [
              0.4444444444444444,
              "#bd3786"
             ],
             [
              0.5555555555555556,
              "#d8576b"
             ],
             [
              0.6666666666666666,
              "#ed7953"
             ],
             [
              0.7777777777777778,
              "#fb9f3a"
             ],
             [
              0.8888888888888888,
              "#fdca26"
             ],
             [
              1,
              "#f0f921"
             ]
            ],
            "type": "histogram2d"
           }
          ],
          "histogram2dcontour": [
           {
            "colorbar": {
             "outlinewidth": 0,
             "ticks": ""
            },
            "colorscale": [
             [
              0,
              "#0d0887"
             ],
             [
              0.1111111111111111,
              "#46039f"
             ],
             [
              0.2222222222222222,
              "#7201a8"
             ],
             [
              0.3333333333333333,
              "#9c179e"
             ],
             [
              0.4444444444444444,
              "#bd3786"
             ],
             [
              0.5555555555555556,
              "#d8576b"
             ],
             [
              0.6666666666666666,
              "#ed7953"
             ],
             [
              0.7777777777777778,
              "#fb9f3a"
             ],
             [
              0.8888888888888888,
              "#fdca26"
             ],
             [
              1,
              "#f0f921"
             ]
            ],
            "type": "histogram2dcontour"
           }
          ],
          "mesh3d": [
           {
            "colorbar": {
             "outlinewidth": 0,
             "ticks": ""
            },
            "type": "mesh3d"
           }
          ],
          "parcoords": [
           {
            "line": {
             "colorbar": {
              "outlinewidth": 0,
              "ticks": ""
             }
            },
            "type": "parcoords"
           }
          ],
          "pie": [
           {
            "automargin": true,
            "type": "pie"
           }
          ],
          "scatter": [
           {
            "marker": {
             "colorbar": {
              "outlinewidth": 0,
              "ticks": ""
             }
            },
            "type": "scatter"
           }
          ],
          "scatter3d": [
           {
            "line": {
             "colorbar": {
              "outlinewidth": 0,
              "ticks": ""
             }
            },
            "marker": {
             "colorbar": {
              "outlinewidth": 0,
              "ticks": ""
             }
            },
            "type": "scatter3d"
           }
          ],
          "scattercarpet": [
           {
            "marker": {
             "colorbar": {
              "outlinewidth": 0,
              "ticks": ""
             }
            },
            "type": "scattercarpet"
           }
          ],
          "scattergeo": [
           {
            "marker": {
             "colorbar": {
              "outlinewidth": 0,
              "ticks": ""
             }
            },
            "type": "scattergeo"
           }
          ],
          "scattergl": [
           {
            "marker": {
             "colorbar": {
              "outlinewidth": 0,
              "ticks": ""
             }
            },
            "type": "scattergl"
           }
          ],
          "scattermapbox": [
           {
            "marker": {
             "colorbar": {
              "outlinewidth": 0,
              "ticks": ""
             }
            },
            "type": "scattermapbox"
           }
          ],
          "scatterpolar": [
           {
            "marker": {
             "colorbar": {
              "outlinewidth": 0,
              "ticks": ""
             }
            },
            "type": "scatterpolar"
           }
          ],
          "scatterpolargl": [
           {
            "marker": {
             "colorbar": {
              "outlinewidth": 0,
              "ticks": ""
             }
            },
            "type": "scatterpolargl"
           }
          ],
          "scatterternary": [
           {
            "marker": {
             "colorbar": {
              "outlinewidth": 0,
              "ticks": ""
             }
            },
            "type": "scatterternary"
           }
          ],
          "surface": [
           {
            "colorbar": {
             "outlinewidth": 0,
             "ticks": ""
            },
            "colorscale": [
             [
              0,
              "#0d0887"
             ],
             [
              0.1111111111111111,
              "#46039f"
             ],
             [
              0.2222222222222222,
              "#7201a8"
             ],
             [
              0.3333333333333333,
              "#9c179e"
             ],
             [
              0.4444444444444444,
              "#bd3786"
             ],
             [
              0.5555555555555556,
              "#d8576b"
             ],
             [
              0.6666666666666666,
              "#ed7953"
             ],
             [
              0.7777777777777778,
              "#fb9f3a"
             ],
             [
              0.8888888888888888,
              "#fdca26"
             ],
             [
              1,
              "#f0f921"
             ]
            ],
            "type": "surface"
           }
          ],
          "table": [
           {
            "cells": {
             "fill": {
              "color": "#EBF0F8"
             },
             "line": {
              "color": "white"
             }
            },
            "header": {
             "fill": {
              "color": "#C8D4E3"
             },
             "line": {
              "color": "white"
             }
            },
            "type": "table"
           }
          ]
         },
         "layout": {
          "annotationdefaults": {
           "arrowcolor": "#2a3f5f",
           "arrowhead": 0,
           "arrowwidth": 1
          },
          "coloraxis": {
           "colorbar": {
            "outlinewidth": 0,
            "ticks": ""
           }
          },
          "colorscale": {
           "diverging": [
            [
             0,
             "#8e0152"
            ],
            [
             0.1,
             "#c51b7d"
            ],
            [
             0.2,
             "#de77ae"
            ],
            [
             0.3,
             "#f1b6da"
            ],
            [
             0.4,
             "#fde0ef"
            ],
            [
             0.5,
             "#f7f7f7"
            ],
            [
             0.6,
             "#e6f5d0"
            ],
            [
             0.7,
             "#b8e186"
            ],
            [
             0.8,
             "#7fbc41"
            ],
            [
             0.9,
             "#4d9221"
            ],
            [
             1,
             "#276419"
            ]
           ],
           "sequential": [
            [
             0,
             "#0d0887"
            ],
            [
             0.1111111111111111,
             "#46039f"
            ],
            [
             0.2222222222222222,
             "#7201a8"
            ],
            [
             0.3333333333333333,
             "#9c179e"
            ],
            [
             0.4444444444444444,
             "#bd3786"
            ],
            [
             0.5555555555555556,
             "#d8576b"
            ],
            [
             0.6666666666666666,
             "#ed7953"
            ],
            [
             0.7777777777777778,
             "#fb9f3a"
            ],
            [
             0.8888888888888888,
             "#fdca26"
            ],
            [
             1,
             "#f0f921"
            ]
           ],
           "sequentialminus": [
            [
             0,
             "#0d0887"
            ],
            [
             0.1111111111111111,
             "#46039f"
            ],
            [
             0.2222222222222222,
             "#7201a8"
            ],
            [
             0.3333333333333333,
             "#9c179e"
            ],
            [
             0.4444444444444444,
             "#bd3786"
            ],
            [
             0.5555555555555556,
             "#d8576b"
            ],
            [
             0.6666666666666666,
             "#ed7953"
            ],
            [
             0.7777777777777778,
             "#fb9f3a"
            ],
            [
             0.8888888888888888,
             "#fdca26"
            ],
            [
             1,
             "#f0f921"
            ]
           ]
          },
          "colorway": [
           "#636efa",
           "#EF553B",
           "#00cc96",
           "#ab63fa",
           "#FFA15A",
           "#19d3f3",
           "#FF6692",
           "#B6E880",
           "#FF97FF",
           "#FECB52"
          ],
          "font": {
           "color": "#2a3f5f"
          },
          "geo": {
           "bgcolor": "white",
           "lakecolor": "white",
           "landcolor": "#E5ECF6",
           "showlakes": true,
           "showland": true,
           "subunitcolor": "white"
          },
          "hoverlabel": {
           "align": "left"
          },
          "hovermode": "closest",
          "mapbox": {
           "style": "light"
          },
          "paper_bgcolor": "white",
          "plot_bgcolor": "#E5ECF6",
          "polar": {
           "angularaxis": {
            "gridcolor": "white",
            "linecolor": "white",
            "ticks": ""
           },
           "bgcolor": "#E5ECF6",
           "radialaxis": {
            "gridcolor": "white",
            "linecolor": "white",
            "ticks": ""
           }
          },
          "scene": {
           "xaxis": {
            "backgroundcolor": "#E5ECF6",
            "gridcolor": "white",
            "gridwidth": 2,
            "linecolor": "white",
            "showbackground": true,
            "ticks": "",
            "zerolinecolor": "white"
           },
           "yaxis": {
            "backgroundcolor": "#E5ECF6",
            "gridcolor": "white",
            "gridwidth": 2,
            "linecolor": "white",
            "showbackground": true,
            "ticks": "",
            "zerolinecolor": "white"
           },
           "zaxis": {
            "backgroundcolor": "#E5ECF6",
            "gridcolor": "white",
            "gridwidth": 2,
            "linecolor": "white",
            "showbackground": true,
            "ticks": "",
            "zerolinecolor": "white"
           }
          },
          "shapedefaults": {
           "line": {
            "color": "#2a3f5f"
           }
          },
          "ternary": {
           "aaxis": {
            "gridcolor": "white",
            "linecolor": "white",
            "ticks": ""
           },
           "baxis": {
            "gridcolor": "white",
            "linecolor": "white",
            "ticks": ""
           },
           "bgcolor": "#E5ECF6",
           "caxis": {
            "gridcolor": "white",
            "linecolor": "white",
            "ticks": ""
           }
          },
          "title": {
           "x": 0.05
          },
          "xaxis": {
           "automargin": true,
           "gridcolor": "white",
           "linecolor": "white",
           "ticks": "",
           "title": {
            "standoff": 15
           },
           "zerolinecolor": "white",
           "zerolinewidth": 2
          },
          "yaxis": {
           "automargin": true,
           "gridcolor": "white",
           "linecolor": "white",
           "ticks": "",
           "title": {
            "standoff": 15
           },
           "zerolinecolor": "white",
           "zerolinewidth": 2
          }
         }
        },
        "title": {
         "font": {
          "size": 15
         },
         "text": "Microsoft Candlesticks Chart"
        }
       }
      },
      "text/html": [
       "<div>\n",
       "        \n",
       "        \n",
       "            <div id=\"7a7cc0e5-49de-4911-9695-2f30ba92b781\" class=\"plotly-graph-div\" style=\"height:525px; width:100%;\"></div>\n",
       "            <script type=\"text/javascript\">\n",
       "                require([\"plotly\"], function(Plotly) {\n",
       "                    window.PLOTLYENV=window.PLOTLYENV || {};\n",
       "                    \n",
       "                if (document.getElementById(\"7a7cc0e5-49de-4911-9695-2f30ba92b781\")) {\n",
       "                    Plotly.newPlot(\n",
       "                        '7a7cc0e5-49de-4911-9695-2f30ba92b781',\n",
       "                        [{\"close\": [101.12000274658203, 97.4000015258789, 101.93000030517578, 102.05999755859375, 102.80000305175781, 104.2699966430664, 103.5999984741211, 102.80000305175781, 102.05000305175781, 105.01000213623047, 105.37999725341797, 106.12000274658203, 107.70999908447266, 105.68000030517578, 106.70999908447266, 106.19999694824219, 107.16999816894531, 105.08000183105469, 102.94000244140625, 106.37999725341797, 104.43000030517578, 102.77999877929688, 105.73999786376953, 107.22000122070312, 106.02999877929688, 105.2699966430664, 105.66999816894531, 105.25, 106.88999938964844, 106.80999755859375, 106.9000015258789, 108.22000122070312, 108.16999816894531, 107.1500015258789, 109.41000366210938, 110.97000122070312, 111.58999633789062, 112.36000061035156, 112.16999816894531, 112.02999877929688, 112.52999877929688, 112.26000213623047, 111.69999694824219, 111.75, 110.38999938964844, 110.51000213623047, 112.83000183105469, 113.62000274658203, 114.5, 114.58999633789062, 115.91000366210938, 117.56999969482422, 117.6500015258789, 117.5199966430664, 120.22000122070312, 117.05000305175781, 117.66000366210938, 117.91000366210938, 116.7699966430664, 116.93000030517578, 117.94000244140625, 119.0199966430664, 119.19000244140625, 119.97000122070312, 119.36000061035156, 119.88999938964844, 119.93000030517578, 119.27999877929688, 120.19000244140625, 120.33000183105469, 120.94999694824219, 121.05000305175781, 120.7699966430664, 121.7699966430664, 123.37000274658203, 123.76000213623047, 125.44000244140625, 125.01000213623047, 129.14999389648438, 129.88999938964844, 129.77000427246094, 130.60000610351562, 127.87999725341797, 126.20999908447266, 128.89999389648438, 128.14999389648438, 125.5199966430664, 125.51000213623047, 125.5, 127.12999725341797, 123.3499984741211, 124.7300033569336, 126.0199966430664, 128.92999267578125, 128.07000732421875, 126.22000122070312, 126.9000015258789, 127.66999816894531, 126.18000030517578, 126.23999786376953, 126.16000366210938, 124.94000244140625, 125.7300033569336, 123.68000030517578, 119.83999633789062, 123.16000366210938, 125.83000183105469, 127.81999969482422, 131.39999389648438, 132.60000610351562, 132.10000610351562, 131.49000549316406, 132.32000732421875, 132.4499969482422, 132.85000610351562, 135.16000366210938, 135.69000244140625, 136.9499969482422, 136.97000122070312, 137.77999877929688, 133.42999267578125, 133.92999267578125, 134.14999389648438, 133.9600067138672, 135.67999267578125], \"high\": [101.75, 100.19000244140625, 102.51000213623047, 103.2699966430664, 103.97000122070312, 104.87999725341797, 103.75, 103.44000244140625, 102.87000274658203, 105.05000305175781, 106.26000213623047, 106.62999725341797, 107.9000015258789, 107.0999984741211, 107.04000091552734, 107.0, 107.87999725341797, 106.4800033569336, 104.97000122070312, 106.37999725341797, 105.22000122070312, 104.0999984741211, 105.80000305175781, 107.2699966430664, 107.0, 105.58999633789062, 105.77999877929688, 106.58000183105469, 107.13999938964844, 107.77999877929688, 107.29000091552734, 108.30000305175781, 108.66000366210938, 107.94000244140625, 109.4800033569336, 111.19999694824219, 112.18000030517578, 113.23999786376953, 112.36000061035156, 112.87999725341797, 113.0199966430664, 113.25, 112.38999938964844, 112.66000366210938, 111.55000305175781, 110.70999908447266, 112.94999694824219, 113.98999786376953, 115.0, 115.19999694824219, 117.25, 117.61000061035156, 118.44000244140625, 118.75, 120.81999969482422, 119.58999633789062, 118.01000213623047, 118.70999908447266, 118.20999908447266, 117.58000183105469, 118.31999969482422, 119.11000061035156, 119.4800033569336, 120.43000030517578, 120.2300033569336, 120.2300033569336, 120.0199966430664, 119.54000091552734, 120.3499984741211, 120.8499984741211, 120.9800033569336, 121.58000183105469, 121.6500015258789, 121.8499984741211, 123.5199966430664, 124.0, 125.58000183105469, 125.8499984741211, 131.3699951171875, 130.52000427246094, 130.17999267578125, 130.6999969482422, 130.64999389648438, 128.0, 129.42999267578125, 128.55999755859375, 127.18000030517578, 126.37000274658203, 125.79000091552734, 127.93000030517578, 125.55000305175781, 125.87999725341797, 126.70999908447266, 129.3800048828125, 130.4600067138672, 127.58999633789062, 127.52999877929688, 128.24000549316406, 126.29000091552734, 127.41999816894531, 128.0, 125.38999938964844, 125.76000213623047, 124.62000274658203, 124.37000274658203, 123.27999877929688, 125.87000274658203, 127.97000122070312, 132.25, 134.0800018310547, 134.24000549316406, 131.97000122070312, 133.0, 133.7899932861328, 133.72999572753906, 135.24000549316406, 135.92999267578125, 137.66000366210938, 137.72999572753906, 138.39999389648438, 137.58999633789062, 135.74000549316406, 134.7100067138672, 134.60000610351562, 136.6999969482422], \"low\": [98.94000244140625, 97.19999694824219, 98.93000030517578, 100.9800033569336, 101.70999908447266, 103.23999786376953, 102.37999725341797, 101.63999938964844, 101.26000213623047, 101.87999725341797, 104.95999908447266, 104.76000213623047, 105.91000366210938, 104.86000061035156, 105.33999633789062, 105.33999633789062, 106.19999694824219, 104.66000366210938, 102.16999816894531, 104.33000183105469, 103.18000030517578, 102.3499984741211, 102.7699966430664, 105.95999908447266, 105.52999877929688, 104.29000091552734, 104.26000213623047, 104.97000122070312, 105.4800033569336, 106.70999908447266, 105.66000366210938, 107.36000061035156, 107.77999877929688, 106.29000091552734, 106.87000274658203, 109.81999969482422, 111.26000213623047, 111.16999816894531, 110.87999725341797, 111.7300033569336, 111.66999816894531, 110.80000305175781, 111.2300033569336, 111.43000030517578, 109.87000274658203, 108.80000305175781, 110.9800033569336, 112.6500015258789, 113.77999877929688, 114.33000183105469, 114.58999633789062, 116.05000305175781, 116.98999786376953, 116.70999908447266, 117.08999633789062, 117.04000091552734, 116.31999969482422, 116.8499984741211, 115.5199966430664, 116.12999725341797, 116.95999908447266, 118.0999984741211, 118.5199966430664, 119.1500015258789, 118.37999725341797, 119.37000274658203, 118.63999938964844, 118.58000183105469, 119.54000091552734, 119.91999816894531, 120.37000274658203, 120.56999969482422, 120.0999984741211, 120.54000091552734, 121.30000305175781, 122.56999969482422, 123.83000183105469, 124.5199966430664, 128.8300018310547, 129.02000427246094, 129.35000610351562, 129.38999938964844, 127.69999694824219, 125.5199966430664, 127.25, 126.11000061035156, 124.22000122070312, 124.75, 123.56999969482422, 123.81999969482422, 123.04000091552734, 123.69999694824219, 123.69999694824219, 126.45999908447266, 127.91999816894531, 125.76000213623047, 126.58000183105469, 126.5199966430664, 124.73999786376953, 125.97000122070312, 126.05000305175781, 124.04000091552734, 124.77999877929688, 123.31999969482422, 119.01000213623047, 120.6500015258789, 124.20999908447266, 125.5999984741211, 128.25999450683594, 132.0, 131.27999877929688, 130.7100067138672, 131.55999755859375, 131.63999938964844, 132.52999877929688, 133.57000732421875, 133.80999755859375, 135.72000122070312, 136.4600067138672, 137.0, 132.72999572753906, 133.60000610351562, 133.50999450683594, 133.16000366210938, 134.97000122070312], \"name\": \"MSFT\", \"open\": [99.55000305175781, 100.0999984741211, 99.72000122070312, 101.63999938964844, 103.04000091552734, 103.86000061035156, 103.22000122070312, 103.19000244140625, 101.9000015258789, 102.51000213623047, 105.26000213623047, 105.0, 107.45999908447266, 106.75, 106.12000274658203, 106.86000061035156, 107.23999786376953, 106.26000213623047, 104.87999725341797, 104.62000274658203, 103.80000305175781, 103.77999877929688, 102.87000274658203, 106.05999755859375, 107.0, 105.19000244140625, 104.38999938964844, 106.19999694824219, 106.13999938964844, 107.5, 106.30999755859375, 107.91000366210938, 107.79000091552734, 107.86000061035156, 106.9000015258789, 110.05000305175781, 111.76000213623047, 111.26000213623047, 111.69000244140625, 112.04000091552734, 112.88999938964844, 113.0199966430664, 112.25, 111.87000274658203, 111.4000015258789, 109.16000366210938, 110.98999786376953, 112.81999969482422, 114.12999725341797, 114.54000091552734, 115.33999633789062, 116.16999816894531, 118.08999633789062, 117.38999938964844, 117.13999938964844, 119.5, 116.55999755859375, 118.62000274658203, 117.87999725341797, 117.44000244140625, 118.06999969482422, 118.94999694824219, 119.05999755859375, 119.86000061035156, 120.0999984741211, 119.38999938964844, 119.80999755859375, 118.62999725341797, 119.76000213623047, 120.54000091552734, 120.63999938964844, 120.94000244140625, 121.63999938964844, 121.23999786376953, 122.19000244140625, 122.62000274658203, 124.0999984741211, 125.79000091552734, 130.05999755859375, 129.6999969482422, 129.89999389648438, 129.80999755859375, 130.52999877929688, 127.9800033569336, 127.36000061035156, 126.38999938964844, 126.45999908447266, 125.44000244140625, 124.29000091552734, 124.91000366210938, 124.11000061035156, 123.87000274658203, 124.26000213623047, 126.75, 128.30999755859375, 126.5199966430664, 127.43000030517578, 126.62000274658203, 126.19999694824219, 126.91000366210938, 126.9800033569336, 125.37999725341797, 125.26000213623047, 124.2300033569336, 123.8499984741211, 121.27999877929688, 124.94999694824219, 126.44000244140625, 129.19000244140625, 132.39999389648438, 133.8800048828125, 131.39999389648438, 131.97999572753906, 132.25999450683594, 132.6300048828125, 134.19000244140625, 135.0, 137.4499969482422, 136.5800018310547, 137.0, 137.25, 134.35000610351562, 134.13999938964844, 134.57000732421875, 136.6300048828125], \"showlegend\": false, \"type\": \"candlestick\", \"x\": [\"2019-01-02T00:00:00\", \"2019-01-03T00:00:00\", \"2019-01-04T00:00:00\", \"2019-01-07T00:00:00\", \"2019-01-08T00:00:00\", \"2019-01-09T00:00:00\", \"2019-01-10T00:00:00\", \"2019-01-11T00:00:00\", \"2019-01-14T00:00:00\", \"2019-01-15T00:00:00\", \"2019-01-16T00:00:00\", \"2019-01-17T00:00:00\", \"2019-01-18T00:00:00\", \"2019-01-22T00:00:00\", \"2019-01-23T00:00:00\", \"2019-01-24T00:00:00\", \"2019-01-25T00:00:00\", \"2019-01-28T00:00:00\", \"2019-01-29T00:00:00\", \"2019-01-30T00:00:00\", \"2019-01-31T00:00:00\", \"2019-02-01T00:00:00\", \"2019-02-04T00:00:00\", \"2019-02-05T00:00:00\", \"2019-02-06T00:00:00\", \"2019-02-07T00:00:00\", \"2019-02-08T00:00:00\", \"2019-02-11T00:00:00\", \"2019-02-12T00:00:00\", \"2019-02-13T00:00:00\", \"2019-02-14T00:00:00\", \"2019-02-15T00:00:00\", \"2019-02-19T00:00:00\", \"2019-02-20T00:00:00\", \"2019-02-21T00:00:00\", \"2019-02-22T00:00:00\", \"2019-02-25T00:00:00\", \"2019-02-26T00:00:00\", \"2019-02-27T00:00:00\", \"2019-02-28T00:00:00\", \"2019-03-01T00:00:00\", \"2019-03-04T00:00:00\", \"2019-03-05T00:00:00\", \"2019-03-06T00:00:00\", \"2019-03-07T00:00:00\", \"2019-03-08T00:00:00\", \"2019-03-11T00:00:00\", \"2019-03-12T00:00:00\", \"2019-03-13T00:00:00\", \"2019-03-14T00:00:00\", \"2019-03-15T00:00:00\", \"2019-03-18T00:00:00\", \"2019-03-19T00:00:00\", \"2019-03-20T00:00:00\", \"2019-03-21T00:00:00\", \"2019-03-22T00:00:00\", \"2019-03-25T00:00:00\", \"2019-03-26T00:00:00\", \"2019-03-27T00:00:00\", \"2019-03-28T00:00:00\", \"2019-03-29T00:00:00\", \"2019-04-01T00:00:00\", \"2019-04-02T00:00:00\", \"2019-04-03T00:00:00\", \"2019-04-04T00:00:00\", \"2019-04-05T00:00:00\", \"2019-04-08T00:00:00\", \"2019-04-09T00:00:00\", \"2019-04-10T00:00:00\", \"2019-04-11T00:00:00\", \"2019-04-12T00:00:00\", \"2019-04-15T00:00:00\", \"2019-04-16T00:00:00\", \"2019-04-17T00:00:00\", \"2019-04-18T00:00:00\", \"2019-04-22T00:00:00\", \"2019-04-23T00:00:00\", \"2019-04-24T00:00:00\", \"2019-04-25T00:00:00\", \"2019-04-26T00:00:00\", \"2019-04-29T00:00:00\", \"2019-04-30T00:00:00\", \"2019-05-01T00:00:00\", \"2019-05-02T00:00:00\", \"2019-05-03T00:00:00\", \"2019-05-06T00:00:00\", \"2019-05-07T00:00:00\", \"2019-05-08T00:00:00\", \"2019-05-09T00:00:00\", \"2019-05-10T00:00:00\", \"2019-05-13T00:00:00\", \"2019-05-14T00:00:00\", \"2019-05-15T00:00:00\", \"2019-05-16T00:00:00\", \"2019-05-17T00:00:00\", \"2019-05-20T00:00:00\", \"2019-05-21T00:00:00\", \"2019-05-22T00:00:00\", \"2019-05-23T00:00:00\", \"2019-05-24T00:00:00\", \"2019-05-28T00:00:00\", \"2019-05-29T00:00:00\", \"2019-05-30T00:00:00\", \"2019-05-31T00:00:00\", \"2019-06-03T00:00:00\", \"2019-06-04T00:00:00\", \"2019-06-05T00:00:00\", \"2019-06-06T00:00:00\", \"2019-06-07T00:00:00\", \"2019-06-10T00:00:00\", \"2019-06-11T00:00:00\", \"2019-06-12T00:00:00\", \"2019-06-13T00:00:00\", \"2019-06-14T00:00:00\", \"2019-06-17T00:00:00\", \"2019-06-18T00:00:00\", \"2019-06-19T00:00:00\", \"2019-06-20T00:00:00\", \"2019-06-21T00:00:00\", \"2019-06-24T00:00:00\", \"2019-06-25T00:00:00\", \"2019-06-26T00:00:00\", \"2019-06-27T00:00:00\", \"2019-06-28T00:00:00\", \"2019-07-01T00:00:00\"]}],\n",
       "                        {\"template\": {\"data\": {\"bar\": [{\"error_x\": {\"color\": \"#2a3f5f\"}, \"error_y\": {\"color\": \"#2a3f5f\"}, \"marker\": {\"line\": {\"color\": \"#E5ECF6\", \"width\": 0.5}}, \"type\": \"bar\"}], \"barpolar\": [{\"marker\": {\"line\": {\"color\": \"#E5ECF6\", \"width\": 0.5}}, \"type\": \"barpolar\"}], \"carpet\": [{\"aaxis\": {\"endlinecolor\": \"#2a3f5f\", \"gridcolor\": \"white\", \"linecolor\": \"white\", \"minorgridcolor\": \"white\", \"startlinecolor\": \"#2a3f5f\"}, \"baxis\": {\"endlinecolor\": \"#2a3f5f\", \"gridcolor\": \"white\", \"linecolor\": \"white\", \"minorgridcolor\": \"white\", \"startlinecolor\": \"#2a3f5f\"}, \"type\": \"carpet\"}], \"choropleth\": [{\"colorbar\": {\"outlinewidth\": 0, \"ticks\": \"\"}, \"type\": \"choropleth\"}], \"contour\": [{\"colorbar\": {\"outlinewidth\": 0, \"ticks\": \"\"}, \"colorscale\": [[0.0, \"#0d0887\"], [0.1111111111111111, \"#46039f\"], [0.2222222222222222, \"#7201a8\"], [0.3333333333333333, \"#9c179e\"], [0.4444444444444444, \"#bd3786\"], [0.5555555555555556, \"#d8576b\"], [0.6666666666666666, \"#ed7953\"], [0.7777777777777778, \"#fb9f3a\"], [0.8888888888888888, \"#fdca26\"], [1.0, \"#f0f921\"]], \"type\": \"contour\"}], \"contourcarpet\": [{\"colorbar\": {\"outlinewidth\": 0, \"ticks\": \"\"}, \"type\": \"contourcarpet\"}], \"heatmap\": [{\"colorbar\": {\"outlinewidth\": 0, \"ticks\": \"\"}, \"colorscale\": [[0.0, \"#0d0887\"], [0.1111111111111111, \"#46039f\"], [0.2222222222222222, \"#7201a8\"], [0.3333333333333333, \"#9c179e\"], [0.4444444444444444, \"#bd3786\"], [0.5555555555555556, \"#d8576b\"], [0.6666666666666666, \"#ed7953\"], [0.7777777777777778, \"#fb9f3a\"], [0.8888888888888888, \"#fdca26\"], [1.0, \"#f0f921\"]], \"type\": \"heatmap\"}], \"heatmapgl\": [{\"colorbar\": {\"outlinewidth\": 0, \"ticks\": \"\"}, \"colorscale\": [[0.0, \"#0d0887\"], [0.1111111111111111, \"#46039f\"], [0.2222222222222222, \"#7201a8\"], [0.3333333333333333, \"#9c179e\"], [0.4444444444444444, \"#bd3786\"], [0.5555555555555556, \"#d8576b\"], [0.6666666666666666, \"#ed7953\"], [0.7777777777777778, \"#fb9f3a\"], [0.8888888888888888, \"#fdca26\"], [1.0, \"#f0f921\"]], \"type\": \"heatmapgl\"}], \"histogram\": [{\"marker\": {\"colorbar\": {\"outlinewidth\": 0, \"ticks\": \"\"}}, \"type\": \"histogram\"}], \"histogram2d\": [{\"colorbar\": {\"outlinewidth\": 0, \"ticks\": \"\"}, \"colorscale\": [[0.0, \"#0d0887\"], [0.1111111111111111, \"#46039f\"], [0.2222222222222222, \"#7201a8\"], [0.3333333333333333, \"#9c179e\"], [0.4444444444444444, \"#bd3786\"], [0.5555555555555556, \"#d8576b\"], [0.6666666666666666, \"#ed7953\"], [0.7777777777777778, \"#fb9f3a\"], [0.8888888888888888, \"#fdca26\"], [1.0, \"#f0f921\"]], \"type\": \"histogram2d\"}], \"histogram2dcontour\": [{\"colorbar\": {\"outlinewidth\": 0, \"ticks\": \"\"}, \"colorscale\": [[0.0, \"#0d0887\"], [0.1111111111111111, \"#46039f\"], [0.2222222222222222, \"#7201a8\"], [0.3333333333333333, \"#9c179e\"], [0.4444444444444444, \"#bd3786\"], [0.5555555555555556, \"#d8576b\"], [0.6666666666666666, \"#ed7953\"], [0.7777777777777778, \"#fb9f3a\"], [0.8888888888888888, \"#fdca26\"], [1.0, \"#f0f921\"]], \"type\": \"histogram2dcontour\"}], \"mesh3d\": [{\"colorbar\": {\"outlinewidth\": 0, \"ticks\": \"\"}, \"type\": \"mesh3d\"}], \"parcoords\": [{\"line\": {\"colorbar\": {\"outlinewidth\": 0, \"ticks\": \"\"}}, \"type\": \"parcoords\"}], \"pie\": [{\"automargin\": true, \"type\": \"pie\"}], \"scatter\": [{\"marker\": {\"colorbar\": {\"outlinewidth\": 0, \"ticks\": \"\"}}, \"type\": \"scatter\"}], \"scatter3d\": [{\"line\": {\"colorbar\": {\"outlinewidth\": 0, \"ticks\": \"\"}}, \"marker\": {\"colorbar\": {\"outlinewidth\": 0, \"ticks\": \"\"}}, \"type\": \"scatter3d\"}], \"scattercarpet\": [{\"marker\": {\"colorbar\": {\"outlinewidth\": 0, \"ticks\": \"\"}}, \"type\": \"scattercarpet\"}], \"scattergeo\": [{\"marker\": {\"colorbar\": {\"outlinewidth\": 0, \"ticks\": \"\"}}, \"type\": \"scattergeo\"}], \"scattergl\": [{\"marker\": {\"colorbar\": {\"outlinewidth\": 0, \"ticks\": \"\"}}, \"type\": \"scattergl\"}], \"scattermapbox\": [{\"marker\": {\"colorbar\": {\"outlinewidth\": 0, \"ticks\": \"\"}}, \"type\": \"scattermapbox\"}], \"scatterpolar\": [{\"marker\": {\"colorbar\": {\"outlinewidth\": 0, \"ticks\": \"\"}}, \"type\": \"scatterpolar\"}], \"scatterpolargl\": [{\"marker\": {\"colorbar\": {\"outlinewidth\": 0, \"ticks\": \"\"}}, \"type\": \"scatterpolargl\"}], \"scatterternary\": [{\"marker\": {\"colorbar\": {\"outlinewidth\": 0, \"ticks\": \"\"}}, \"type\": \"scatterternary\"}], \"surface\": [{\"colorbar\": {\"outlinewidth\": 0, \"ticks\": \"\"}, \"colorscale\": [[0.0, \"#0d0887\"], [0.1111111111111111, \"#46039f\"], [0.2222222222222222, \"#7201a8\"], [0.3333333333333333, \"#9c179e\"], [0.4444444444444444, \"#bd3786\"], [0.5555555555555556, \"#d8576b\"], [0.6666666666666666, \"#ed7953\"], [0.7777777777777778, \"#fb9f3a\"], [0.8888888888888888, \"#fdca26\"], [1.0, \"#f0f921\"]], \"type\": \"surface\"}], \"table\": [{\"cells\": {\"fill\": {\"color\": \"#EBF0F8\"}, \"line\": {\"color\": \"white\"}}, \"header\": {\"fill\": {\"color\": \"#C8D4E3\"}, \"line\": {\"color\": \"white\"}}, \"type\": \"table\"}]}, \"layout\": {\"annotationdefaults\": {\"arrowcolor\": \"#2a3f5f\", \"arrowhead\": 0, \"arrowwidth\": 1}, \"coloraxis\": {\"colorbar\": {\"outlinewidth\": 0, \"ticks\": \"\"}}, \"colorscale\": {\"diverging\": [[0, \"#8e0152\"], [0.1, \"#c51b7d\"], [0.2, \"#de77ae\"], [0.3, \"#f1b6da\"], [0.4, \"#fde0ef\"], [0.5, \"#f7f7f7\"], [0.6, \"#e6f5d0\"], [0.7, \"#b8e186\"], [0.8, \"#7fbc41\"], [0.9, \"#4d9221\"], [1, \"#276419\"]], \"sequential\": [[0.0, \"#0d0887\"], [0.1111111111111111, \"#46039f\"], [0.2222222222222222, \"#7201a8\"], [0.3333333333333333, \"#9c179e\"], [0.4444444444444444, \"#bd3786\"], [0.5555555555555556, \"#d8576b\"], [0.6666666666666666, \"#ed7953\"], [0.7777777777777778, \"#fb9f3a\"], [0.8888888888888888, \"#fdca26\"], [1.0, \"#f0f921\"]], \"sequentialminus\": [[0.0, \"#0d0887\"], [0.1111111111111111, \"#46039f\"], [0.2222222222222222, \"#7201a8\"], [0.3333333333333333, \"#9c179e\"], [0.4444444444444444, \"#bd3786\"], [0.5555555555555556, \"#d8576b\"], [0.6666666666666666, \"#ed7953\"], [0.7777777777777778, \"#fb9f3a\"], [0.8888888888888888, \"#fdca26\"], [1.0, \"#f0f921\"]]}, \"colorway\": [\"#636efa\", \"#EF553B\", \"#00cc96\", \"#ab63fa\", \"#FFA15A\", \"#19d3f3\", \"#FF6692\", \"#B6E880\", \"#FF97FF\", \"#FECB52\"], \"font\": {\"color\": \"#2a3f5f\"}, \"geo\": {\"bgcolor\": \"white\", \"lakecolor\": \"white\", \"landcolor\": \"#E5ECF6\", \"showlakes\": true, \"showland\": true, \"subunitcolor\": \"white\"}, \"hoverlabel\": {\"align\": \"left\"}, \"hovermode\": \"closest\", \"mapbox\": {\"style\": \"light\"}, \"paper_bgcolor\": \"white\", \"plot_bgcolor\": \"#E5ECF6\", \"polar\": {\"angularaxis\": {\"gridcolor\": \"white\", \"linecolor\": \"white\", \"ticks\": \"\"}, \"bgcolor\": \"#E5ECF6\", \"radialaxis\": {\"gridcolor\": \"white\", \"linecolor\": \"white\", \"ticks\": \"\"}}, \"scene\": {\"xaxis\": {\"backgroundcolor\": \"#E5ECF6\", \"gridcolor\": \"white\", \"gridwidth\": 2, \"linecolor\": \"white\", \"showbackground\": true, \"ticks\": \"\", \"zerolinecolor\": \"white\"}, \"yaxis\": {\"backgroundcolor\": \"#E5ECF6\", \"gridcolor\": \"white\", \"gridwidth\": 2, \"linecolor\": \"white\", \"showbackground\": true, \"ticks\": \"\", \"zerolinecolor\": \"white\"}, \"zaxis\": {\"backgroundcolor\": \"#E5ECF6\", \"gridcolor\": \"white\", \"gridwidth\": 2, \"linecolor\": \"white\", \"showbackground\": true, \"ticks\": \"\", \"zerolinecolor\": \"white\"}}, \"shapedefaults\": {\"line\": {\"color\": \"#2a3f5f\"}}, \"ternary\": {\"aaxis\": {\"gridcolor\": \"white\", \"linecolor\": \"white\", \"ticks\": \"\"}, \"baxis\": {\"gridcolor\": \"white\", \"linecolor\": \"white\", \"ticks\": \"\"}, \"bgcolor\": \"#E5ECF6\", \"caxis\": {\"gridcolor\": \"white\", \"linecolor\": \"white\", \"ticks\": \"\"}}, \"title\": {\"x\": 0.05}, \"xaxis\": {\"automargin\": true, \"gridcolor\": \"white\", \"linecolor\": \"white\", \"ticks\": \"\", \"title\": {\"standoff\": 15}, \"zerolinecolor\": \"white\", \"zerolinewidth\": 2}, \"yaxis\": {\"automargin\": true, \"gridcolor\": \"white\", \"linecolor\": \"white\", \"ticks\": \"\", \"title\": {\"standoff\": 15}, \"zerolinecolor\": \"white\", \"zerolinewidth\": 2}}}, \"title\": {\"font\": {\"size\": 15}, \"text\": \"Microsoft Candlesticks Chart\"}},\n",
       "                        {\"responsive\": true}\n",
       "                    ).then(function(){\n",
       "                            \n",
       "var gd = document.getElementById('7a7cc0e5-49de-4911-9695-2f30ba92b781');\n",
       "var x = new MutationObserver(function (mutations, observer) {{\n",
       "        var display = window.getComputedStyle(gd).display;\n",
       "        if (!display || display === 'none') {{\n",
       "            console.log([gd, 'removed!']);\n",
       "            Plotly.purge(gd);\n",
       "            observer.disconnect();\n",
       "        }}\n",
       "}});\n",
       "\n",
       "// Listen for the removal of the full notebook cells\n",
       "var notebookContainer = gd.closest('#notebook-container');\n",
       "if (notebookContainer) {{\n",
       "    x.observe(notebookContainer, {childList: true});\n",
       "}}\n",
       "\n",
       "// Listen for the clearing of the current output cell\n",
       "var outputEl = gd.closest('.output');\n",
       "if (outputEl) {{\n",
       "    x.observe(outputEl, {childList: true});\n",
       "}}\n",
       "\n",
       "                        })\n",
       "                };\n",
       "                });\n",
       "            </script>\n",
       "        </div>"
      ]
     },
     "metadata": {},
     "output_type": "display_data"
    }
   ],
   "source": [
    "#plot a candlestick chart using Plotly\n",
    "\n",
    "msft_stocks = {\n",
    "    'x': df_dates['Date'],\n",
    "    'open': msft['Open'],\n",
    "    'close': msft['Close'],\n",
    "    'high': msft['High'],\n",
    "    'low': msft['Low'],\n",
    "    'type': 'candlestick',\n",
    "    'name': 'MSFT',\n",
    "    'showlegend': False\n",
    "}\n",
    "\n",
    "\n",
    "layout = go.Layout({\n",
    "    'title': {\n",
    "        'text': 'Microsoft Candlesticks Chart',\n",
    "        'font': {\n",
    "            'size': 15\n",
    "        }\n",
    "    }\n",
    "})\n",
    "\n",
    "fig = go.Figure(data=msft_stocks, layout=layout)\n",
    "\n",
    "fig.show()"
   ]
  },
  {
   "cell_type": "code",
   "execution_count": 45,
   "metadata": {},
   "outputs": [
    {
     "data": {
      "application/vnd.plotly.v1+json": {
       "config": {
        "plotlyServerURL": "https://plot.ly"
       },
       "data": [
        {
         "close": [
          101.12000274658203,
          97.4000015258789,
          101.93000030517578,
          102.05999755859375,
          102.80000305175781,
          104.2699966430664,
          103.5999984741211,
          102.80000305175781,
          102.05000305175781,
          105.01000213623047,
          105.37999725341797,
          106.12000274658203,
          107.70999908447266,
          105.68000030517578,
          106.70999908447266,
          106.19999694824219,
          107.16999816894531,
          105.08000183105469,
          102.94000244140625,
          106.37999725341797,
          104.43000030517578,
          102.77999877929688,
          105.73999786376953,
          107.22000122070312,
          106.02999877929688,
          105.2699966430664,
          105.66999816894531,
          105.25,
          106.88999938964844,
          106.80999755859375,
          106.9000015258789,
          108.22000122070312,
          108.16999816894531,
          107.1500015258789,
          109.41000366210938,
          110.97000122070312,
          111.58999633789062,
          112.36000061035156,
          112.16999816894531,
          112.02999877929688,
          112.52999877929688,
          112.26000213623047,
          111.69999694824219,
          111.75,
          110.38999938964844,
          110.51000213623047,
          112.83000183105469,
          113.62000274658203,
          114.5,
          114.58999633789062,
          115.91000366210938,
          117.56999969482422,
          117.6500015258789,
          117.5199966430664,
          120.22000122070312,
          117.05000305175781,
          117.66000366210938,
          117.91000366210938,
          116.7699966430664,
          116.93000030517578,
          117.94000244140625,
          119.0199966430664,
          119.19000244140625,
          119.97000122070312,
          119.36000061035156,
          119.88999938964844,
          119.93000030517578,
          119.27999877929688,
          120.19000244140625,
          120.33000183105469,
          120.94999694824219,
          121.05000305175781,
          120.7699966430664,
          121.7699966430664,
          123.37000274658203,
          123.76000213623047,
          125.44000244140625,
          125.01000213623047,
          129.14999389648438,
          129.88999938964844,
          129.77000427246094,
          130.60000610351562,
          127.87999725341797,
          126.20999908447266,
          128.89999389648438,
          128.14999389648438,
          125.5199966430664,
          125.51000213623047,
          125.5,
          127.12999725341797,
          123.3499984741211,
          124.7300033569336,
          126.0199966430664,
          128.92999267578125,
          128.07000732421875,
          126.22000122070312,
          126.9000015258789,
          127.66999816894531,
          126.18000030517578,
          126.23999786376953,
          126.16000366210938,
          124.94000244140625,
          125.7300033569336,
          123.68000030517578,
          119.83999633789062,
          123.16000366210938,
          125.83000183105469,
          127.81999969482422,
          131.39999389648438,
          132.60000610351562,
          132.10000610351562,
          131.49000549316406,
          132.32000732421875,
          132.4499969482422,
          132.85000610351562,
          135.16000366210938,
          135.69000244140625,
          136.9499969482422,
          136.97000122070312,
          137.77999877929688,
          133.42999267578125,
          133.92999267578125,
          134.14999389648438,
          133.9600067138672,
          135.67999267578125
         ],
         "high": [
          101.75,
          100.19000244140625,
          102.51000213623047,
          103.2699966430664,
          103.97000122070312,
          104.87999725341797,
          103.75,
          103.44000244140625,
          102.87000274658203,
          105.05000305175781,
          106.26000213623047,
          106.62999725341797,
          107.9000015258789,
          107.0999984741211,
          107.04000091552734,
          107,
          107.87999725341797,
          106.4800033569336,
          104.97000122070312,
          106.37999725341797,
          105.22000122070312,
          104.0999984741211,
          105.80000305175781,
          107.2699966430664,
          107,
          105.58999633789062,
          105.77999877929688,
          106.58000183105469,
          107.13999938964844,
          107.77999877929688,
          107.29000091552734,
          108.30000305175781,
          108.66000366210938,
          107.94000244140625,
          109.4800033569336,
          111.19999694824219,
          112.18000030517578,
          113.23999786376953,
          112.36000061035156,
          112.87999725341797,
          113.0199966430664,
          113.25,
          112.38999938964844,
          112.66000366210938,
          111.55000305175781,
          110.70999908447266,
          112.94999694824219,
          113.98999786376953,
          115,
          115.19999694824219,
          117.25,
          117.61000061035156,
          118.44000244140625,
          118.75,
          120.81999969482422,
          119.58999633789062,
          118.01000213623047,
          118.70999908447266,
          118.20999908447266,
          117.58000183105469,
          118.31999969482422,
          119.11000061035156,
          119.4800033569336,
          120.43000030517578,
          120.2300033569336,
          120.2300033569336,
          120.0199966430664,
          119.54000091552734,
          120.3499984741211,
          120.8499984741211,
          120.9800033569336,
          121.58000183105469,
          121.6500015258789,
          121.8499984741211,
          123.5199966430664,
          124,
          125.58000183105469,
          125.8499984741211,
          131.3699951171875,
          130.52000427246094,
          130.17999267578125,
          130.6999969482422,
          130.64999389648438,
          128,
          129.42999267578125,
          128.55999755859375,
          127.18000030517578,
          126.37000274658203,
          125.79000091552734,
          127.93000030517578,
          125.55000305175781,
          125.87999725341797,
          126.70999908447266,
          129.3800048828125,
          130.4600067138672,
          127.58999633789062,
          127.52999877929688,
          128.24000549316406,
          126.29000091552734,
          127.41999816894531,
          128,
          125.38999938964844,
          125.76000213623047,
          124.62000274658203,
          124.37000274658203,
          123.27999877929688,
          125.87000274658203,
          127.97000122070312,
          132.25,
          134.0800018310547,
          134.24000549316406,
          131.97000122070312,
          133,
          133.7899932861328,
          133.72999572753906,
          135.24000549316406,
          135.92999267578125,
          137.66000366210938,
          137.72999572753906,
          138.39999389648438,
          137.58999633789062,
          135.74000549316406,
          134.7100067138672,
          134.60000610351562,
          136.6999969482422
         ],
         "low": [
          98.94000244140625,
          97.19999694824219,
          98.93000030517578,
          100.9800033569336,
          101.70999908447266,
          103.23999786376953,
          102.37999725341797,
          101.63999938964844,
          101.26000213623047,
          101.87999725341797,
          104.95999908447266,
          104.76000213623047,
          105.91000366210938,
          104.86000061035156,
          105.33999633789062,
          105.33999633789062,
          106.19999694824219,
          104.66000366210938,
          102.16999816894531,
          104.33000183105469,
          103.18000030517578,
          102.3499984741211,
          102.7699966430664,
          105.95999908447266,
          105.52999877929688,
          104.29000091552734,
          104.26000213623047,
          104.97000122070312,
          105.4800033569336,
          106.70999908447266,
          105.66000366210938,
          107.36000061035156,
          107.77999877929688,
          106.29000091552734,
          106.87000274658203,
          109.81999969482422,
          111.26000213623047,
          111.16999816894531,
          110.87999725341797,
          111.7300033569336,
          111.66999816894531,
          110.80000305175781,
          111.2300033569336,
          111.43000030517578,
          109.87000274658203,
          108.80000305175781,
          110.9800033569336,
          112.6500015258789,
          113.77999877929688,
          114.33000183105469,
          114.58999633789062,
          116.05000305175781,
          116.98999786376953,
          116.70999908447266,
          117.08999633789062,
          117.04000091552734,
          116.31999969482422,
          116.8499984741211,
          115.5199966430664,
          116.12999725341797,
          116.95999908447266,
          118.0999984741211,
          118.5199966430664,
          119.1500015258789,
          118.37999725341797,
          119.37000274658203,
          118.63999938964844,
          118.58000183105469,
          119.54000091552734,
          119.91999816894531,
          120.37000274658203,
          120.56999969482422,
          120.0999984741211,
          120.54000091552734,
          121.30000305175781,
          122.56999969482422,
          123.83000183105469,
          124.5199966430664,
          128.8300018310547,
          129.02000427246094,
          129.35000610351562,
          129.38999938964844,
          127.69999694824219,
          125.5199966430664,
          127.25,
          126.11000061035156,
          124.22000122070312,
          124.75,
          123.56999969482422,
          123.81999969482422,
          123.04000091552734,
          123.69999694824219,
          123.69999694824219,
          126.45999908447266,
          127.91999816894531,
          125.76000213623047,
          126.58000183105469,
          126.5199966430664,
          124.73999786376953,
          125.97000122070312,
          126.05000305175781,
          124.04000091552734,
          124.77999877929688,
          123.31999969482422,
          119.01000213623047,
          120.6500015258789,
          124.20999908447266,
          125.5999984741211,
          128.25999450683594,
          132,
          131.27999877929688,
          130.7100067138672,
          131.55999755859375,
          131.63999938964844,
          132.52999877929688,
          133.57000732421875,
          133.80999755859375,
          135.72000122070312,
          136.4600067138672,
          137,
          132.72999572753906,
          133.60000610351562,
          133.50999450683594,
          133.16000366210938,
          134.97000122070312
         ],
         "name": "MSFT",
         "open": [
          99.55000305175781,
          100.0999984741211,
          99.72000122070312,
          101.63999938964844,
          103.04000091552734,
          103.86000061035156,
          103.22000122070312,
          103.19000244140625,
          101.9000015258789,
          102.51000213623047,
          105.26000213623047,
          105,
          107.45999908447266,
          106.75,
          106.12000274658203,
          106.86000061035156,
          107.23999786376953,
          106.26000213623047,
          104.87999725341797,
          104.62000274658203,
          103.80000305175781,
          103.77999877929688,
          102.87000274658203,
          106.05999755859375,
          107,
          105.19000244140625,
          104.38999938964844,
          106.19999694824219,
          106.13999938964844,
          107.5,
          106.30999755859375,
          107.91000366210938,
          107.79000091552734,
          107.86000061035156,
          106.9000015258789,
          110.05000305175781,
          111.76000213623047,
          111.26000213623047,
          111.69000244140625,
          112.04000091552734,
          112.88999938964844,
          113.0199966430664,
          112.25,
          111.87000274658203,
          111.4000015258789,
          109.16000366210938,
          110.98999786376953,
          112.81999969482422,
          114.12999725341797,
          114.54000091552734,
          115.33999633789062,
          116.16999816894531,
          118.08999633789062,
          117.38999938964844,
          117.13999938964844,
          119.5,
          116.55999755859375,
          118.62000274658203,
          117.87999725341797,
          117.44000244140625,
          118.06999969482422,
          118.94999694824219,
          119.05999755859375,
          119.86000061035156,
          120.0999984741211,
          119.38999938964844,
          119.80999755859375,
          118.62999725341797,
          119.76000213623047,
          120.54000091552734,
          120.63999938964844,
          120.94000244140625,
          121.63999938964844,
          121.23999786376953,
          122.19000244140625,
          122.62000274658203,
          124.0999984741211,
          125.79000091552734,
          130.05999755859375,
          129.6999969482422,
          129.89999389648438,
          129.80999755859375,
          130.52999877929688,
          127.9800033569336,
          127.36000061035156,
          126.38999938964844,
          126.45999908447266,
          125.44000244140625,
          124.29000091552734,
          124.91000366210938,
          124.11000061035156,
          123.87000274658203,
          124.26000213623047,
          126.75,
          128.30999755859375,
          126.5199966430664,
          127.43000030517578,
          126.62000274658203,
          126.19999694824219,
          126.91000366210938,
          126.9800033569336,
          125.37999725341797,
          125.26000213623047,
          124.2300033569336,
          123.8499984741211,
          121.27999877929688,
          124.94999694824219,
          126.44000244140625,
          129.19000244140625,
          132.39999389648438,
          133.8800048828125,
          131.39999389648438,
          131.97999572753906,
          132.25999450683594,
          132.6300048828125,
          134.19000244140625,
          135,
          137.4499969482422,
          136.5800018310547,
          137,
          137.25,
          134.35000610351562,
          134.13999938964844,
          134.57000732421875,
          136.6300048828125
         ],
         "showlegend": false,
         "type": "candlestick",
         "x": [
          "2019-01-02T00:00:00",
          "2019-01-03T00:00:00",
          "2019-01-04T00:00:00",
          "2019-01-07T00:00:00",
          "2019-01-08T00:00:00",
          "2019-01-09T00:00:00",
          "2019-01-10T00:00:00",
          "2019-01-11T00:00:00",
          "2019-01-14T00:00:00",
          "2019-01-15T00:00:00",
          "2019-01-16T00:00:00",
          "2019-01-17T00:00:00",
          "2019-01-18T00:00:00",
          "2019-01-22T00:00:00",
          "2019-01-23T00:00:00",
          "2019-01-24T00:00:00",
          "2019-01-25T00:00:00",
          "2019-01-28T00:00:00",
          "2019-01-29T00:00:00",
          "2019-01-30T00:00:00",
          "2019-01-31T00:00:00",
          "2019-02-01T00:00:00",
          "2019-02-04T00:00:00",
          "2019-02-05T00:00:00",
          "2019-02-06T00:00:00",
          "2019-02-07T00:00:00",
          "2019-02-08T00:00:00",
          "2019-02-11T00:00:00",
          "2019-02-12T00:00:00",
          "2019-02-13T00:00:00",
          "2019-02-14T00:00:00",
          "2019-02-15T00:00:00",
          "2019-02-19T00:00:00",
          "2019-02-20T00:00:00",
          "2019-02-21T00:00:00",
          "2019-02-22T00:00:00",
          "2019-02-25T00:00:00",
          "2019-02-26T00:00:00",
          "2019-02-27T00:00:00",
          "2019-02-28T00:00:00",
          "2019-03-01T00:00:00",
          "2019-03-04T00:00:00",
          "2019-03-05T00:00:00",
          "2019-03-06T00:00:00",
          "2019-03-07T00:00:00",
          "2019-03-08T00:00:00",
          "2019-03-11T00:00:00",
          "2019-03-12T00:00:00",
          "2019-03-13T00:00:00",
          "2019-03-14T00:00:00",
          "2019-03-15T00:00:00",
          "2019-03-18T00:00:00",
          "2019-03-19T00:00:00",
          "2019-03-20T00:00:00",
          "2019-03-21T00:00:00",
          "2019-03-22T00:00:00",
          "2019-03-25T00:00:00",
          "2019-03-26T00:00:00",
          "2019-03-27T00:00:00",
          "2019-03-28T00:00:00",
          "2019-03-29T00:00:00",
          "2019-04-01T00:00:00",
          "2019-04-02T00:00:00",
          "2019-04-03T00:00:00",
          "2019-04-04T00:00:00",
          "2019-04-05T00:00:00",
          "2019-04-08T00:00:00",
          "2019-04-09T00:00:00",
          "2019-04-10T00:00:00",
          "2019-04-11T00:00:00",
          "2019-04-12T00:00:00",
          "2019-04-15T00:00:00",
          "2019-04-16T00:00:00",
          "2019-04-17T00:00:00",
          "2019-04-18T00:00:00",
          "2019-04-22T00:00:00",
          "2019-04-23T00:00:00",
          "2019-04-24T00:00:00",
          "2019-04-25T00:00:00",
          "2019-04-26T00:00:00",
          "2019-04-29T00:00:00",
          "2019-04-30T00:00:00",
          "2019-05-01T00:00:00",
          "2019-05-02T00:00:00",
          "2019-05-03T00:00:00",
          "2019-05-06T00:00:00",
          "2019-05-07T00:00:00",
          "2019-05-08T00:00:00",
          "2019-05-09T00:00:00",
          "2019-05-10T00:00:00",
          "2019-05-13T00:00:00",
          "2019-05-14T00:00:00",
          "2019-05-15T00:00:00",
          "2019-05-16T00:00:00",
          "2019-05-17T00:00:00",
          "2019-05-20T00:00:00",
          "2019-05-21T00:00:00",
          "2019-05-22T00:00:00",
          "2019-05-23T00:00:00",
          "2019-05-24T00:00:00",
          "2019-05-28T00:00:00",
          "2019-05-29T00:00:00",
          "2019-05-30T00:00:00",
          "2019-05-31T00:00:00",
          "2019-06-03T00:00:00",
          "2019-06-04T00:00:00",
          "2019-06-05T00:00:00",
          "2019-06-06T00:00:00",
          "2019-06-07T00:00:00",
          "2019-06-10T00:00:00",
          "2019-06-11T00:00:00",
          "2019-06-12T00:00:00",
          "2019-06-13T00:00:00",
          "2019-06-14T00:00:00",
          "2019-06-17T00:00:00",
          "2019-06-18T00:00:00",
          "2019-06-19T00:00:00",
          "2019-06-20T00:00:00",
          "2019-06-21T00:00:00",
          "2019-06-24T00:00:00",
          "2019-06-25T00:00:00",
          "2019-06-26T00:00:00",
          "2019-06-27T00:00:00",
          "2019-06-28T00:00:00",
          "2019-07-01T00:00:00"
         ]
        },
        {
         "line": {
          "color": "blue",
          "width": 1
         },
         "mode": "lines",
         "name": "Moving Average of 30 periods",
         "type": "scatter",
         "x": [
          "2019-01-02T00:00:00",
          "2019-01-03T00:00:00",
          "2019-01-04T00:00:00",
          "2019-01-07T00:00:00",
          "2019-01-08T00:00:00",
          "2019-01-09T00:00:00",
          "2019-01-10T00:00:00",
          "2019-01-11T00:00:00",
          "2019-01-14T00:00:00",
          "2019-01-15T00:00:00",
          "2019-01-16T00:00:00",
          "2019-01-17T00:00:00",
          "2019-01-18T00:00:00",
          "2019-01-22T00:00:00",
          "2019-01-23T00:00:00",
          "2019-01-24T00:00:00",
          "2019-01-25T00:00:00",
          "2019-01-28T00:00:00",
          "2019-01-29T00:00:00",
          "2019-01-30T00:00:00",
          "2019-01-31T00:00:00",
          "2019-02-01T00:00:00",
          "2019-02-04T00:00:00",
          "2019-02-05T00:00:00",
          "2019-02-06T00:00:00",
          "2019-02-07T00:00:00",
          "2019-02-08T00:00:00",
          "2019-02-11T00:00:00",
          "2019-02-12T00:00:00",
          "2019-02-13T00:00:00",
          "2019-02-14T00:00:00",
          "2019-02-15T00:00:00",
          "2019-02-19T00:00:00",
          "2019-02-20T00:00:00",
          "2019-02-21T00:00:00",
          "2019-02-22T00:00:00",
          "2019-02-25T00:00:00",
          "2019-02-26T00:00:00",
          "2019-02-27T00:00:00",
          "2019-02-28T00:00:00",
          "2019-03-01T00:00:00",
          "2019-03-04T00:00:00",
          "2019-03-05T00:00:00",
          "2019-03-06T00:00:00",
          "2019-03-07T00:00:00",
          "2019-03-08T00:00:00",
          "2019-03-11T00:00:00",
          "2019-03-12T00:00:00",
          "2019-03-13T00:00:00",
          "2019-03-14T00:00:00",
          "2019-03-15T00:00:00",
          "2019-03-18T00:00:00",
          "2019-03-19T00:00:00",
          "2019-03-20T00:00:00",
          "2019-03-21T00:00:00",
          "2019-03-22T00:00:00",
          "2019-03-25T00:00:00",
          "2019-03-26T00:00:00",
          "2019-03-27T00:00:00",
          "2019-03-28T00:00:00",
          "2019-03-29T00:00:00",
          "2019-04-01T00:00:00",
          "2019-04-02T00:00:00",
          "2019-04-03T00:00:00",
          "2019-04-04T00:00:00",
          "2019-04-05T00:00:00",
          "2019-04-08T00:00:00",
          "2019-04-09T00:00:00",
          "2019-04-10T00:00:00",
          "2019-04-11T00:00:00",
          "2019-04-12T00:00:00",
          "2019-04-15T00:00:00",
          "2019-04-16T00:00:00",
          "2019-04-17T00:00:00",
          "2019-04-18T00:00:00",
          "2019-04-22T00:00:00",
          "2019-04-23T00:00:00",
          "2019-04-24T00:00:00",
          "2019-04-25T00:00:00",
          "2019-04-26T00:00:00",
          "2019-04-29T00:00:00",
          "2019-04-30T00:00:00",
          "2019-05-01T00:00:00",
          "2019-05-02T00:00:00",
          "2019-05-03T00:00:00",
          "2019-05-06T00:00:00",
          "2019-05-07T00:00:00",
          "2019-05-08T00:00:00",
          "2019-05-09T00:00:00",
          "2019-05-10T00:00:00",
          "2019-05-13T00:00:00",
          "2019-05-14T00:00:00",
          "2019-05-15T00:00:00",
          "2019-05-16T00:00:00",
          "2019-05-17T00:00:00",
          "2019-05-20T00:00:00",
          "2019-05-21T00:00:00",
          "2019-05-22T00:00:00",
          "2019-05-23T00:00:00",
          "2019-05-24T00:00:00",
          "2019-05-28T00:00:00",
          "2019-05-29T00:00:00",
          "2019-05-30T00:00:00",
          "2019-05-31T00:00:00",
          "2019-06-03T00:00:00",
          "2019-06-04T00:00:00",
          "2019-06-05T00:00:00",
          "2019-06-06T00:00:00",
          "2019-06-07T00:00:00",
          "2019-06-10T00:00:00",
          "2019-06-11T00:00:00",
          "2019-06-12T00:00:00",
          "2019-06-13T00:00:00",
          "2019-06-14T00:00:00",
          "2019-06-17T00:00:00",
          "2019-06-18T00:00:00",
          "2019-06-19T00:00:00",
          "2019-06-20T00:00:00",
          "2019-06-21T00:00:00",
          "2019-06-24T00:00:00",
          "2019-06-25T00:00:00",
          "2019-06-26T00:00:00",
          "2019-06-27T00:00:00",
          "2019-06-28T00:00:00",
          "2019-07-01T00:00:00"
         ],
         "y": [
          101.12000274658203,
          99.26000213623047,
          100.1500015258789,
          100.62750053405762,
          101.06200103759765,
          101.59666697184245,
          101.88285718645368,
          101.9975004196167,
          102.00333404541016,
          102.30400085449219,
          102.58363689075817,
          102.87833404541016,
          103.2500005868765,
          103.42357199532645,
          103.64266713460286,
          103.80250024795532,
          104.00058836095474,
          104.06055577596028,
          104.00157928466797,
          104.12050018310546,
          104.13523828415643,
          104.073636488481,
          104.14608698305877,
          104.27416674296062,
          104.34440002441406,
          104.37999989436223,
          104.42777760823567,
          104.45714269365583,
          104.54103430386247,
          104.61666641235351,
          104.80933303833008,
          105.16999969482421,
          105.37799962361653,
          105.54766642252604,
          105.76799977620443,
          105.99133326212565,
          106.2576665242513,
          106.57633310953776,
          106.91366628011068,
          107.1476661682129,
          107.38599955240885,
          107.59066619873047,
          107.72366612752279,
          107.92599945068359,
          108.0486661275228,
          108.1923329671224,
          108.38099975585938,
          108.66566645304361,
          109.05099970499674,
          109.32466634114583,
          109.70733311971028,
          110.20033315022786,
          110.59733327229817,
          110.94066645304362,
          111.41366653442383,
          111.80633341471354,
          112.20600026448568,
          112.628000386556,
          112.95733362833658,
          113.29466705322265,
          113.66266708374023,
          114.02266693115234,
          114.39000040690104,
          114.81733373006185,
          115.14900029500326,
          115.44633356730144,
          115.72433369954427,
          115.95500030517579,
          116.22233378092447,
          116.4990005493164,
          116.77966715494792,
          117.07266718546549,
          117.3750005086263,
          117.70900039672851,
          118.14166717529297,
          118.58333384195963,
          119.00366719563802,
          119.38333384195964,
          119.87166697184244,
          120.38166707356771,
          120.84366709391276,
          121.27800064086914,
          121.61900049845377,
          121.90866724650066,
          122.19800033569337,
          122.56800003051758,
          122.82999979654947,
          123.08333307902018,
          123.37433319091797,
          123.7143330891927,
          123.8946662902832,
          124.0849998474121,
          124.31266632080079,
          124.61133270263672,
          124.90166625976562,
          125.11266632080078,
          125.34499969482422,
          125.62466634114584,
          125.82433293660482,
          126.02133280436198,
          126.19499969482422,
          126.32466634114583,
          126.48999989827475,
          126.55366668701171,
          126.43599980672201,
          126.41599985758464,
          126.42899983723959,
          126.52266642252604,
          126.59766642252605,
          126.68799997965495,
          126.76566670735677,
          126.79533335367839,
          126.94333368937174,
          127.15133361816406,
          127.28300069173177,
          127.51666768391927,
          127.85566787719726,
          128.23700103759765,
          128.61933441162108,
          128.9743344624837,
          129.31033426920573,
          129.61700057983398,
          129.88800048828125,
          130.0556676228841,
          130.30933380126953
         ]
        },
        {
         "line": {
          "color": "red",
          "width": 1
         },
         "mode": "lines",
         "name": "Moving Average of 50 periods",
         "type": "scatter",
         "x": [
          "2019-01-02T00:00:00",
          "2019-01-03T00:00:00",
          "2019-01-04T00:00:00",
          "2019-01-07T00:00:00",
          "2019-01-08T00:00:00",
          "2019-01-09T00:00:00",
          "2019-01-10T00:00:00",
          "2019-01-11T00:00:00",
          "2019-01-14T00:00:00",
          "2019-01-15T00:00:00",
          "2019-01-16T00:00:00",
          "2019-01-17T00:00:00",
          "2019-01-18T00:00:00",
          "2019-01-22T00:00:00",
          "2019-01-23T00:00:00",
          "2019-01-24T00:00:00",
          "2019-01-25T00:00:00",
          "2019-01-28T00:00:00",
          "2019-01-29T00:00:00",
          "2019-01-30T00:00:00",
          "2019-01-31T00:00:00",
          "2019-02-01T00:00:00",
          "2019-02-04T00:00:00",
          "2019-02-05T00:00:00",
          "2019-02-06T00:00:00",
          "2019-02-07T00:00:00",
          "2019-02-08T00:00:00",
          "2019-02-11T00:00:00",
          "2019-02-12T00:00:00",
          "2019-02-13T00:00:00",
          "2019-02-14T00:00:00",
          "2019-02-15T00:00:00",
          "2019-02-19T00:00:00",
          "2019-02-20T00:00:00",
          "2019-02-21T00:00:00",
          "2019-02-22T00:00:00",
          "2019-02-25T00:00:00",
          "2019-02-26T00:00:00",
          "2019-02-27T00:00:00",
          "2019-02-28T00:00:00",
          "2019-03-01T00:00:00",
          "2019-03-04T00:00:00",
          "2019-03-05T00:00:00",
          "2019-03-06T00:00:00",
          "2019-03-07T00:00:00",
          "2019-03-08T00:00:00",
          "2019-03-11T00:00:00",
          "2019-03-12T00:00:00",
          "2019-03-13T00:00:00",
          "2019-03-14T00:00:00",
          "2019-03-15T00:00:00",
          "2019-03-18T00:00:00",
          "2019-03-19T00:00:00",
          "2019-03-20T00:00:00",
          "2019-03-21T00:00:00",
          "2019-03-22T00:00:00",
          "2019-03-25T00:00:00",
          "2019-03-26T00:00:00",
          "2019-03-27T00:00:00",
          "2019-03-28T00:00:00",
          "2019-03-29T00:00:00",
          "2019-04-01T00:00:00",
          "2019-04-02T00:00:00",
          "2019-04-03T00:00:00",
          "2019-04-04T00:00:00",
          "2019-04-05T00:00:00",
          "2019-04-08T00:00:00",
          "2019-04-09T00:00:00",
          "2019-04-10T00:00:00",
          "2019-04-11T00:00:00",
          "2019-04-12T00:00:00",
          "2019-04-15T00:00:00",
          "2019-04-16T00:00:00",
          "2019-04-17T00:00:00",
          "2019-04-18T00:00:00",
          "2019-04-22T00:00:00",
          "2019-04-23T00:00:00",
          "2019-04-24T00:00:00",
          "2019-04-25T00:00:00",
          "2019-04-26T00:00:00",
          "2019-04-29T00:00:00",
          "2019-04-30T00:00:00",
          "2019-05-01T00:00:00",
          "2019-05-02T00:00:00",
          "2019-05-03T00:00:00",
          "2019-05-06T00:00:00",
          "2019-05-07T00:00:00",
          "2019-05-08T00:00:00",
          "2019-05-09T00:00:00",
          "2019-05-10T00:00:00",
          "2019-05-13T00:00:00",
          "2019-05-14T00:00:00",
          "2019-05-15T00:00:00",
          "2019-05-16T00:00:00",
          "2019-05-17T00:00:00",
          "2019-05-20T00:00:00",
          "2019-05-21T00:00:00",
          "2019-05-22T00:00:00",
          "2019-05-23T00:00:00",
          "2019-05-24T00:00:00",
          "2019-05-28T00:00:00",
          "2019-05-29T00:00:00",
          "2019-05-30T00:00:00",
          "2019-05-31T00:00:00",
          "2019-06-03T00:00:00",
          "2019-06-04T00:00:00",
          "2019-06-05T00:00:00",
          "2019-06-06T00:00:00",
          "2019-06-07T00:00:00",
          "2019-06-10T00:00:00",
          "2019-06-11T00:00:00",
          "2019-06-12T00:00:00",
          "2019-06-13T00:00:00",
          "2019-06-14T00:00:00",
          "2019-06-17T00:00:00",
          "2019-06-18T00:00:00",
          "2019-06-19T00:00:00",
          "2019-06-20T00:00:00",
          "2019-06-21T00:00:00",
          "2019-06-24T00:00:00",
          "2019-06-25T00:00:00",
          "2019-06-26T00:00:00",
          "2019-06-27T00:00:00",
          "2019-06-28T00:00:00",
          "2019-07-01T00:00:00"
         ],
         "y": [
          101.12000274658203,
          99.26000213623047,
          100.1500015258789,
          100.62750053405762,
          101.06200103759765,
          101.59666697184245,
          101.88285718645368,
          101.9975004196167,
          102.00333404541016,
          102.30400085449219,
          102.58363689075817,
          102.87833404541016,
          103.2500005868765,
          103.42357199532645,
          103.64266713460286,
          103.80250024795532,
          104.00058836095474,
          104.06055577596028,
          104.00157928466797,
          104.12050018310546,
          104.13523828415643,
          104.073636488481,
          104.14608698305877,
          104.27416674296062,
          104.34440002441406,
          104.37999989436223,
          104.42777760823567,
          104.45714269365583,
          104.54103430386247,
          104.61666641235351,
          104.69032238375756,
          104.80062484741211,
          104.90272706927675,
          104.96882337682388,
          105.09571424211775,
          105.25888888041179,
          105.42999989277608,
          105.61236833271228,
          105.78051268748747,
          105.93674983978272,
          106.09756078952697,
          106.2442855834961,
          106.37116259197856,
          106.49340889670633,
          106.57999979654947,
          106.66543463002081,
          106.79659563429813,
          106.93874994913737,
          107.09306117466518,
          107.24299987792969,
          107.53879989624023,
          107.94219985961914,
          108.2565998840332,
          108.56579986572265,
          108.91419982910156,
          109.16979995727539,
          109.45100006103516,
          109.75320007324218,
          110.04759994506836,
          110.28599990844727,
          110.53720001220704,
          110.79519989013671,
          111.02479995727539,
          111.31059997558594,
          111.56360000610351,
          111.83740005493163,
          112.09260009765624,
          112.3766000366211,
          112.7216000366211,
          113.00060012817383,
          113.33100006103516,
          113.69640014648438,
          113.99700012207032,
          114.28800003051758,
          114.63480010986328,
          115.00460021972657,
          115.40000030517578,
          115.79520034790039,
          116.24040023803711,
          116.7020002746582,
          117.15940032958984,
          117.60700042724609,
          118.00120040893555,
          118.38240036010743,
          118.77220016479492,
          119.11580001831055,
          119.39440002441407,
          119.65740005493164,
          119.92400009155273,
          120.22600006103515,
          120.44240005493164,
          120.6918000793457,
          120.97820007324219,
          121.32179992675782,
          121.67540008544921,
          121.98960006713867,
          122.27100006103515,
          122.55199996948242,
          122.78559997558594,
          123.01860000610351,
          123.22360000610351,
          123.37100006103516,
          123.53260009765626,
          123.65580017089843,
          123.6482000732422,
          123.77040008544923,
          123.93380004882812,
          124.13199996948242,
          124.42459991455078,
          124.73800003051758,
          125.02120010375977,
          125.27060028076171,
          125.53320037841797,
          125.78280029296874,
          126.05260040283203,
          126.35800048828125,
          126.67320053100586,
          127.02660049438477,
          127.3622004699707,
          127.71120040893555,
          127.96080032348632,
          128.2184001159668,
          128.48600006103516,
          128.72980026245116,
          128.97600006103517
         ]
        }
       ],
       "layout": {
        "template": {
         "data": {
          "bar": [
           {
            "error_x": {
             "color": "#2a3f5f"
            },
            "error_y": {
             "color": "#2a3f5f"
            },
            "marker": {
             "line": {
              "color": "#E5ECF6",
              "width": 0.5
             }
            },
            "type": "bar"
           }
          ],
          "barpolar": [
           {
            "marker": {
             "line": {
              "color": "#E5ECF6",
              "width": 0.5
             }
            },
            "type": "barpolar"
           }
          ],
          "carpet": [
           {
            "aaxis": {
             "endlinecolor": "#2a3f5f",
             "gridcolor": "white",
             "linecolor": "white",
             "minorgridcolor": "white",
             "startlinecolor": "#2a3f5f"
            },
            "baxis": {
             "endlinecolor": "#2a3f5f",
             "gridcolor": "white",
             "linecolor": "white",
             "minorgridcolor": "white",
             "startlinecolor": "#2a3f5f"
            },
            "type": "carpet"
           }
          ],
          "choropleth": [
           {
            "colorbar": {
             "outlinewidth": 0,
             "ticks": ""
            },
            "type": "choropleth"
           }
          ],
          "contour": [
           {
            "colorbar": {
             "outlinewidth": 0,
             "ticks": ""
            },
            "colorscale": [
             [
              0,
              "#0d0887"
             ],
             [
              0.1111111111111111,
              "#46039f"
             ],
             [
              0.2222222222222222,
              "#7201a8"
             ],
             [
              0.3333333333333333,
              "#9c179e"
             ],
             [
              0.4444444444444444,
              "#bd3786"
             ],
             [
              0.5555555555555556,
              "#d8576b"
             ],
             [
              0.6666666666666666,
              "#ed7953"
             ],
             [
              0.7777777777777778,
              "#fb9f3a"
             ],
             [
              0.8888888888888888,
              "#fdca26"
             ],
             [
              1,
              "#f0f921"
             ]
            ],
            "type": "contour"
           }
          ],
          "contourcarpet": [
           {
            "colorbar": {
             "outlinewidth": 0,
             "ticks": ""
            },
            "type": "contourcarpet"
           }
          ],
          "heatmap": [
           {
            "colorbar": {
             "outlinewidth": 0,
             "ticks": ""
            },
            "colorscale": [
             [
              0,
              "#0d0887"
             ],
             [
              0.1111111111111111,
              "#46039f"
             ],
             [
              0.2222222222222222,
              "#7201a8"
             ],
             [
              0.3333333333333333,
              "#9c179e"
             ],
             [
              0.4444444444444444,
              "#bd3786"
             ],
             [
              0.5555555555555556,
              "#d8576b"
             ],
             [
              0.6666666666666666,
              "#ed7953"
             ],
             [
              0.7777777777777778,
              "#fb9f3a"
             ],
             [
              0.8888888888888888,
              "#fdca26"
             ],
             [
              1,
              "#f0f921"
             ]
            ],
            "type": "heatmap"
           }
          ],
          "heatmapgl": [
           {
            "colorbar": {
             "outlinewidth": 0,
             "ticks": ""
            },
            "colorscale": [
             [
              0,
              "#0d0887"
             ],
             [
              0.1111111111111111,
              "#46039f"
             ],
             [
              0.2222222222222222,
              "#7201a8"
             ],
             [
              0.3333333333333333,
              "#9c179e"
             ],
             [
              0.4444444444444444,
              "#bd3786"
             ],
             [
              0.5555555555555556,
              "#d8576b"
             ],
             [
              0.6666666666666666,
              "#ed7953"
             ],
             [
              0.7777777777777778,
              "#fb9f3a"
             ],
             [
              0.8888888888888888,
              "#fdca26"
             ],
             [
              1,
              "#f0f921"
             ]
            ],
            "type": "heatmapgl"
           }
          ],
          "histogram": [
           {
            "marker": {
             "colorbar": {
              "outlinewidth": 0,
              "ticks": ""
             }
            },
            "type": "histogram"
           }
          ],
          "histogram2d": [
           {
            "colorbar": {
             "outlinewidth": 0,
             "ticks": ""
            },
            "colorscale": [
             [
              0,
              "#0d0887"
             ],
             [
              0.1111111111111111,
              "#46039f"
             ],
             [
              0.2222222222222222,
              "#7201a8"
             ],
             [
              0.3333333333333333,
              "#9c179e"
             ],
             [
              0.4444444444444444,
              "#bd3786"
             ],
             [
              0.5555555555555556,
              "#d8576b"
             ],
             [
              0.6666666666666666,
              "#ed7953"
             ],
             [
              0.7777777777777778,
              "#fb9f3a"
             ],
             [
              0.8888888888888888,
              "#fdca26"
             ],
             [
              1,
              "#f0f921"
             ]
            ],
            "type": "histogram2d"
           }
          ],
          "histogram2dcontour": [
           {
            "colorbar": {
             "outlinewidth": 0,
             "ticks": ""
            },
            "colorscale": [
             [
              0,
              "#0d0887"
             ],
             [
              0.1111111111111111,
              "#46039f"
             ],
             [
              0.2222222222222222,
              "#7201a8"
             ],
             [
              0.3333333333333333,
              "#9c179e"
             ],
             [
              0.4444444444444444,
              "#bd3786"
             ],
             [
              0.5555555555555556,
              "#d8576b"
             ],
             [
              0.6666666666666666,
              "#ed7953"
             ],
             [
              0.7777777777777778,
              "#fb9f3a"
             ],
             [
              0.8888888888888888,
              "#fdca26"
             ],
             [
              1,
              "#f0f921"
             ]
            ],
            "type": "histogram2dcontour"
           }
          ],
          "mesh3d": [
           {
            "colorbar": {
             "outlinewidth": 0,
             "ticks": ""
            },
            "type": "mesh3d"
           }
          ],
          "parcoords": [
           {
            "line": {
             "colorbar": {
              "outlinewidth": 0,
              "ticks": ""
             }
            },
            "type": "parcoords"
           }
          ],
          "pie": [
           {
            "automargin": true,
            "type": "pie"
           }
          ],
          "scatter": [
           {
            "marker": {
             "colorbar": {
              "outlinewidth": 0,
              "ticks": ""
             }
            },
            "type": "scatter"
           }
          ],
          "scatter3d": [
           {
            "line": {
             "colorbar": {
              "outlinewidth": 0,
              "ticks": ""
             }
            },
            "marker": {
             "colorbar": {
              "outlinewidth": 0,
              "ticks": ""
             }
            },
            "type": "scatter3d"
           }
          ],
          "scattercarpet": [
           {
            "marker": {
             "colorbar": {
              "outlinewidth": 0,
              "ticks": ""
             }
            },
            "type": "scattercarpet"
           }
          ],
          "scattergeo": [
           {
            "marker": {
             "colorbar": {
              "outlinewidth": 0,
              "ticks": ""
             }
            },
            "type": "scattergeo"
           }
          ],
          "scattergl": [
           {
            "marker": {
             "colorbar": {
              "outlinewidth": 0,
              "ticks": ""
             }
            },
            "type": "scattergl"
           }
          ],
          "scattermapbox": [
           {
            "marker": {
             "colorbar": {
              "outlinewidth": 0,
              "ticks": ""
             }
            },
            "type": "scattermapbox"
           }
          ],
          "scatterpolar": [
           {
            "marker": {
             "colorbar": {
              "outlinewidth": 0,
              "ticks": ""
             }
            },
            "type": "scatterpolar"
           }
          ],
          "scatterpolargl": [
           {
            "marker": {
             "colorbar": {
              "outlinewidth": 0,
              "ticks": ""
             }
            },
            "type": "scatterpolargl"
           }
          ],
          "scatterternary": [
           {
            "marker": {
             "colorbar": {
              "outlinewidth": 0,
              "ticks": ""
             }
            },
            "type": "scatterternary"
           }
          ],
          "surface": [
           {
            "colorbar": {
             "outlinewidth": 0,
             "ticks": ""
            },
            "colorscale": [
             [
              0,
              "#0d0887"
             ],
             [
              0.1111111111111111,
              "#46039f"
             ],
             [
              0.2222222222222222,
              "#7201a8"
             ],
             [
              0.3333333333333333,
              "#9c179e"
             ],
             [
              0.4444444444444444,
              "#bd3786"
             ],
             [
              0.5555555555555556,
              "#d8576b"
             ],
             [
              0.6666666666666666,
              "#ed7953"
             ],
             [
              0.7777777777777778,
              "#fb9f3a"
             ],
             [
              0.8888888888888888,
              "#fdca26"
             ],
             [
              1,
              "#f0f921"
             ]
            ],
            "type": "surface"
           }
          ],
          "table": [
           {
            "cells": {
             "fill": {
              "color": "#EBF0F8"
             },
             "line": {
              "color": "white"
             }
            },
            "header": {
             "fill": {
              "color": "#C8D4E3"
             },
             "line": {
              "color": "white"
             }
            },
            "type": "table"
           }
          ]
         },
         "layout": {
          "annotationdefaults": {
           "arrowcolor": "#2a3f5f",
           "arrowhead": 0,
           "arrowwidth": 1
          },
          "coloraxis": {
           "colorbar": {
            "outlinewidth": 0,
            "ticks": ""
           }
          },
          "colorscale": {
           "diverging": [
            [
             0,
             "#8e0152"
            ],
            [
             0.1,
             "#c51b7d"
            ],
            [
             0.2,
             "#de77ae"
            ],
            [
             0.3,
             "#f1b6da"
            ],
            [
             0.4,
             "#fde0ef"
            ],
            [
             0.5,
             "#f7f7f7"
            ],
            [
             0.6,
             "#e6f5d0"
            ],
            [
             0.7,
             "#b8e186"
            ],
            [
             0.8,
             "#7fbc41"
            ],
            [
             0.9,
             "#4d9221"
            ],
            [
             1,
             "#276419"
            ]
           ],
           "sequential": [
            [
             0,
             "#0d0887"
            ],
            [
             0.1111111111111111,
             "#46039f"
            ],
            [
             0.2222222222222222,
             "#7201a8"
            ],
            [
             0.3333333333333333,
             "#9c179e"
            ],
            [
             0.4444444444444444,
             "#bd3786"
            ],
            [
             0.5555555555555556,
             "#d8576b"
            ],
            [
             0.6666666666666666,
             "#ed7953"
            ],
            [
             0.7777777777777778,
             "#fb9f3a"
            ],
            [
             0.8888888888888888,
             "#fdca26"
            ],
            [
             1,
             "#f0f921"
            ]
           ],
           "sequentialminus": [
            [
             0,
             "#0d0887"
            ],
            [
             0.1111111111111111,
             "#46039f"
            ],
            [
             0.2222222222222222,
             "#7201a8"
            ],
            [
             0.3333333333333333,
             "#9c179e"
            ],
            [
             0.4444444444444444,
             "#bd3786"
            ],
            [
             0.5555555555555556,
             "#d8576b"
            ],
            [
             0.6666666666666666,
             "#ed7953"
            ],
            [
             0.7777777777777778,
             "#fb9f3a"
            ],
            [
             0.8888888888888888,
             "#fdca26"
            ],
            [
             1,
             "#f0f921"
            ]
           ]
          },
          "colorway": [
           "#636efa",
           "#EF553B",
           "#00cc96",
           "#ab63fa",
           "#FFA15A",
           "#19d3f3",
           "#FF6692",
           "#B6E880",
           "#FF97FF",
           "#FECB52"
          ],
          "font": {
           "color": "#2a3f5f"
          },
          "geo": {
           "bgcolor": "white",
           "lakecolor": "white",
           "landcolor": "#E5ECF6",
           "showlakes": true,
           "showland": true,
           "subunitcolor": "white"
          },
          "hoverlabel": {
           "align": "left"
          },
          "hovermode": "closest",
          "mapbox": {
           "style": "light"
          },
          "paper_bgcolor": "white",
          "plot_bgcolor": "#E5ECF6",
          "polar": {
           "angularaxis": {
            "gridcolor": "white",
            "linecolor": "white",
            "ticks": ""
           },
           "bgcolor": "#E5ECF6",
           "radialaxis": {
            "gridcolor": "white",
            "linecolor": "white",
            "ticks": ""
           }
          },
          "scene": {
           "xaxis": {
            "backgroundcolor": "#E5ECF6",
            "gridcolor": "white",
            "gridwidth": 2,
            "linecolor": "white",
            "showbackground": true,
            "ticks": "",
            "zerolinecolor": "white"
           },
           "yaxis": {
            "backgroundcolor": "#E5ECF6",
            "gridcolor": "white",
            "gridwidth": 2,
            "linecolor": "white",
            "showbackground": true,
            "ticks": "",
            "zerolinecolor": "white"
           },
           "zaxis": {
            "backgroundcolor": "#E5ECF6",
            "gridcolor": "white",
            "gridwidth": 2,
            "linecolor": "white",
            "showbackground": true,
            "ticks": "",
            "zerolinecolor": "white"
           }
          },
          "shapedefaults": {
           "line": {
            "color": "#2a3f5f"
           }
          },
          "ternary": {
           "aaxis": {
            "gridcolor": "white",
            "linecolor": "white",
            "ticks": ""
           },
           "baxis": {
            "gridcolor": "white",
            "linecolor": "white",
            "ticks": ""
           },
           "bgcolor": "#E5ECF6",
           "caxis": {
            "gridcolor": "white",
            "linecolor": "white",
            "ticks": ""
           }
          },
          "title": {
           "x": 0.05
          },
          "xaxis": {
           "automargin": true,
           "gridcolor": "white",
           "linecolor": "white",
           "ticks": "",
           "title": {
            "standoff": 15
           },
           "zerolinecolor": "white",
           "zerolinewidth": 2
          },
          "yaxis": {
           "automargin": true,
           "gridcolor": "white",
           "linecolor": "white",
           "ticks": "",
           "title": {
            "standoff": 15
           },
           "zerolinecolor": "white",
           "zerolinewidth": 2
          }
         }
        },
        "title": {
         "font": {
          "size": 15
         },
         "text": "Microsoft Candlesticks Chart with Moving Averages"
        }
       }
      },
      "text/html": [
       "<div>\n",
       "        \n",
       "        \n",
       "            <div id=\"f2b188c0-7edd-4e55-b5f4-17603a4e64e9\" class=\"plotly-graph-div\" style=\"height:525px; width:100%;\"></div>\n",
       "            <script type=\"text/javascript\">\n",
       "                require([\"plotly\"], function(Plotly) {\n",
       "                    window.PLOTLYENV=window.PLOTLYENV || {};\n",
       "                    \n",
       "                if (document.getElementById(\"f2b188c0-7edd-4e55-b5f4-17603a4e64e9\")) {\n",
       "                    Plotly.newPlot(\n",
       "                        'f2b188c0-7edd-4e55-b5f4-17603a4e64e9',\n",
       "                        [{\"close\": [101.12000274658203, 97.4000015258789, 101.93000030517578, 102.05999755859375, 102.80000305175781, 104.2699966430664, 103.5999984741211, 102.80000305175781, 102.05000305175781, 105.01000213623047, 105.37999725341797, 106.12000274658203, 107.70999908447266, 105.68000030517578, 106.70999908447266, 106.19999694824219, 107.16999816894531, 105.08000183105469, 102.94000244140625, 106.37999725341797, 104.43000030517578, 102.77999877929688, 105.73999786376953, 107.22000122070312, 106.02999877929688, 105.2699966430664, 105.66999816894531, 105.25, 106.88999938964844, 106.80999755859375, 106.9000015258789, 108.22000122070312, 108.16999816894531, 107.1500015258789, 109.41000366210938, 110.97000122070312, 111.58999633789062, 112.36000061035156, 112.16999816894531, 112.02999877929688, 112.52999877929688, 112.26000213623047, 111.69999694824219, 111.75, 110.38999938964844, 110.51000213623047, 112.83000183105469, 113.62000274658203, 114.5, 114.58999633789062, 115.91000366210938, 117.56999969482422, 117.6500015258789, 117.5199966430664, 120.22000122070312, 117.05000305175781, 117.66000366210938, 117.91000366210938, 116.7699966430664, 116.93000030517578, 117.94000244140625, 119.0199966430664, 119.19000244140625, 119.97000122070312, 119.36000061035156, 119.88999938964844, 119.93000030517578, 119.27999877929688, 120.19000244140625, 120.33000183105469, 120.94999694824219, 121.05000305175781, 120.7699966430664, 121.7699966430664, 123.37000274658203, 123.76000213623047, 125.44000244140625, 125.01000213623047, 129.14999389648438, 129.88999938964844, 129.77000427246094, 130.60000610351562, 127.87999725341797, 126.20999908447266, 128.89999389648438, 128.14999389648438, 125.5199966430664, 125.51000213623047, 125.5, 127.12999725341797, 123.3499984741211, 124.7300033569336, 126.0199966430664, 128.92999267578125, 128.07000732421875, 126.22000122070312, 126.9000015258789, 127.66999816894531, 126.18000030517578, 126.23999786376953, 126.16000366210938, 124.94000244140625, 125.7300033569336, 123.68000030517578, 119.83999633789062, 123.16000366210938, 125.83000183105469, 127.81999969482422, 131.39999389648438, 132.60000610351562, 132.10000610351562, 131.49000549316406, 132.32000732421875, 132.4499969482422, 132.85000610351562, 135.16000366210938, 135.69000244140625, 136.9499969482422, 136.97000122070312, 137.77999877929688, 133.42999267578125, 133.92999267578125, 134.14999389648438, 133.9600067138672, 135.67999267578125], \"high\": [101.75, 100.19000244140625, 102.51000213623047, 103.2699966430664, 103.97000122070312, 104.87999725341797, 103.75, 103.44000244140625, 102.87000274658203, 105.05000305175781, 106.26000213623047, 106.62999725341797, 107.9000015258789, 107.0999984741211, 107.04000091552734, 107.0, 107.87999725341797, 106.4800033569336, 104.97000122070312, 106.37999725341797, 105.22000122070312, 104.0999984741211, 105.80000305175781, 107.2699966430664, 107.0, 105.58999633789062, 105.77999877929688, 106.58000183105469, 107.13999938964844, 107.77999877929688, 107.29000091552734, 108.30000305175781, 108.66000366210938, 107.94000244140625, 109.4800033569336, 111.19999694824219, 112.18000030517578, 113.23999786376953, 112.36000061035156, 112.87999725341797, 113.0199966430664, 113.25, 112.38999938964844, 112.66000366210938, 111.55000305175781, 110.70999908447266, 112.94999694824219, 113.98999786376953, 115.0, 115.19999694824219, 117.25, 117.61000061035156, 118.44000244140625, 118.75, 120.81999969482422, 119.58999633789062, 118.01000213623047, 118.70999908447266, 118.20999908447266, 117.58000183105469, 118.31999969482422, 119.11000061035156, 119.4800033569336, 120.43000030517578, 120.2300033569336, 120.2300033569336, 120.0199966430664, 119.54000091552734, 120.3499984741211, 120.8499984741211, 120.9800033569336, 121.58000183105469, 121.6500015258789, 121.8499984741211, 123.5199966430664, 124.0, 125.58000183105469, 125.8499984741211, 131.3699951171875, 130.52000427246094, 130.17999267578125, 130.6999969482422, 130.64999389648438, 128.0, 129.42999267578125, 128.55999755859375, 127.18000030517578, 126.37000274658203, 125.79000091552734, 127.93000030517578, 125.55000305175781, 125.87999725341797, 126.70999908447266, 129.3800048828125, 130.4600067138672, 127.58999633789062, 127.52999877929688, 128.24000549316406, 126.29000091552734, 127.41999816894531, 128.0, 125.38999938964844, 125.76000213623047, 124.62000274658203, 124.37000274658203, 123.27999877929688, 125.87000274658203, 127.97000122070312, 132.25, 134.0800018310547, 134.24000549316406, 131.97000122070312, 133.0, 133.7899932861328, 133.72999572753906, 135.24000549316406, 135.92999267578125, 137.66000366210938, 137.72999572753906, 138.39999389648438, 137.58999633789062, 135.74000549316406, 134.7100067138672, 134.60000610351562, 136.6999969482422], \"low\": [98.94000244140625, 97.19999694824219, 98.93000030517578, 100.9800033569336, 101.70999908447266, 103.23999786376953, 102.37999725341797, 101.63999938964844, 101.26000213623047, 101.87999725341797, 104.95999908447266, 104.76000213623047, 105.91000366210938, 104.86000061035156, 105.33999633789062, 105.33999633789062, 106.19999694824219, 104.66000366210938, 102.16999816894531, 104.33000183105469, 103.18000030517578, 102.3499984741211, 102.7699966430664, 105.95999908447266, 105.52999877929688, 104.29000091552734, 104.26000213623047, 104.97000122070312, 105.4800033569336, 106.70999908447266, 105.66000366210938, 107.36000061035156, 107.77999877929688, 106.29000091552734, 106.87000274658203, 109.81999969482422, 111.26000213623047, 111.16999816894531, 110.87999725341797, 111.7300033569336, 111.66999816894531, 110.80000305175781, 111.2300033569336, 111.43000030517578, 109.87000274658203, 108.80000305175781, 110.9800033569336, 112.6500015258789, 113.77999877929688, 114.33000183105469, 114.58999633789062, 116.05000305175781, 116.98999786376953, 116.70999908447266, 117.08999633789062, 117.04000091552734, 116.31999969482422, 116.8499984741211, 115.5199966430664, 116.12999725341797, 116.95999908447266, 118.0999984741211, 118.5199966430664, 119.1500015258789, 118.37999725341797, 119.37000274658203, 118.63999938964844, 118.58000183105469, 119.54000091552734, 119.91999816894531, 120.37000274658203, 120.56999969482422, 120.0999984741211, 120.54000091552734, 121.30000305175781, 122.56999969482422, 123.83000183105469, 124.5199966430664, 128.8300018310547, 129.02000427246094, 129.35000610351562, 129.38999938964844, 127.69999694824219, 125.5199966430664, 127.25, 126.11000061035156, 124.22000122070312, 124.75, 123.56999969482422, 123.81999969482422, 123.04000091552734, 123.69999694824219, 123.69999694824219, 126.45999908447266, 127.91999816894531, 125.76000213623047, 126.58000183105469, 126.5199966430664, 124.73999786376953, 125.97000122070312, 126.05000305175781, 124.04000091552734, 124.77999877929688, 123.31999969482422, 119.01000213623047, 120.6500015258789, 124.20999908447266, 125.5999984741211, 128.25999450683594, 132.0, 131.27999877929688, 130.7100067138672, 131.55999755859375, 131.63999938964844, 132.52999877929688, 133.57000732421875, 133.80999755859375, 135.72000122070312, 136.4600067138672, 137.0, 132.72999572753906, 133.60000610351562, 133.50999450683594, 133.16000366210938, 134.97000122070312], \"name\": \"MSFT\", \"open\": [99.55000305175781, 100.0999984741211, 99.72000122070312, 101.63999938964844, 103.04000091552734, 103.86000061035156, 103.22000122070312, 103.19000244140625, 101.9000015258789, 102.51000213623047, 105.26000213623047, 105.0, 107.45999908447266, 106.75, 106.12000274658203, 106.86000061035156, 107.23999786376953, 106.26000213623047, 104.87999725341797, 104.62000274658203, 103.80000305175781, 103.77999877929688, 102.87000274658203, 106.05999755859375, 107.0, 105.19000244140625, 104.38999938964844, 106.19999694824219, 106.13999938964844, 107.5, 106.30999755859375, 107.91000366210938, 107.79000091552734, 107.86000061035156, 106.9000015258789, 110.05000305175781, 111.76000213623047, 111.26000213623047, 111.69000244140625, 112.04000091552734, 112.88999938964844, 113.0199966430664, 112.25, 111.87000274658203, 111.4000015258789, 109.16000366210938, 110.98999786376953, 112.81999969482422, 114.12999725341797, 114.54000091552734, 115.33999633789062, 116.16999816894531, 118.08999633789062, 117.38999938964844, 117.13999938964844, 119.5, 116.55999755859375, 118.62000274658203, 117.87999725341797, 117.44000244140625, 118.06999969482422, 118.94999694824219, 119.05999755859375, 119.86000061035156, 120.0999984741211, 119.38999938964844, 119.80999755859375, 118.62999725341797, 119.76000213623047, 120.54000091552734, 120.63999938964844, 120.94000244140625, 121.63999938964844, 121.23999786376953, 122.19000244140625, 122.62000274658203, 124.0999984741211, 125.79000091552734, 130.05999755859375, 129.6999969482422, 129.89999389648438, 129.80999755859375, 130.52999877929688, 127.9800033569336, 127.36000061035156, 126.38999938964844, 126.45999908447266, 125.44000244140625, 124.29000091552734, 124.91000366210938, 124.11000061035156, 123.87000274658203, 124.26000213623047, 126.75, 128.30999755859375, 126.5199966430664, 127.43000030517578, 126.62000274658203, 126.19999694824219, 126.91000366210938, 126.9800033569336, 125.37999725341797, 125.26000213623047, 124.2300033569336, 123.8499984741211, 121.27999877929688, 124.94999694824219, 126.44000244140625, 129.19000244140625, 132.39999389648438, 133.8800048828125, 131.39999389648438, 131.97999572753906, 132.25999450683594, 132.6300048828125, 134.19000244140625, 135.0, 137.4499969482422, 136.5800018310547, 137.0, 137.25, 134.35000610351562, 134.13999938964844, 134.57000732421875, 136.6300048828125], \"showlegend\": false, \"type\": \"candlestick\", \"x\": [\"2019-01-02T00:00:00\", \"2019-01-03T00:00:00\", \"2019-01-04T00:00:00\", \"2019-01-07T00:00:00\", \"2019-01-08T00:00:00\", \"2019-01-09T00:00:00\", \"2019-01-10T00:00:00\", \"2019-01-11T00:00:00\", \"2019-01-14T00:00:00\", \"2019-01-15T00:00:00\", \"2019-01-16T00:00:00\", \"2019-01-17T00:00:00\", \"2019-01-18T00:00:00\", \"2019-01-22T00:00:00\", \"2019-01-23T00:00:00\", \"2019-01-24T00:00:00\", \"2019-01-25T00:00:00\", \"2019-01-28T00:00:00\", \"2019-01-29T00:00:00\", \"2019-01-30T00:00:00\", \"2019-01-31T00:00:00\", \"2019-02-01T00:00:00\", \"2019-02-04T00:00:00\", \"2019-02-05T00:00:00\", \"2019-02-06T00:00:00\", \"2019-02-07T00:00:00\", \"2019-02-08T00:00:00\", \"2019-02-11T00:00:00\", \"2019-02-12T00:00:00\", \"2019-02-13T00:00:00\", \"2019-02-14T00:00:00\", \"2019-02-15T00:00:00\", \"2019-02-19T00:00:00\", \"2019-02-20T00:00:00\", \"2019-02-21T00:00:00\", \"2019-02-22T00:00:00\", \"2019-02-25T00:00:00\", \"2019-02-26T00:00:00\", \"2019-02-27T00:00:00\", \"2019-02-28T00:00:00\", \"2019-03-01T00:00:00\", \"2019-03-04T00:00:00\", \"2019-03-05T00:00:00\", \"2019-03-06T00:00:00\", \"2019-03-07T00:00:00\", \"2019-03-08T00:00:00\", \"2019-03-11T00:00:00\", \"2019-03-12T00:00:00\", \"2019-03-13T00:00:00\", \"2019-03-14T00:00:00\", \"2019-03-15T00:00:00\", \"2019-03-18T00:00:00\", \"2019-03-19T00:00:00\", \"2019-03-20T00:00:00\", \"2019-03-21T00:00:00\", \"2019-03-22T00:00:00\", \"2019-03-25T00:00:00\", \"2019-03-26T00:00:00\", \"2019-03-27T00:00:00\", \"2019-03-28T00:00:00\", \"2019-03-29T00:00:00\", \"2019-04-01T00:00:00\", \"2019-04-02T00:00:00\", \"2019-04-03T00:00:00\", \"2019-04-04T00:00:00\", \"2019-04-05T00:00:00\", \"2019-04-08T00:00:00\", \"2019-04-09T00:00:00\", \"2019-04-10T00:00:00\", \"2019-04-11T00:00:00\", \"2019-04-12T00:00:00\", \"2019-04-15T00:00:00\", \"2019-04-16T00:00:00\", \"2019-04-17T00:00:00\", \"2019-04-18T00:00:00\", \"2019-04-22T00:00:00\", \"2019-04-23T00:00:00\", \"2019-04-24T00:00:00\", \"2019-04-25T00:00:00\", \"2019-04-26T00:00:00\", \"2019-04-29T00:00:00\", \"2019-04-30T00:00:00\", \"2019-05-01T00:00:00\", \"2019-05-02T00:00:00\", \"2019-05-03T00:00:00\", \"2019-05-06T00:00:00\", \"2019-05-07T00:00:00\", \"2019-05-08T00:00:00\", \"2019-05-09T00:00:00\", \"2019-05-10T00:00:00\", \"2019-05-13T00:00:00\", \"2019-05-14T00:00:00\", \"2019-05-15T00:00:00\", \"2019-05-16T00:00:00\", \"2019-05-17T00:00:00\", \"2019-05-20T00:00:00\", \"2019-05-21T00:00:00\", \"2019-05-22T00:00:00\", \"2019-05-23T00:00:00\", \"2019-05-24T00:00:00\", \"2019-05-28T00:00:00\", \"2019-05-29T00:00:00\", \"2019-05-30T00:00:00\", \"2019-05-31T00:00:00\", \"2019-06-03T00:00:00\", \"2019-06-04T00:00:00\", \"2019-06-05T00:00:00\", \"2019-06-06T00:00:00\", \"2019-06-07T00:00:00\", \"2019-06-10T00:00:00\", \"2019-06-11T00:00:00\", \"2019-06-12T00:00:00\", \"2019-06-13T00:00:00\", \"2019-06-14T00:00:00\", \"2019-06-17T00:00:00\", \"2019-06-18T00:00:00\", \"2019-06-19T00:00:00\", \"2019-06-20T00:00:00\", \"2019-06-21T00:00:00\", \"2019-06-24T00:00:00\", \"2019-06-25T00:00:00\", \"2019-06-26T00:00:00\", \"2019-06-27T00:00:00\", \"2019-06-28T00:00:00\", \"2019-07-01T00:00:00\"]}, {\"line\": {\"color\": \"blue\", \"width\": 1}, \"mode\": \"lines\", \"name\": \"Moving Average of 30 periods\", \"type\": \"scatter\", \"x\": [\"2019-01-02T00:00:00\", \"2019-01-03T00:00:00\", \"2019-01-04T00:00:00\", \"2019-01-07T00:00:00\", \"2019-01-08T00:00:00\", \"2019-01-09T00:00:00\", \"2019-01-10T00:00:00\", \"2019-01-11T00:00:00\", \"2019-01-14T00:00:00\", \"2019-01-15T00:00:00\", \"2019-01-16T00:00:00\", \"2019-01-17T00:00:00\", \"2019-01-18T00:00:00\", \"2019-01-22T00:00:00\", \"2019-01-23T00:00:00\", \"2019-01-24T00:00:00\", \"2019-01-25T00:00:00\", \"2019-01-28T00:00:00\", \"2019-01-29T00:00:00\", \"2019-01-30T00:00:00\", \"2019-01-31T00:00:00\", \"2019-02-01T00:00:00\", \"2019-02-04T00:00:00\", \"2019-02-05T00:00:00\", \"2019-02-06T00:00:00\", \"2019-02-07T00:00:00\", \"2019-02-08T00:00:00\", \"2019-02-11T00:00:00\", \"2019-02-12T00:00:00\", \"2019-02-13T00:00:00\", \"2019-02-14T00:00:00\", \"2019-02-15T00:00:00\", \"2019-02-19T00:00:00\", \"2019-02-20T00:00:00\", \"2019-02-21T00:00:00\", \"2019-02-22T00:00:00\", \"2019-02-25T00:00:00\", \"2019-02-26T00:00:00\", \"2019-02-27T00:00:00\", \"2019-02-28T00:00:00\", \"2019-03-01T00:00:00\", \"2019-03-04T00:00:00\", \"2019-03-05T00:00:00\", \"2019-03-06T00:00:00\", \"2019-03-07T00:00:00\", \"2019-03-08T00:00:00\", \"2019-03-11T00:00:00\", \"2019-03-12T00:00:00\", \"2019-03-13T00:00:00\", \"2019-03-14T00:00:00\", \"2019-03-15T00:00:00\", \"2019-03-18T00:00:00\", \"2019-03-19T00:00:00\", \"2019-03-20T00:00:00\", \"2019-03-21T00:00:00\", \"2019-03-22T00:00:00\", \"2019-03-25T00:00:00\", \"2019-03-26T00:00:00\", \"2019-03-27T00:00:00\", \"2019-03-28T00:00:00\", \"2019-03-29T00:00:00\", \"2019-04-01T00:00:00\", \"2019-04-02T00:00:00\", \"2019-04-03T00:00:00\", \"2019-04-04T00:00:00\", \"2019-04-05T00:00:00\", \"2019-04-08T00:00:00\", \"2019-04-09T00:00:00\", \"2019-04-10T00:00:00\", \"2019-04-11T00:00:00\", \"2019-04-12T00:00:00\", \"2019-04-15T00:00:00\", \"2019-04-16T00:00:00\", \"2019-04-17T00:00:00\", \"2019-04-18T00:00:00\", \"2019-04-22T00:00:00\", \"2019-04-23T00:00:00\", \"2019-04-24T00:00:00\", \"2019-04-25T00:00:00\", \"2019-04-26T00:00:00\", \"2019-04-29T00:00:00\", \"2019-04-30T00:00:00\", \"2019-05-01T00:00:00\", \"2019-05-02T00:00:00\", \"2019-05-03T00:00:00\", \"2019-05-06T00:00:00\", \"2019-05-07T00:00:00\", \"2019-05-08T00:00:00\", \"2019-05-09T00:00:00\", \"2019-05-10T00:00:00\", \"2019-05-13T00:00:00\", \"2019-05-14T00:00:00\", \"2019-05-15T00:00:00\", \"2019-05-16T00:00:00\", \"2019-05-17T00:00:00\", \"2019-05-20T00:00:00\", \"2019-05-21T00:00:00\", \"2019-05-22T00:00:00\", \"2019-05-23T00:00:00\", \"2019-05-24T00:00:00\", \"2019-05-28T00:00:00\", \"2019-05-29T00:00:00\", \"2019-05-30T00:00:00\", \"2019-05-31T00:00:00\", \"2019-06-03T00:00:00\", \"2019-06-04T00:00:00\", \"2019-06-05T00:00:00\", \"2019-06-06T00:00:00\", \"2019-06-07T00:00:00\", \"2019-06-10T00:00:00\", \"2019-06-11T00:00:00\", \"2019-06-12T00:00:00\", \"2019-06-13T00:00:00\", \"2019-06-14T00:00:00\", \"2019-06-17T00:00:00\", \"2019-06-18T00:00:00\", \"2019-06-19T00:00:00\", \"2019-06-20T00:00:00\", \"2019-06-21T00:00:00\", \"2019-06-24T00:00:00\", \"2019-06-25T00:00:00\", \"2019-06-26T00:00:00\", \"2019-06-27T00:00:00\", \"2019-06-28T00:00:00\", \"2019-07-01T00:00:00\"], \"y\": [101.12000274658203, 99.26000213623047, 100.1500015258789, 100.62750053405762, 101.06200103759765, 101.59666697184245, 101.88285718645368, 101.9975004196167, 102.00333404541016, 102.30400085449219, 102.58363689075817, 102.87833404541016, 103.2500005868765, 103.42357199532645, 103.64266713460286, 103.80250024795532, 104.00058836095474, 104.06055577596028, 104.00157928466797, 104.12050018310546, 104.13523828415643, 104.073636488481, 104.14608698305877, 104.27416674296062, 104.34440002441406, 104.37999989436223, 104.42777760823567, 104.45714269365583, 104.54103430386247, 104.61666641235351, 104.80933303833008, 105.16999969482421, 105.37799962361653, 105.54766642252604, 105.76799977620443, 105.99133326212565, 106.2576665242513, 106.57633310953776, 106.91366628011068, 107.1476661682129, 107.38599955240885, 107.59066619873047, 107.72366612752279, 107.92599945068359, 108.0486661275228, 108.1923329671224, 108.38099975585938, 108.66566645304361, 109.05099970499674, 109.32466634114583, 109.70733311971028, 110.20033315022786, 110.59733327229817, 110.94066645304362, 111.41366653442383, 111.80633341471354, 112.20600026448568, 112.628000386556, 112.95733362833658, 113.29466705322265, 113.66266708374023, 114.02266693115234, 114.39000040690104, 114.81733373006185, 115.14900029500326, 115.44633356730144, 115.72433369954427, 115.95500030517579, 116.22233378092447, 116.4990005493164, 116.77966715494792, 117.07266718546549, 117.3750005086263, 117.70900039672851, 118.14166717529297, 118.58333384195963, 119.00366719563802, 119.38333384195964, 119.87166697184244, 120.38166707356771, 120.84366709391276, 121.27800064086914, 121.61900049845377, 121.90866724650066, 122.19800033569337, 122.56800003051758, 122.82999979654947, 123.08333307902018, 123.37433319091797, 123.7143330891927, 123.8946662902832, 124.0849998474121, 124.31266632080079, 124.61133270263672, 124.90166625976562, 125.11266632080078, 125.34499969482422, 125.62466634114584, 125.82433293660482, 126.02133280436198, 126.19499969482422, 126.32466634114583, 126.48999989827475, 126.55366668701171, 126.43599980672201, 126.41599985758464, 126.42899983723959, 126.52266642252604, 126.59766642252605, 126.68799997965495, 126.76566670735677, 126.79533335367839, 126.94333368937174, 127.15133361816406, 127.28300069173177, 127.51666768391927, 127.85566787719726, 128.23700103759765, 128.61933441162108, 128.9743344624837, 129.31033426920573, 129.61700057983398, 129.88800048828125, 130.0556676228841, 130.30933380126953]}, {\"line\": {\"color\": \"red\", \"width\": 1}, \"mode\": \"lines\", \"name\": \"Moving Average of 50 periods\", \"type\": \"scatter\", \"x\": [\"2019-01-02T00:00:00\", \"2019-01-03T00:00:00\", \"2019-01-04T00:00:00\", \"2019-01-07T00:00:00\", \"2019-01-08T00:00:00\", \"2019-01-09T00:00:00\", \"2019-01-10T00:00:00\", \"2019-01-11T00:00:00\", \"2019-01-14T00:00:00\", \"2019-01-15T00:00:00\", \"2019-01-16T00:00:00\", \"2019-01-17T00:00:00\", \"2019-01-18T00:00:00\", \"2019-01-22T00:00:00\", \"2019-01-23T00:00:00\", \"2019-01-24T00:00:00\", \"2019-01-25T00:00:00\", \"2019-01-28T00:00:00\", \"2019-01-29T00:00:00\", \"2019-01-30T00:00:00\", \"2019-01-31T00:00:00\", \"2019-02-01T00:00:00\", \"2019-02-04T00:00:00\", \"2019-02-05T00:00:00\", \"2019-02-06T00:00:00\", \"2019-02-07T00:00:00\", \"2019-02-08T00:00:00\", \"2019-02-11T00:00:00\", \"2019-02-12T00:00:00\", \"2019-02-13T00:00:00\", \"2019-02-14T00:00:00\", \"2019-02-15T00:00:00\", \"2019-02-19T00:00:00\", \"2019-02-20T00:00:00\", \"2019-02-21T00:00:00\", \"2019-02-22T00:00:00\", \"2019-02-25T00:00:00\", \"2019-02-26T00:00:00\", \"2019-02-27T00:00:00\", \"2019-02-28T00:00:00\", \"2019-03-01T00:00:00\", \"2019-03-04T00:00:00\", \"2019-03-05T00:00:00\", \"2019-03-06T00:00:00\", \"2019-03-07T00:00:00\", \"2019-03-08T00:00:00\", \"2019-03-11T00:00:00\", \"2019-03-12T00:00:00\", \"2019-03-13T00:00:00\", \"2019-03-14T00:00:00\", \"2019-03-15T00:00:00\", \"2019-03-18T00:00:00\", \"2019-03-19T00:00:00\", \"2019-03-20T00:00:00\", \"2019-03-21T00:00:00\", \"2019-03-22T00:00:00\", \"2019-03-25T00:00:00\", \"2019-03-26T00:00:00\", \"2019-03-27T00:00:00\", \"2019-03-28T00:00:00\", \"2019-03-29T00:00:00\", \"2019-04-01T00:00:00\", \"2019-04-02T00:00:00\", \"2019-04-03T00:00:00\", \"2019-04-04T00:00:00\", \"2019-04-05T00:00:00\", \"2019-04-08T00:00:00\", \"2019-04-09T00:00:00\", \"2019-04-10T00:00:00\", \"2019-04-11T00:00:00\", \"2019-04-12T00:00:00\", \"2019-04-15T00:00:00\", \"2019-04-16T00:00:00\", \"2019-04-17T00:00:00\", \"2019-04-18T00:00:00\", \"2019-04-22T00:00:00\", \"2019-04-23T00:00:00\", \"2019-04-24T00:00:00\", \"2019-04-25T00:00:00\", \"2019-04-26T00:00:00\", \"2019-04-29T00:00:00\", \"2019-04-30T00:00:00\", \"2019-05-01T00:00:00\", \"2019-05-02T00:00:00\", \"2019-05-03T00:00:00\", \"2019-05-06T00:00:00\", \"2019-05-07T00:00:00\", \"2019-05-08T00:00:00\", \"2019-05-09T00:00:00\", \"2019-05-10T00:00:00\", \"2019-05-13T00:00:00\", \"2019-05-14T00:00:00\", \"2019-05-15T00:00:00\", \"2019-05-16T00:00:00\", \"2019-05-17T00:00:00\", \"2019-05-20T00:00:00\", \"2019-05-21T00:00:00\", \"2019-05-22T00:00:00\", \"2019-05-23T00:00:00\", \"2019-05-24T00:00:00\", \"2019-05-28T00:00:00\", \"2019-05-29T00:00:00\", \"2019-05-30T00:00:00\", \"2019-05-31T00:00:00\", \"2019-06-03T00:00:00\", \"2019-06-04T00:00:00\", \"2019-06-05T00:00:00\", \"2019-06-06T00:00:00\", \"2019-06-07T00:00:00\", \"2019-06-10T00:00:00\", \"2019-06-11T00:00:00\", \"2019-06-12T00:00:00\", \"2019-06-13T00:00:00\", \"2019-06-14T00:00:00\", \"2019-06-17T00:00:00\", \"2019-06-18T00:00:00\", \"2019-06-19T00:00:00\", \"2019-06-20T00:00:00\", \"2019-06-21T00:00:00\", \"2019-06-24T00:00:00\", \"2019-06-25T00:00:00\", \"2019-06-26T00:00:00\", \"2019-06-27T00:00:00\", \"2019-06-28T00:00:00\", \"2019-07-01T00:00:00\"], \"y\": [101.12000274658203, 99.26000213623047, 100.1500015258789, 100.62750053405762, 101.06200103759765, 101.59666697184245, 101.88285718645368, 101.9975004196167, 102.00333404541016, 102.30400085449219, 102.58363689075817, 102.87833404541016, 103.2500005868765, 103.42357199532645, 103.64266713460286, 103.80250024795532, 104.00058836095474, 104.06055577596028, 104.00157928466797, 104.12050018310546, 104.13523828415643, 104.073636488481, 104.14608698305877, 104.27416674296062, 104.34440002441406, 104.37999989436223, 104.42777760823567, 104.45714269365583, 104.54103430386247, 104.61666641235351, 104.69032238375756, 104.80062484741211, 104.90272706927675, 104.96882337682388, 105.09571424211775, 105.25888888041179, 105.42999989277608, 105.61236833271228, 105.78051268748747, 105.93674983978272, 106.09756078952697, 106.2442855834961, 106.37116259197856, 106.49340889670633, 106.57999979654947, 106.66543463002081, 106.79659563429813, 106.93874994913737, 107.09306117466518, 107.24299987792969, 107.53879989624023, 107.94219985961914, 108.2565998840332, 108.56579986572265, 108.91419982910156, 109.16979995727539, 109.45100006103516, 109.75320007324218, 110.04759994506836, 110.28599990844727, 110.53720001220704, 110.79519989013671, 111.02479995727539, 111.31059997558594, 111.56360000610351, 111.83740005493163, 112.09260009765624, 112.3766000366211, 112.7216000366211, 113.00060012817383, 113.33100006103516, 113.69640014648438, 113.99700012207032, 114.28800003051758, 114.63480010986328, 115.00460021972657, 115.40000030517578, 115.79520034790039, 116.24040023803711, 116.7020002746582, 117.15940032958984, 117.60700042724609, 118.00120040893555, 118.38240036010743, 118.77220016479492, 119.11580001831055, 119.39440002441407, 119.65740005493164, 119.92400009155273, 120.22600006103515, 120.44240005493164, 120.6918000793457, 120.97820007324219, 121.32179992675782, 121.67540008544921, 121.98960006713867, 122.27100006103515, 122.55199996948242, 122.78559997558594, 123.01860000610351, 123.22360000610351, 123.37100006103516, 123.53260009765626, 123.65580017089843, 123.6482000732422, 123.77040008544923, 123.93380004882812, 124.13199996948242, 124.42459991455078, 124.73800003051758, 125.02120010375977, 125.27060028076171, 125.53320037841797, 125.78280029296874, 126.05260040283203, 126.35800048828125, 126.67320053100586, 127.02660049438477, 127.3622004699707, 127.71120040893555, 127.96080032348632, 128.2184001159668, 128.48600006103516, 128.72980026245116, 128.97600006103517]}],\n",
       "                        {\"template\": {\"data\": {\"bar\": [{\"error_x\": {\"color\": \"#2a3f5f\"}, \"error_y\": {\"color\": \"#2a3f5f\"}, \"marker\": {\"line\": {\"color\": \"#E5ECF6\", \"width\": 0.5}}, \"type\": \"bar\"}], \"barpolar\": [{\"marker\": {\"line\": {\"color\": \"#E5ECF6\", \"width\": 0.5}}, \"type\": \"barpolar\"}], \"carpet\": [{\"aaxis\": {\"endlinecolor\": \"#2a3f5f\", \"gridcolor\": \"white\", \"linecolor\": \"white\", \"minorgridcolor\": \"white\", \"startlinecolor\": \"#2a3f5f\"}, \"baxis\": {\"endlinecolor\": \"#2a3f5f\", \"gridcolor\": \"white\", \"linecolor\": \"white\", \"minorgridcolor\": \"white\", \"startlinecolor\": \"#2a3f5f\"}, \"type\": \"carpet\"}], \"choropleth\": [{\"colorbar\": {\"outlinewidth\": 0, \"ticks\": \"\"}, \"type\": \"choropleth\"}], \"contour\": [{\"colorbar\": {\"outlinewidth\": 0, \"ticks\": \"\"}, \"colorscale\": [[0.0, \"#0d0887\"], [0.1111111111111111, \"#46039f\"], [0.2222222222222222, \"#7201a8\"], [0.3333333333333333, \"#9c179e\"], [0.4444444444444444, \"#bd3786\"], [0.5555555555555556, \"#d8576b\"], [0.6666666666666666, \"#ed7953\"], [0.7777777777777778, \"#fb9f3a\"], [0.8888888888888888, \"#fdca26\"], [1.0, \"#f0f921\"]], \"type\": \"contour\"}], \"contourcarpet\": [{\"colorbar\": {\"outlinewidth\": 0, \"ticks\": \"\"}, \"type\": \"contourcarpet\"}], \"heatmap\": [{\"colorbar\": {\"outlinewidth\": 0, \"ticks\": \"\"}, \"colorscale\": [[0.0, \"#0d0887\"], [0.1111111111111111, \"#46039f\"], [0.2222222222222222, \"#7201a8\"], [0.3333333333333333, \"#9c179e\"], [0.4444444444444444, \"#bd3786\"], [0.5555555555555556, \"#d8576b\"], [0.6666666666666666, \"#ed7953\"], [0.7777777777777778, \"#fb9f3a\"], [0.8888888888888888, \"#fdca26\"], [1.0, \"#f0f921\"]], \"type\": \"heatmap\"}], \"heatmapgl\": [{\"colorbar\": {\"outlinewidth\": 0, \"ticks\": \"\"}, \"colorscale\": [[0.0, \"#0d0887\"], [0.1111111111111111, \"#46039f\"], [0.2222222222222222, \"#7201a8\"], [0.3333333333333333, \"#9c179e\"], [0.4444444444444444, \"#bd3786\"], [0.5555555555555556, \"#d8576b\"], [0.6666666666666666, \"#ed7953\"], [0.7777777777777778, \"#fb9f3a\"], [0.8888888888888888, \"#fdca26\"], [1.0, \"#f0f921\"]], \"type\": \"heatmapgl\"}], \"histogram\": [{\"marker\": {\"colorbar\": {\"outlinewidth\": 0, \"ticks\": \"\"}}, \"type\": \"histogram\"}], \"histogram2d\": [{\"colorbar\": {\"outlinewidth\": 0, \"ticks\": \"\"}, \"colorscale\": [[0.0, \"#0d0887\"], [0.1111111111111111, \"#46039f\"], [0.2222222222222222, \"#7201a8\"], [0.3333333333333333, \"#9c179e\"], [0.4444444444444444, \"#bd3786\"], [0.5555555555555556, \"#d8576b\"], [0.6666666666666666, \"#ed7953\"], [0.7777777777777778, \"#fb9f3a\"], [0.8888888888888888, \"#fdca26\"], [1.0, \"#f0f921\"]], \"type\": \"histogram2d\"}], \"histogram2dcontour\": [{\"colorbar\": {\"outlinewidth\": 0, \"ticks\": \"\"}, \"colorscale\": [[0.0, \"#0d0887\"], [0.1111111111111111, \"#46039f\"], [0.2222222222222222, \"#7201a8\"], [0.3333333333333333, \"#9c179e\"], [0.4444444444444444, \"#bd3786\"], [0.5555555555555556, \"#d8576b\"], [0.6666666666666666, \"#ed7953\"], [0.7777777777777778, \"#fb9f3a\"], [0.8888888888888888, \"#fdca26\"], [1.0, \"#f0f921\"]], \"type\": \"histogram2dcontour\"}], \"mesh3d\": [{\"colorbar\": {\"outlinewidth\": 0, \"ticks\": \"\"}, \"type\": \"mesh3d\"}], \"parcoords\": [{\"line\": {\"colorbar\": {\"outlinewidth\": 0, \"ticks\": \"\"}}, \"type\": \"parcoords\"}], \"pie\": [{\"automargin\": true, \"type\": \"pie\"}], \"scatter\": [{\"marker\": {\"colorbar\": {\"outlinewidth\": 0, \"ticks\": \"\"}}, \"type\": \"scatter\"}], \"scatter3d\": [{\"line\": {\"colorbar\": {\"outlinewidth\": 0, \"ticks\": \"\"}}, \"marker\": {\"colorbar\": {\"outlinewidth\": 0, \"ticks\": \"\"}}, \"type\": \"scatter3d\"}], \"scattercarpet\": [{\"marker\": {\"colorbar\": {\"outlinewidth\": 0, \"ticks\": \"\"}}, \"type\": \"scattercarpet\"}], \"scattergeo\": [{\"marker\": {\"colorbar\": {\"outlinewidth\": 0, \"ticks\": \"\"}}, \"type\": \"scattergeo\"}], \"scattergl\": [{\"marker\": {\"colorbar\": {\"outlinewidth\": 0, \"ticks\": \"\"}}, \"type\": \"scattergl\"}], \"scattermapbox\": [{\"marker\": {\"colorbar\": {\"outlinewidth\": 0, \"ticks\": \"\"}}, \"type\": \"scattermapbox\"}], \"scatterpolar\": [{\"marker\": {\"colorbar\": {\"outlinewidth\": 0, \"ticks\": \"\"}}, \"type\": \"scatterpolar\"}], \"scatterpolargl\": [{\"marker\": {\"colorbar\": {\"outlinewidth\": 0, \"ticks\": \"\"}}, \"type\": \"scatterpolargl\"}], \"scatterternary\": [{\"marker\": {\"colorbar\": {\"outlinewidth\": 0, \"ticks\": \"\"}}, \"type\": \"scatterternary\"}], \"surface\": [{\"colorbar\": {\"outlinewidth\": 0, \"ticks\": \"\"}, \"colorscale\": [[0.0, \"#0d0887\"], [0.1111111111111111, \"#46039f\"], [0.2222222222222222, \"#7201a8\"], [0.3333333333333333, \"#9c179e\"], [0.4444444444444444, \"#bd3786\"], [0.5555555555555556, \"#d8576b\"], [0.6666666666666666, \"#ed7953\"], [0.7777777777777778, \"#fb9f3a\"], [0.8888888888888888, \"#fdca26\"], [1.0, \"#f0f921\"]], \"type\": \"surface\"}], \"table\": [{\"cells\": {\"fill\": {\"color\": \"#EBF0F8\"}, \"line\": {\"color\": \"white\"}}, \"header\": {\"fill\": {\"color\": \"#C8D4E3\"}, \"line\": {\"color\": \"white\"}}, \"type\": \"table\"}]}, \"layout\": {\"annotationdefaults\": {\"arrowcolor\": \"#2a3f5f\", \"arrowhead\": 0, \"arrowwidth\": 1}, \"coloraxis\": {\"colorbar\": {\"outlinewidth\": 0, \"ticks\": \"\"}}, \"colorscale\": {\"diverging\": [[0, \"#8e0152\"], [0.1, \"#c51b7d\"], [0.2, \"#de77ae\"], [0.3, \"#f1b6da\"], [0.4, \"#fde0ef\"], [0.5, \"#f7f7f7\"], [0.6, \"#e6f5d0\"], [0.7, \"#b8e186\"], [0.8, \"#7fbc41\"], [0.9, \"#4d9221\"], [1, \"#276419\"]], \"sequential\": [[0.0, \"#0d0887\"], [0.1111111111111111, \"#46039f\"], [0.2222222222222222, \"#7201a8\"], [0.3333333333333333, \"#9c179e\"], [0.4444444444444444, \"#bd3786\"], [0.5555555555555556, \"#d8576b\"], [0.6666666666666666, \"#ed7953\"], [0.7777777777777778, \"#fb9f3a\"], [0.8888888888888888, \"#fdca26\"], [1.0, \"#f0f921\"]], \"sequentialminus\": [[0.0, \"#0d0887\"], [0.1111111111111111, \"#46039f\"], [0.2222222222222222, \"#7201a8\"], [0.3333333333333333, \"#9c179e\"], [0.4444444444444444, \"#bd3786\"], [0.5555555555555556, \"#d8576b\"], [0.6666666666666666, \"#ed7953\"], [0.7777777777777778, \"#fb9f3a\"], [0.8888888888888888, \"#fdca26\"], [1.0, \"#f0f921\"]]}, \"colorway\": [\"#636efa\", \"#EF553B\", \"#00cc96\", \"#ab63fa\", \"#FFA15A\", \"#19d3f3\", \"#FF6692\", \"#B6E880\", \"#FF97FF\", \"#FECB52\"], \"font\": {\"color\": \"#2a3f5f\"}, \"geo\": {\"bgcolor\": \"white\", \"lakecolor\": \"white\", \"landcolor\": \"#E5ECF6\", \"showlakes\": true, \"showland\": true, \"subunitcolor\": \"white\"}, \"hoverlabel\": {\"align\": \"left\"}, \"hovermode\": \"closest\", \"mapbox\": {\"style\": \"light\"}, \"paper_bgcolor\": \"white\", \"plot_bgcolor\": \"#E5ECF6\", \"polar\": {\"angularaxis\": {\"gridcolor\": \"white\", \"linecolor\": \"white\", \"ticks\": \"\"}, \"bgcolor\": \"#E5ECF6\", \"radialaxis\": {\"gridcolor\": \"white\", \"linecolor\": \"white\", \"ticks\": \"\"}}, \"scene\": {\"xaxis\": {\"backgroundcolor\": \"#E5ECF6\", \"gridcolor\": \"white\", \"gridwidth\": 2, \"linecolor\": \"white\", \"showbackground\": true, \"ticks\": \"\", \"zerolinecolor\": \"white\"}, \"yaxis\": {\"backgroundcolor\": \"#E5ECF6\", \"gridcolor\": \"white\", \"gridwidth\": 2, \"linecolor\": \"white\", \"showbackground\": true, \"ticks\": \"\", \"zerolinecolor\": \"white\"}, \"zaxis\": {\"backgroundcolor\": \"#E5ECF6\", \"gridcolor\": \"white\", \"gridwidth\": 2, \"linecolor\": \"white\", \"showbackground\": true, \"ticks\": \"\", \"zerolinecolor\": \"white\"}}, \"shapedefaults\": {\"line\": {\"color\": \"#2a3f5f\"}}, \"ternary\": {\"aaxis\": {\"gridcolor\": \"white\", \"linecolor\": \"white\", \"ticks\": \"\"}, \"baxis\": {\"gridcolor\": \"white\", \"linecolor\": \"white\", \"ticks\": \"\"}, \"bgcolor\": \"#E5ECF6\", \"caxis\": {\"gridcolor\": \"white\", \"linecolor\": \"white\", \"ticks\": \"\"}}, \"title\": {\"x\": 0.05}, \"xaxis\": {\"automargin\": true, \"gridcolor\": \"white\", \"linecolor\": \"white\", \"ticks\": \"\", \"title\": {\"standoff\": 15}, \"zerolinecolor\": \"white\", \"zerolinewidth\": 2}, \"yaxis\": {\"automargin\": true, \"gridcolor\": \"white\", \"linecolor\": \"white\", \"ticks\": \"\", \"title\": {\"standoff\": 15}, \"zerolinecolor\": \"white\", \"zerolinewidth\": 2}}}, \"title\": {\"font\": {\"size\": 15}, \"text\": \"Microsoft Candlesticks Chart with Moving Averages\"}},\n",
       "                        {\"responsive\": true}\n",
       "                    ).then(function(){\n",
       "                            \n",
       "var gd = document.getElementById('f2b188c0-7edd-4e55-b5f4-17603a4e64e9');\n",
       "var x = new MutationObserver(function (mutations, observer) {{\n",
       "        var display = window.getComputedStyle(gd).display;\n",
       "        if (!display || display === 'none') {{\n",
       "            console.log([gd, 'removed!']);\n",
       "            Plotly.purge(gd);\n",
       "            observer.disconnect();\n",
       "        }}\n",
       "}});\n",
       "\n",
       "// Listen for the removal of the full notebook cells\n",
       "var notebookContainer = gd.closest('#notebook-container');\n",
       "if (notebookContainer) {{\n",
       "    x.observe(notebookContainer, {childList: true});\n",
       "}}\n",
       "\n",
       "// Listen for the clearing of the current output cell\n",
       "var outputEl = gd.closest('.output');\n",
       "if (outputEl) {{\n",
       "    x.observe(outputEl, {childList: true});\n",
       "}}\n",
       "\n",
       "                        })\n",
       "                };\n",
       "                });\n",
       "            </script>\n",
       "        </div>"
      ]
     },
     "metadata": {},
     "output_type": "display_data"
    }
   ],
   "source": [
    "#adding moving averages\n",
    "\n",
    "msft_stocks = {\n",
    "    'x': df_dates['Date'],\n",
    "    'open': msft['Open'],\n",
    "    'close': msft['Close'],\n",
    "    'high': msft['High'],\n",
    "    'low': msft['Low'],\n",
    "    'type': 'candlestick',\n",
    "    'name': 'MSFT',\n",
    "    'showlegend': False\n",
    "}\n",
    "\n",
    "# Calculate and define moving average of 30 periods\n",
    "avg_30 = msft.Close.rolling(window=30, min_periods=1).mean()\n",
    "\n",
    "# Calculate and define moving average of 50 periods\n",
    "avg_50 = msft.Close.rolling(window=50, min_periods=1).mean()\n",
    "\n",
    "\n",
    "m_avg30 = {\n",
    "    'x': df_dates['Date'],\n",
    "    'y': avg_30,\n",
    "    'type': 'scatter',\n",
    "    'mode': 'lines',\n",
    "    'line': {\n",
    "        'width': 1,\n",
    "        'color': 'blue'\n",
    "            },\n",
    "    'name': 'Moving Average of 30 periods'\n",
    "}\n",
    "\n",
    "m_avg50 = {\n",
    "    'x': df_dates['Date'],\n",
    "    'y': avg_50,\n",
    "    'type': 'scatter',\n",
    "    'mode': 'lines',\n",
    "    'line': {\n",
    "        'width': 1,\n",
    "        'color': 'red'\n",
    "    },\n",
    "    'name': 'Moving Average of 50 periods'\n",
    "}\n",
    "\n",
    "\n",
    "data = [msft_stocks, m_avg30, m_avg50]\n",
    "# Config graph layout\n",
    "layout = go.Layout({\n",
    "    'title': {\n",
    "        'text': 'Microsoft Candlesticks Chart with Moving Averages',\n",
    "        'font': {\n",
    "            'size': 15\n",
    "        }\n",
    "    }\n",
    "})\n",
    "\n",
    "fig = go.Figure(data=data, layout=layout)\n",
    "\n",
    "fig.show()"
   ]
  }
 ],
 "metadata": {
  "kernelspec": {
   "display_name": "Python 3",
   "language": "python",
   "name": "python3"
  },
  "language_info": {
   "codemirror_mode": {
    "name": "ipython",
    "version": 3
   },
   "file_extension": ".py",
   "mimetype": "text/x-python",
   "name": "python",
   "nbconvert_exporter": "python",
   "pygments_lexer": "ipython3",
   "version": "3.7.3"
  },
  "latex_envs": {
   "LaTeX_envs_menu_present": true,
   "autoclose": false,
   "autocomplete": true,
   "bibliofile": "biblio.bib",
   "cite_by": "apalike",
   "current_citInitial": 1,
   "eqLabelWithNumbers": true,
   "eqNumInitial": 1,
   "hotkeys": {
    "equation": "Ctrl-E",
    "itemize": "Ctrl-I"
   },
   "labels_anchors": false,
   "latex_user_defs": false,
   "report_style_numbering": false,
   "user_envs_cfg": false
  }
 },
 "nbformat": 4,
 "nbformat_minor": 2
}
