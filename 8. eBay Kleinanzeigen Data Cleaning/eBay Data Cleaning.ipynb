{
 "cells": [
  {
   "cell_type": "markdown",
   "metadata": {
    "collapsed": true
   },
   "source": [
    "# eBay Kleinanzeigen Data Cleaning Project"
   ]
  },
  {
   "cell_type": "markdown",
   "metadata": {},
   "source": [
    "This study project analyses used vehicles ads from eBay Kleinanzeigen. Its main goal is to clean the data, using such various Pandas and Numpy methods and techniques, and subsequently to conduct exploratory analysis on most popular brands and average price. <a href=\"https://www.kaggle.com/orgesleka/used-cars-database/data\">The dataset</a> was originally scraped and uploaded to Kaggle, but was sampled and prepered by Dataquest to simulate a less-cleaned and version of the data. \n",
    "\n",
    "The dataset includes:\n",
    "- <code>dateCrawled</code> - When this ad was first crawled. All field-values are taken from this date.\n",
    "- <code>name</code> - Name of the car.\n",
    "- <code>seller</code> - Whether the seller is private or a dealer.\n",
    "- <code>offerType</code> - The type of listing\n",
    "- <code>price</code> - The price on the ad to sell the car.\n",
    "- <code>abtest</code> - Whether the listing is included in an A/B test.\n",
    "- <code>vehicleType</code> - The vehicle Type.\n",
    "- <code>yearOfRegistration</code> - The year in which the car was first registered.\n",
    "- <code>gearbox</code> - The transmission type.\n",
    "- <code>powerPS</code> - The power of the car in PS.\n",
    "- <code>model</code> - The car model name.\n",
    "- <code>odometer</code> - How many kilometers the car has driven.\n",
    "- <code>monthOfRegistration</code> - The month in which the car was first registered.\n",
    "- <code>fuelType</code> - What type of fuel the car uses.\n",
    "- <code>brand</code> - The brand of the car.\n",
    "- <code>notRepairedDamage</code> - If the car has a damage which is not yet repaired.\n",
    "- <code>dateCreated</code> - The date on which the eBay listing was created.\n",
    "- <code>nrOfPictures</code> - The number of pictures in the ad.\n",
    "- <code>postalCode</code> - The postal code for the location of the vehicle.\n",
    "- <code>lastSeenOnline</code> - When the crawler saw this ad last online."
   ]
  },
  {
   "cell_type": "markdown",
   "metadata": {},
   "source": [
    "## Initial Data Exploration "
   ]
  },
  {
   "cell_type": "code",
   "execution_count": 707,
   "metadata": {},
   "outputs": [],
   "source": [
    "#import libraries\n",
    "import numpy as np\n",
    "import pandas as pd\n",
    "import matplotlib.pyplot as plt\n",
    "import matplotlib.ticker as mtick\n",
    "import seaborn as sns"
   ]
  },
  {
   "cell_type": "code",
   "execution_count": 708,
   "metadata": {},
   "outputs": [],
   "source": [
    "#donwload the data\n",
    "autos = pd.read_csv('autos.csv', encoding='Latin-1')"
   ]
  },
  {
   "cell_type": "code",
   "execution_count": 709,
   "metadata": {},
   "outputs": [
    {
     "data": {
      "text/html": [
       "<div>\n",
       "<style scoped>\n",
       "    .dataframe tbody tr th:only-of-type {\n",
       "        vertical-align: middle;\n",
       "    }\n",
       "\n",
       "    .dataframe tbody tr th {\n",
       "        vertical-align: top;\n",
       "    }\n",
       "\n",
       "    .dataframe thead th {\n",
       "        text-align: right;\n",
       "    }\n",
       "</style>\n",
       "<table border=\"1\" class=\"dataframe\">\n",
       "  <thead>\n",
       "    <tr style=\"text-align: right;\">\n",
       "      <th></th>\n",
       "      <th>dateCrawled</th>\n",
       "      <th>name</th>\n",
       "      <th>seller</th>\n",
       "      <th>offerType</th>\n",
       "      <th>price</th>\n",
       "      <th>abtest</th>\n",
       "      <th>vehicleType</th>\n",
       "      <th>yearOfRegistration</th>\n",
       "      <th>gearbox</th>\n",
       "      <th>powerPS</th>\n",
       "      <th>model</th>\n",
       "      <th>odometer</th>\n",
       "      <th>monthOfRegistration</th>\n",
       "      <th>fuelType</th>\n",
       "      <th>brand</th>\n",
       "      <th>notRepairedDamage</th>\n",
       "      <th>dateCreated</th>\n",
       "      <th>nrOfPictures</th>\n",
       "      <th>postalCode</th>\n",
       "      <th>lastSeen</th>\n",
       "    </tr>\n",
       "  </thead>\n",
       "  <tbody>\n",
       "    <tr>\n",
       "      <th>0</th>\n",
       "      <td>2016-03-26 17:47:46</td>\n",
       "      <td>Peugeot_807_160_NAVTECH_ON_BOARD</td>\n",
       "      <td>privat</td>\n",
       "      <td>Angebot</td>\n",
       "      <td>$5,000</td>\n",
       "      <td>control</td>\n",
       "      <td>bus</td>\n",
       "      <td>2004</td>\n",
       "      <td>manuell</td>\n",
       "      <td>158</td>\n",
       "      <td>andere</td>\n",
       "      <td>150,000km</td>\n",
       "      <td>3</td>\n",
       "      <td>lpg</td>\n",
       "      <td>peugeot</td>\n",
       "      <td>nein</td>\n",
       "      <td>2016-03-26 00:00:00</td>\n",
       "      <td>0</td>\n",
       "      <td>79588</td>\n",
       "      <td>2016-04-06 06:45:54</td>\n",
       "    </tr>\n",
       "    <tr>\n",
       "      <th>1</th>\n",
       "      <td>2016-04-04 13:38:56</td>\n",
       "      <td>BMW_740i_4_4_Liter_HAMANN_UMBAU_Mega_Optik</td>\n",
       "      <td>privat</td>\n",
       "      <td>Angebot</td>\n",
       "      <td>$8,500</td>\n",
       "      <td>control</td>\n",
       "      <td>limousine</td>\n",
       "      <td>1997</td>\n",
       "      <td>automatik</td>\n",
       "      <td>286</td>\n",
       "      <td>7er</td>\n",
       "      <td>150,000km</td>\n",
       "      <td>6</td>\n",
       "      <td>benzin</td>\n",
       "      <td>bmw</td>\n",
       "      <td>nein</td>\n",
       "      <td>2016-04-04 00:00:00</td>\n",
       "      <td>0</td>\n",
       "      <td>71034</td>\n",
       "      <td>2016-04-06 14:45:08</td>\n",
       "    </tr>\n",
       "    <tr>\n",
       "      <th>2</th>\n",
       "      <td>2016-03-26 18:57:24</td>\n",
       "      <td>Volkswagen_Golf_1.6_United</td>\n",
       "      <td>privat</td>\n",
       "      <td>Angebot</td>\n",
       "      <td>$8,990</td>\n",
       "      <td>test</td>\n",
       "      <td>limousine</td>\n",
       "      <td>2009</td>\n",
       "      <td>manuell</td>\n",
       "      <td>102</td>\n",
       "      <td>golf</td>\n",
       "      <td>70,000km</td>\n",
       "      <td>7</td>\n",
       "      <td>benzin</td>\n",
       "      <td>volkswagen</td>\n",
       "      <td>nein</td>\n",
       "      <td>2016-03-26 00:00:00</td>\n",
       "      <td>0</td>\n",
       "      <td>35394</td>\n",
       "      <td>2016-04-06 20:15:37</td>\n",
       "    </tr>\n",
       "    <tr>\n",
       "      <th>3</th>\n",
       "      <td>2016-03-12 16:58:10</td>\n",
       "      <td>Smart_smart_fortwo_coupe_softouch/F1/Klima/Panorama</td>\n",
       "      <td>privat</td>\n",
       "      <td>Angebot</td>\n",
       "      <td>$4,350</td>\n",
       "      <td>control</td>\n",
       "      <td>kleinwagen</td>\n",
       "      <td>2007</td>\n",
       "      <td>automatik</td>\n",
       "      <td>71</td>\n",
       "      <td>fortwo</td>\n",
       "      <td>70,000km</td>\n",
       "      <td>6</td>\n",
       "      <td>benzin</td>\n",
       "      <td>smart</td>\n",
       "      <td>nein</td>\n",
       "      <td>2016-03-12 00:00:00</td>\n",
       "      <td>0</td>\n",
       "      <td>33729</td>\n",
       "      <td>2016-03-15 03:16:28</td>\n",
       "    </tr>\n",
       "    <tr>\n",
       "      <th>4</th>\n",
       "      <td>2016-04-01 14:38:50</td>\n",
       "      <td>Ford_Focus_1_6_Benzin_TÜV_neu_ist_sehr_gepflegt.mit_Klimaanlage</td>\n",
       "      <td>privat</td>\n",
       "      <td>Angebot</td>\n",
       "      <td>$1,350</td>\n",
       "      <td>test</td>\n",
       "      <td>kombi</td>\n",
       "      <td>2003</td>\n",
       "      <td>manuell</td>\n",
       "      <td>0</td>\n",
       "      <td>focus</td>\n",
       "      <td>150,000km</td>\n",
       "      <td>7</td>\n",
       "      <td>benzin</td>\n",
       "      <td>ford</td>\n",
       "      <td>nein</td>\n",
       "      <td>2016-04-01 00:00:00</td>\n",
       "      <td>0</td>\n",
       "      <td>39218</td>\n",
       "      <td>2016-04-01 14:38:50</td>\n",
       "    </tr>\n",
       "  </tbody>\n",
       "</table>\n",
       "</div>"
      ],
      "text/plain": [
       "           dateCrawled  \\\n",
       "0  2016-03-26 17:47:46   \n",
       "1  2016-04-04 13:38:56   \n",
       "2  2016-03-26 18:57:24   \n",
       "3  2016-03-12 16:58:10   \n",
       "4  2016-04-01 14:38:50   \n",
       "\n",
       "                                                              name  seller  \\\n",
       "0                                 Peugeot_807_160_NAVTECH_ON_BOARD  privat   \n",
       "1                       BMW_740i_4_4_Liter_HAMANN_UMBAU_Mega_Optik  privat   \n",
       "2                                       Volkswagen_Golf_1.6_United  privat   \n",
       "3              Smart_smart_fortwo_coupe_softouch/F1/Klima/Panorama  privat   \n",
       "4  Ford_Focus_1_6_Benzin_TÜV_neu_ist_sehr_gepflegt.mit_Klimaanlage  privat   \n",
       "\n",
       "  offerType   price   abtest vehicleType  yearOfRegistration    gearbox  \\\n",
       "0   Angebot  $5,000  control         bus                2004    manuell   \n",
       "1   Angebot  $8,500  control   limousine                1997  automatik   \n",
       "2   Angebot  $8,990     test   limousine                2009    manuell   \n",
       "3   Angebot  $4,350  control  kleinwagen                2007  automatik   \n",
       "4   Angebot  $1,350     test       kombi                2003    manuell   \n",
       "\n",
       "   powerPS   model   odometer  monthOfRegistration fuelType       brand  \\\n",
       "0      158  andere  150,000km                    3      lpg     peugeot   \n",
       "1      286     7er  150,000km                    6   benzin         bmw   \n",
       "2      102    golf   70,000km                    7   benzin  volkswagen   \n",
       "3       71  fortwo   70,000km                    6   benzin       smart   \n",
       "4        0   focus  150,000km                    7   benzin        ford   \n",
       "\n",
       "  notRepairedDamage          dateCreated  nrOfPictures  postalCode  \\\n",
       "0              nein  2016-03-26 00:00:00             0       79588   \n",
       "1              nein  2016-04-04 00:00:00             0       71034   \n",
       "2              nein  2016-03-26 00:00:00             0       35394   \n",
       "3              nein  2016-03-12 00:00:00             0       33729   \n",
       "4              nein  2016-04-01 00:00:00             0       39218   \n",
       "\n",
       "              lastSeen  \n",
       "0  2016-04-06 06:45:54  \n",
       "1  2016-04-06 14:45:08  \n",
       "2  2016-04-06 20:15:37  \n",
       "3  2016-03-15 03:16:28  \n",
       "4  2016-04-01 14:38:50  "
      ]
     },
     "execution_count": 709,
     "metadata": {},
     "output_type": "execute_result"
    }
   ],
   "source": [
    "#explore first few rows\n",
    "autos.head()"
   ]
  },
  {
   "cell_type": "code",
   "execution_count": 710,
   "metadata": {},
   "outputs": [
    {
     "name": "stdout",
     "output_type": "stream",
     "text": [
      "<class 'pandas.core.frame.DataFrame'>\n",
      "RangeIndex: 50000 entries, 0 to 49999\n",
      "Data columns (total 20 columns):\n",
      "dateCrawled            50000 non-null object\n",
      "name                   50000 non-null object\n",
      "seller                 50000 non-null object\n",
      "offerType              50000 non-null object\n",
      "price                  50000 non-null object\n",
      "abtest                 50000 non-null object\n",
      "vehicleType            44905 non-null object\n",
      "yearOfRegistration     50000 non-null int64\n",
      "gearbox                47320 non-null object\n",
      "powerPS                50000 non-null int64\n",
      "model                  47242 non-null object\n",
      "odometer               50000 non-null object\n",
      "monthOfRegistration    50000 non-null int64\n",
      "fuelType               45518 non-null object\n",
      "brand                  50000 non-null object\n",
      "notRepairedDamage      40171 non-null object\n",
      "dateCreated            50000 non-null object\n",
      "nrOfPictures           50000 non-null int64\n",
      "postalCode             50000 non-null int64\n",
      "lastSeen               50000 non-null object\n",
      "dtypes: int64(5), object(15)\n",
      "memory usage: 7.6+ MB\n"
     ]
    }
   ],
   "source": [
    "autos.info()"
   ]
  },
  {
   "cell_type": "code",
   "execution_count": 711,
   "metadata": {},
   "outputs": [
    {
     "data": {
      "text/html": [
       "<div>\n",
       "<style scoped>\n",
       "    .dataframe tbody tr th:only-of-type {\n",
       "        vertical-align: middle;\n",
       "    }\n",
       "\n",
       "    .dataframe tbody tr th {\n",
       "        vertical-align: top;\n",
       "    }\n",
       "\n",
       "    .dataframe thead th {\n",
       "        text-align: right;\n",
       "    }\n",
       "</style>\n",
       "<table border=\"1\" class=\"dataframe\">\n",
       "  <thead>\n",
       "    <tr style=\"text-align: right;\">\n",
       "      <th></th>\n",
       "      <th>dateCrawled</th>\n",
       "      <th>name</th>\n",
       "      <th>seller</th>\n",
       "      <th>offerType</th>\n",
       "      <th>price</th>\n",
       "      <th>abtest</th>\n",
       "      <th>vehicleType</th>\n",
       "      <th>yearOfRegistration</th>\n",
       "      <th>gearbox</th>\n",
       "      <th>powerPS</th>\n",
       "      <th>model</th>\n",
       "      <th>odometer</th>\n",
       "      <th>monthOfRegistration</th>\n",
       "      <th>fuelType</th>\n",
       "      <th>brand</th>\n",
       "      <th>notRepairedDamage</th>\n",
       "      <th>dateCreated</th>\n",
       "      <th>nrOfPictures</th>\n",
       "      <th>postalCode</th>\n",
       "      <th>lastSeen</th>\n",
       "    </tr>\n",
       "  </thead>\n",
       "  <tbody>\n",
       "    <tr>\n",
       "      <th>count</th>\n",
       "      <td>50000</td>\n",
       "      <td>50000</td>\n",
       "      <td>50000</td>\n",
       "      <td>50000</td>\n",
       "      <td>50000</td>\n",
       "      <td>50000</td>\n",
       "      <td>44905</td>\n",
       "      <td>50000.000000</td>\n",
       "      <td>47320</td>\n",
       "      <td>50000.000000</td>\n",
       "      <td>47242</td>\n",
       "      <td>50000</td>\n",
       "      <td>50000.000000</td>\n",
       "      <td>45518</td>\n",
       "      <td>50000</td>\n",
       "      <td>40171</td>\n",
       "      <td>50000</td>\n",
       "      <td>50000.0</td>\n",
       "      <td>50000.000000</td>\n",
       "      <td>50000</td>\n",
       "    </tr>\n",
       "    <tr>\n",
       "      <th>unique</th>\n",
       "      <td>48213</td>\n",
       "      <td>38754</td>\n",
       "      <td>2</td>\n",
       "      <td>2</td>\n",
       "      <td>2357</td>\n",
       "      <td>2</td>\n",
       "      <td>8</td>\n",
       "      <td>NaN</td>\n",
       "      <td>2</td>\n",
       "      <td>NaN</td>\n",
       "      <td>245</td>\n",
       "      <td>13</td>\n",
       "      <td>NaN</td>\n",
       "      <td>7</td>\n",
       "      <td>40</td>\n",
       "      <td>2</td>\n",
       "      <td>76</td>\n",
       "      <td>NaN</td>\n",
       "      <td>NaN</td>\n",
       "      <td>39481</td>\n",
       "    </tr>\n",
       "    <tr>\n",
       "      <th>top</th>\n",
       "      <td>2016-03-09 11:54:38</td>\n",
       "      <td>Ford_Fiesta</td>\n",
       "      <td>privat</td>\n",
       "      <td>Angebot</td>\n",
       "      <td>$0</td>\n",
       "      <td>test</td>\n",
       "      <td>limousine</td>\n",
       "      <td>NaN</td>\n",
       "      <td>manuell</td>\n",
       "      <td>NaN</td>\n",
       "      <td>golf</td>\n",
       "      <td>150,000km</td>\n",
       "      <td>NaN</td>\n",
       "      <td>benzin</td>\n",
       "      <td>volkswagen</td>\n",
       "      <td>nein</td>\n",
       "      <td>2016-04-03 00:00:00</td>\n",
       "      <td>NaN</td>\n",
       "      <td>NaN</td>\n",
       "      <td>2016-04-07 06:17:27</td>\n",
       "    </tr>\n",
       "    <tr>\n",
       "      <th>freq</th>\n",
       "      <td>3</td>\n",
       "      <td>78</td>\n",
       "      <td>49999</td>\n",
       "      <td>49999</td>\n",
       "      <td>1421</td>\n",
       "      <td>25756</td>\n",
       "      <td>12859</td>\n",
       "      <td>NaN</td>\n",
       "      <td>36993</td>\n",
       "      <td>NaN</td>\n",
       "      <td>4024</td>\n",
       "      <td>32424</td>\n",
       "      <td>NaN</td>\n",
       "      <td>30107</td>\n",
       "      <td>10687</td>\n",
       "      <td>35232</td>\n",
       "      <td>1946</td>\n",
       "      <td>NaN</td>\n",
       "      <td>NaN</td>\n",
       "      <td>8</td>\n",
       "    </tr>\n",
       "    <tr>\n",
       "      <th>mean</th>\n",
       "      <td>NaN</td>\n",
       "      <td>NaN</td>\n",
       "      <td>NaN</td>\n",
       "      <td>NaN</td>\n",
       "      <td>NaN</td>\n",
       "      <td>NaN</td>\n",
       "      <td>NaN</td>\n",
       "      <td>2005.073280</td>\n",
       "      <td>NaN</td>\n",
       "      <td>116.355920</td>\n",
       "      <td>NaN</td>\n",
       "      <td>NaN</td>\n",
       "      <td>5.723360</td>\n",
       "      <td>NaN</td>\n",
       "      <td>NaN</td>\n",
       "      <td>NaN</td>\n",
       "      <td>NaN</td>\n",
       "      <td>0.0</td>\n",
       "      <td>50813.627300</td>\n",
       "      <td>NaN</td>\n",
       "    </tr>\n",
       "    <tr>\n",
       "      <th>std</th>\n",
       "      <td>NaN</td>\n",
       "      <td>NaN</td>\n",
       "      <td>NaN</td>\n",
       "      <td>NaN</td>\n",
       "      <td>NaN</td>\n",
       "      <td>NaN</td>\n",
       "      <td>NaN</td>\n",
       "      <td>105.712813</td>\n",
       "      <td>NaN</td>\n",
       "      <td>209.216627</td>\n",
       "      <td>NaN</td>\n",
       "      <td>NaN</td>\n",
       "      <td>3.711984</td>\n",
       "      <td>NaN</td>\n",
       "      <td>NaN</td>\n",
       "      <td>NaN</td>\n",
       "      <td>NaN</td>\n",
       "      <td>0.0</td>\n",
       "      <td>25779.747957</td>\n",
       "      <td>NaN</td>\n",
       "    </tr>\n",
       "    <tr>\n",
       "      <th>min</th>\n",
       "      <td>NaN</td>\n",
       "      <td>NaN</td>\n",
       "      <td>NaN</td>\n",
       "      <td>NaN</td>\n",
       "      <td>NaN</td>\n",
       "      <td>NaN</td>\n",
       "      <td>NaN</td>\n",
       "      <td>1000.000000</td>\n",
       "      <td>NaN</td>\n",
       "      <td>0.000000</td>\n",
       "      <td>NaN</td>\n",
       "      <td>NaN</td>\n",
       "      <td>0.000000</td>\n",
       "      <td>NaN</td>\n",
       "      <td>NaN</td>\n",
       "      <td>NaN</td>\n",
       "      <td>NaN</td>\n",
       "      <td>0.0</td>\n",
       "      <td>1067.000000</td>\n",
       "      <td>NaN</td>\n",
       "    </tr>\n",
       "    <tr>\n",
       "      <th>25%</th>\n",
       "      <td>NaN</td>\n",
       "      <td>NaN</td>\n",
       "      <td>NaN</td>\n",
       "      <td>NaN</td>\n",
       "      <td>NaN</td>\n",
       "      <td>NaN</td>\n",
       "      <td>NaN</td>\n",
       "      <td>1999.000000</td>\n",
       "      <td>NaN</td>\n",
       "      <td>70.000000</td>\n",
       "      <td>NaN</td>\n",
       "      <td>NaN</td>\n",
       "      <td>3.000000</td>\n",
       "      <td>NaN</td>\n",
       "      <td>NaN</td>\n",
       "      <td>NaN</td>\n",
       "      <td>NaN</td>\n",
       "      <td>0.0</td>\n",
       "      <td>30451.000000</td>\n",
       "      <td>NaN</td>\n",
       "    </tr>\n",
       "    <tr>\n",
       "      <th>50%</th>\n",
       "      <td>NaN</td>\n",
       "      <td>NaN</td>\n",
       "      <td>NaN</td>\n",
       "      <td>NaN</td>\n",
       "      <td>NaN</td>\n",
       "      <td>NaN</td>\n",
       "      <td>NaN</td>\n",
       "      <td>2003.000000</td>\n",
       "      <td>NaN</td>\n",
       "      <td>105.000000</td>\n",
       "      <td>NaN</td>\n",
       "      <td>NaN</td>\n",
       "      <td>6.000000</td>\n",
       "      <td>NaN</td>\n",
       "      <td>NaN</td>\n",
       "      <td>NaN</td>\n",
       "      <td>NaN</td>\n",
       "      <td>0.0</td>\n",
       "      <td>49577.000000</td>\n",
       "      <td>NaN</td>\n",
       "    </tr>\n",
       "    <tr>\n",
       "      <th>75%</th>\n",
       "      <td>NaN</td>\n",
       "      <td>NaN</td>\n",
       "      <td>NaN</td>\n",
       "      <td>NaN</td>\n",
       "      <td>NaN</td>\n",
       "      <td>NaN</td>\n",
       "      <td>NaN</td>\n",
       "      <td>2008.000000</td>\n",
       "      <td>NaN</td>\n",
       "      <td>150.000000</td>\n",
       "      <td>NaN</td>\n",
       "      <td>NaN</td>\n",
       "      <td>9.000000</td>\n",
       "      <td>NaN</td>\n",
       "      <td>NaN</td>\n",
       "      <td>NaN</td>\n",
       "      <td>NaN</td>\n",
       "      <td>0.0</td>\n",
       "      <td>71540.000000</td>\n",
       "      <td>NaN</td>\n",
       "    </tr>\n",
       "    <tr>\n",
       "      <th>max</th>\n",
       "      <td>NaN</td>\n",
       "      <td>NaN</td>\n",
       "      <td>NaN</td>\n",
       "      <td>NaN</td>\n",
       "      <td>NaN</td>\n",
       "      <td>NaN</td>\n",
       "      <td>NaN</td>\n",
       "      <td>9999.000000</td>\n",
       "      <td>NaN</td>\n",
       "      <td>17700.000000</td>\n",
       "      <td>NaN</td>\n",
       "      <td>NaN</td>\n",
       "      <td>12.000000</td>\n",
       "      <td>NaN</td>\n",
       "      <td>NaN</td>\n",
       "      <td>NaN</td>\n",
       "      <td>NaN</td>\n",
       "      <td>0.0</td>\n",
       "      <td>99998.000000</td>\n",
       "      <td>NaN</td>\n",
       "    </tr>\n",
       "  </tbody>\n",
       "</table>\n",
       "</div>"
      ],
      "text/plain": [
       "                dateCrawled         name  seller offerType  price abtest  \\\n",
       "count                 50000        50000   50000     50000  50000  50000   \n",
       "unique                48213        38754       2         2   2357      2   \n",
       "top     2016-03-09 11:54:38  Ford_Fiesta  privat   Angebot     $0   test   \n",
       "freq                      3           78   49999     49999   1421  25756   \n",
       "mean                    NaN          NaN     NaN       NaN    NaN    NaN   \n",
       "std                     NaN          NaN     NaN       NaN    NaN    NaN   \n",
       "min                     NaN          NaN     NaN       NaN    NaN    NaN   \n",
       "25%                     NaN          NaN     NaN       NaN    NaN    NaN   \n",
       "50%                     NaN          NaN     NaN       NaN    NaN    NaN   \n",
       "75%                     NaN          NaN     NaN       NaN    NaN    NaN   \n",
       "max                     NaN          NaN     NaN       NaN    NaN    NaN   \n",
       "\n",
       "       vehicleType  yearOfRegistration  gearbox       powerPS  model  \\\n",
       "count        44905        50000.000000    47320  50000.000000  47242   \n",
       "unique           8                 NaN        2           NaN    245   \n",
       "top      limousine                 NaN  manuell           NaN   golf   \n",
       "freq         12859                 NaN    36993           NaN   4024   \n",
       "mean           NaN         2005.073280      NaN    116.355920    NaN   \n",
       "std            NaN          105.712813      NaN    209.216627    NaN   \n",
       "min            NaN         1000.000000      NaN      0.000000    NaN   \n",
       "25%            NaN         1999.000000      NaN     70.000000    NaN   \n",
       "50%            NaN         2003.000000      NaN    105.000000    NaN   \n",
       "75%            NaN         2008.000000      NaN    150.000000    NaN   \n",
       "max            NaN         9999.000000      NaN  17700.000000    NaN   \n",
       "\n",
       "         odometer  monthOfRegistration fuelType       brand notRepairedDamage  \\\n",
       "count       50000         50000.000000    45518       50000             40171   \n",
       "unique         13                  NaN        7          40                 2   \n",
       "top     150,000km                  NaN   benzin  volkswagen              nein   \n",
       "freq        32424                  NaN    30107       10687             35232   \n",
       "mean          NaN             5.723360      NaN         NaN               NaN   \n",
       "std           NaN             3.711984      NaN         NaN               NaN   \n",
       "min           NaN             0.000000      NaN         NaN               NaN   \n",
       "25%           NaN             3.000000      NaN         NaN               NaN   \n",
       "50%           NaN             6.000000      NaN         NaN               NaN   \n",
       "75%           NaN             9.000000      NaN         NaN               NaN   \n",
       "max           NaN            12.000000      NaN         NaN               NaN   \n",
       "\n",
       "                dateCreated  nrOfPictures    postalCode             lastSeen  \n",
       "count                 50000       50000.0  50000.000000                50000  \n",
       "unique                   76           NaN           NaN                39481  \n",
       "top     2016-04-03 00:00:00           NaN           NaN  2016-04-07 06:17:27  \n",
       "freq                   1946           NaN           NaN                    8  \n",
       "mean                    NaN           0.0  50813.627300                  NaN  \n",
       "std                     NaN           0.0  25779.747957                  NaN  \n",
       "min                     NaN           0.0   1067.000000                  NaN  \n",
       "25%                     NaN           0.0  30451.000000                  NaN  \n",
       "50%                     NaN           0.0  49577.000000                  NaN  \n",
       "75%                     NaN           0.0  71540.000000                  NaN  \n",
       "max                     NaN           0.0  99998.000000                  NaN  "
      ]
     },
     "execution_count": 711,
     "metadata": {},
     "output_type": "execute_result"
    }
   ],
   "source": [
    "autos.describe(include='all')"
   ]
  },
  {
   "cell_type": "markdown",
   "metadata": {},
   "source": [
    "### First impressions\n",
    "The dataset includes 50,000 rows and 20 columns. Only 5 are integer type, other listed as objects, which implies mixed datatype or strings. It is clear that <code>dateCrawled</code>,<code>dateCreated</code> and <code>lastSeen</code> shound be the datetime type, whereas <code>price</code> and <code>odometer</code> shoud be integer type. Two last columns first need to be cleaned from special characters ($ and km).\n",
    "\n",
    "Columns <code>vehicleType</code>, <code>gearbox</code>, <code>model</code>, <code>fuelType</code>, <code>notRepairedDamage</code> contain missing values. Perhaps, they can be filled using information from <code>name</code> column.\n",
    "\n",
    "Column <code>nrOfPictures</code> is empty, columns <code>offerType</code> and <code>seller</code> contain 49,999 identical values."
   ]
  },
  {
   "cell_type": "markdown",
   "metadata": {},
   "source": [
    "## Data Cleaning\n",
    "### Rename columns\n",
    "The column names use camelcase instead of Python's preferred snakecase, some names are too wordy. "
   ]
  },
  {
   "cell_type": "code",
   "execution_count": 712,
   "metadata": {},
   "outputs": [
    {
     "name": "stdout",
     "output_type": "stream",
     "text": [
      "Index(['dateCrawled', 'name', 'seller', 'offerType', 'price', 'abtest',\n",
      "       'vehicleType', 'yearOfRegistration', 'gearbox', 'powerPS', 'model',\n",
      "       'odometer', 'monthOfRegistration', 'fuelType', 'brand',\n",
      "       'notRepairedDamage', 'dateCreated', 'nrOfPictures', 'postalCode',\n",
      "       'lastSeen'],\n",
      "      dtype='object')\n"
     ]
    }
   ],
   "source": [
    "print(autos.columns) "
   ]
  },
  {
   "cell_type": "code",
   "execution_count": 713,
   "metadata": {},
   "outputs": [],
   "source": [
    "snake = ['date_crawled', 'name', 'seller', 'offer_type', 'price', 'abtest',\n",
    "       'vehicle_type', 'registration_year', 'gearbox', 'power_ps', 'model',\n",
    "       'odometer', 'registration_month', 'fuel_type', 'brand',\n",
    "       'damage', 'date_created', 'num_pictures', 'postal_code',\n",
    "       'last_seen']"
   ]
  },
  {
   "cell_type": "code",
   "execution_count": 714,
   "metadata": {
    "scrolled": true
   },
   "outputs": [
    {
     "data": {
      "text/html": [
       "<div>\n",
       "<style scoped>\n",
       "    .dataframe tbody tr th:only-of-type {\n",
       "        vertical-align: middle;\n",
       "    }\n",
       "\n",
       "    .dataframe tbody tr th {\n",
       "        vertical-align: top;\n",
       "    }\n",
       "\n",
       "    .dataframe thead th {\n",
       "        text-align: right;\n",
       "    }\n",
       "</style>\n",
       "<table border=\"1\" class=\"dataframe\">\n",
       "  <thead>\n",
       "    <tr style=\"text-align: right;\">\n",
       "      <th></th>\n",
       "      <th>date_crawled</th>\n",
       "      <th>name</th>\n",
       "      <th>seller</th>\n",
       "      <th>offer_type</th>\n",
       "      <th>price</th>\n",
       "      <th>abtest</th>\n",
       "      <th>vehicle_type</th>\n",
       "      <th>registration_year</th>\n",
       "      <th>gearbox</th>\n",
       "      <th>power_ps</th>\n",
       "      <th>model</th>\n",
       "      <th>odometer</th>\n",
       "      <th>registration_month</th>\n",
       "      <th>fuel_type</th>\n",
       "      <th>brand</th>\n",
       "      <th>damage</th>\n",
       "      <th>date_created</th>\n",
       "      <th>num_pictures</th>\n",
       "      <th>postal_code</th>\n",
       "      <th>last_seen</th>\n",
       "    </tr>\n",
       "  </thead>\n",
       "  <tbody>\n",
       "    <tr>\n",
       "      <th>0</th>\n",
       "      <td>2016-03-26 17:47:46</td>\n",
       "      <td>Peugeot_807_160_NAVTECH_ON_BOARD</td>\n",
       "      <td>privat</td>\n",
       "      <td>Angebot</td>\n",
       "      <td>$5,000</td>\n",
       "      <td>control</td>\n",
       "      <td>bus</td>\n",
       "      <td>2004</td>\n",
       "      <td>manuell</td>\n",
       "      <td>158</td>\n",
       "      <td>andere</td>\n",
       "      <td>150,000km</td>\n",
       "      <td>3</td>\n",
       "      <td>lpg</td>\n",
       "      <td>peugeot</td>\n",
       "      <td>nein</td>\n",
       "      <td>2016-03-26 00:00:00</td>\n",
       "      <td>0</td>\n",
       "      <td>79588</td>\n",
       "      <td>2016-04-06 06:45:54</td>\n",
       "    </tr>\n",
       "    <tr>\n",
       "      <th>1</th>\n",
       "      <td>2016-04-04 13:38:56</td>\n",
       "      <td>BMW_740i_4_4_Liter_HAMANN_UMBAU_Mega_Optik</td>\n",
       "      <td>privat</td>\n",
       "      <td>Angebot</td>\n",
       "      <td>$8,500</td>\n",
       "      <td>control</td>\n",
       "      <td>limousine</td>\n",
       "      <td>1997</td>\n",
       "      <td>automatik</td>\n",
       "      <td>286</td>\n",
       "      <td>7er</td>\n",
       "      <td>150,000km</td>\n",
       "      <td>6</td>\n",
       "      <td>benzin</td>\n",
       "      <td>bmw</td>\n",
       "      <td>nein</td>\n",
       "      <td>2016-04-04 00:00:00</td>\n",
       "      <td>0</td>\n",
       "      <td>71034</td>\n",
       "      <td>2016-04-06 14:45:08</td>\n",
       "    </tr>\n",
       "    <tr>\n",
       "      <th>2</th>\n",
       "      <td>2016-03-26 18:57:24</td>\n",
       "      <td>Volkswagen_Golf_1.6_United</td>\n",
       "      <td>privat</td>\n",
       "      <td>Angebot</td>\n",
       "      <td>$8,990</td>\n",
       "      <td>test</td>\n",
       "      <td>limousine</td>\n",
       "      <td>2009</td>\n",
       "      <td>manuell</td>\n",
       "      <td>102</td>\n",
       "      <td>golf</td>\n",
       "      <td>70,000km</td>\n",
       "      <td>7</td>\n",
       "      <td>benzin</td>\n",
       "      <td>volkswagen</td>\n",
       "      <td>nein</td>\n",
       "      <td>2016-03-26 00:00:00</td>\n",
       "      <td>0</td>\n",
       "      <td>35394</td>\n",
       "      <td>2016-04-06 20:15:37</td>\n",
       "    </tr>\n",
       "    <tr>\n",
       "      <th>3</th>\n",
       "      <td>2016-03-12 16:58:10</td>\n",
       "      <td>Smart_smart_fortwo_coupe_softouch/F1/Klima/Panorama</td>\n",
       "      <td>privat</td>\n",
       "      <td>Angebot</td>\n",
       "      <td>$4,350</td>\n",
       "      <td>control</td>\n",
       "      <td>kleinwagen</td>\n",
       "      <td>2007</td>\n",
       "      <td>automatik</td>\n",
       "      <td>71</td>\n",
       "      <td>fortwo</td>\n",
       "      <td>70,000km</td>\n",
       "      <td>6</td>\n",
       "      <td>benzin</td>\n",
       "      <td>smart</td>\n",
       "      <td>nein</td>\n",
       "      <td>2016-03-12 00:00:00</td>\n",
       "      <td>0</td>\n",
       "      <td>33729</td>\n",
       "      <td>2016-03-15 03:16:28</td>\n",
       "    </tr>\n",
       "    <tr>\n",
       "      <th>4</th>\n",
       "      <td>2016-04-01 14:38:50</td>\n",
       "      <td>Ford_Focus_1_6_Benzin_TÜV_neu_ist_sehr_gepflegt.mit_Klimaanlage</td>\n",
       "      <td>privat</td>\n",
       "      <td>Angebot</td>\n",
       "      <td>$1,350</td>\n",
       "      <td>test</td>\n",
       "      <td>kombi</td>\n",
       "      <td>2003</td>\n",
       "      <td>manuell</td>\n",
       "      <td>0</td>\n",
       "      <td>focus</td>\n",
       "      <td>150,000km</td>\n",
       "      <td>7</td>\n",
       "      <td>benzin</td>\n",
       "      <td>ford</td>\n",
       "      <td>nein</td>\n",
       "      <td>2016-04-01 00:00:00</td>\n",
       "      <td>0</td>\n",
       "      <td>39218</td>\n",
       "      <td>2016-04-01 14:38:50</td>\n",
       "    </tr>\n",
       "  </tbody>\n",
       "</table>\n",
       "</div>"
      ],
      "text/plain": [
       "          date_crawled  \\\n",
       "0  2016-03-26 17:47:46   \n",
       "1  2016-04-04 13:38:56   \n",
       "2  2016-03-26 18:57:24   \n",
       "3  2016-03-12 16:58:10   \n",
       "4  2016-04-01 14:38:50   \n",
       "\n",
       "                                                              name  seller  \\\n",
       "0                                 Peugeot_807_160_NAVTECH_ON_BOARD  privat   \n",
       "1                       BMW_740i_4_4_Liter_HAMANN_UMBAU_Mega_Optik  privat   \n",
       "2                                       Volkswagen_Golf_1.6_United  privat   \n",
       "3              Smart_smart_fortwo_coupe_softouch/F1/Klima/Panorama  privat   \n",
       "4  Ford_Focus_1_6_Benzin_TÜV_neu_ist_sehr_gepflegt.mit_Klimaanlage  privat   \n",
       "\n",
       "  offer_type   price   abtest vehicle_type  registration_year    gearbox  \\\n",
       "0    Angebot  $5,000  control          bus               2004    manuell   \n",
       "1    Angebot  $8,500  control    limousine               1997  automatik   \n",
       "2    Angebot  $8,990     test    limousine               2009    manuell   \n",
       "3    Angebot  $4,350  control   kleinwagen               2007  automatik   \n",
       "4    Angebot  $1,350     test        kombi               2003    manuell   \n",
       "\n",
       "   power_ps   model   odometer  registration_month fuel_type       brand  \\\n",
       "0       158  andere  150,000km                   3       lpg     peugeot   \n",
       "1       286     7er  150,000km                   6    benzin         bmw   \n",
       "2       102    golf   70,000km                   7    benzin  volkswagen   \n",
       "3        71  fortwo   70,000km                   6    benzin       smart   \n",
       "4         0   focus  150,000km                   7    benzin        ford   \n",
       "\n",
       "  damage         date_created  num_pictures  postal_code            last_seen  \n",
       "0   nein  2016-03-26 00:00:00             0        79588  2016-04-06 06:45:54  \n",
       "1   nein  2016-04-04 00:00:00             0        71034  2016-04-06 14:45:08  \n",
       "2   nein  2016-03-26 00:00:00             0        35394  2016-04-06 20:15:37  \n",
       "3   nein  2016-03-12 00:00:00             0        33729  2016-03-15 03:16:28  \n",
       "4   nein  2016-04-01 00:00:00             0        39218  2016-04-01 14:38:50  "
      ]
     },
     "execution_count": 714,
     "metadata": {},
     "output_type": "execute_result"
    }
   ],
   "source": [
    "autos.columns = snake\n",
    "autos.head()"
   ]
  },
  {
   "cell_type": "markdown",
   "metadata": {},
   "source": [
    "### Drop empty columns"
   ]
  },
  {
   "cell_type": "markdown",
   "metadata": {},
   "source": [
    "Let's start from <code>num_pictures</code>, a completely empty column."
   ]
  },
  {
   "cell_type": "code",
   "execution_count": 715,
   "metadata": {},
   "outputs": [
    {
     "data": {
      "text/plain": [
       "0    50000\n",
       "Name: num_pictures, dtype: int64"
      ]
     },
     "execution_count": 715,
     "metadata": {},
     "output_type": "execute_result"
    }
   ],
   "source": [
    "#check emptyness\n",
    "autos[\"num_pictures\"].value_counts()"
   ]
  },
  {
   "cell_type": "code",
   "execution_count": 716,
   "metadata": {},
   "outputs": [],
   "source": [
    "#drop \"num_pictures\"\n",
    "autos = autos.drop(\"num_pictures\", axis=1)"
   ]
  },
  {
   "cell_type": "markdown",
   "metadata": {},
   "source": [
    "If all but one value in <code>offer_type</code> and <code>seller</code> are identical, we can delete outlier rows and then drop those columns."
   ]
  },
  {
   "cell_type": "code",
   "execution_count": 717,
   "metadata": {},
   "outputs": [
    {
     "data": {
      "text/plain": [
       "Angebot    49999\n",
       "Gesuch         1\n",
       "Name: offer_type, dtype: int64"
      ]
     },
     "execution_count": 717,
     "metadata": {},
     "output_type": "execute_result"
    }
   ],
   "source": [
    "#find the outlier in \"offer_type\"\n",
    "autos[\"offer_type\"].value_counts()"
   ]
  },
  {
   "cell_type": "code",
   "execution_count": 718,
   "metadata": {},
   "outputs": [
    {
     "data": {
      "text/plain": [
       "privat        49999\n",
       "gewerblich        1\n",
       "Name: seller, dtype: int64"
      ]
     },
     "execution_count": 718,
     "metadata": {},
     "output_type": "execute_result"
    }
   ],
   "source": [
    "#find the outlier in \"seller\"\n",
    "autos[\"seller\"].value_counts()"
   ]
  },
  {
   "cell_type": "code",
   "execution_count": 719,
   "metadata": {},
   "outputs": [],
   "source": [
    "#delete the outliers rows\n",
    "autos = autos.drop(autos[(autos['offer_type'] == 'Gesuch') | (autos['seller'] == 'gewerblich')].index)"
   ]
  },
  {
   "cell_type": "code",
   "execution_count": 720,
   "metadata": {},
   "outputs": [
    {
     "data": {
      "text/plain": [
       "(49998, 19)"
      ]
     },
     "execution_count": 720,
     "metadata": {},
     "output_type": "execute_result"
    }
   ],
   "source": [
    "#check \n",
    "autos.shape"
   ]
  },
  {
   "cell_type": "code",
   "execution_count": 721,
   "metadata": {},
   "outputs": [],
   "source": [
    "#drop the columns \"seller\" and \"offer_type\"\n",
    "autos = autos.drop([\"seller\",\"offer_type\"], axis=1)"
   ]
  },
  {
   "cell_type": "code",
   "execution_count": 722,
   "metadata": {},
   "outputs": [
    {
     "data": {
      "text/plain": [
       "(49998, 17)"
      ]
     },
     "execution_count": 722,
     "metadata": {},
     "output_type": "execute_result"
    }
   ],
   "source": [
    "#check \n",
    "autos.shape"
   ]
  },
  {
   "cell_type": "markdown",
   "metadata": {},
   "source": [
    "### Cleaning dates columns"
   ]
  },
  {
   "cell_type": "code",
   "execution_count": 723,
   "metadata": {},
   "outputs": [],
   "source": [
    "autos['date_crawled'] = autos['date_crawled'].astype('datetime64[ns]')\n",
    "autos['date_created'] = autos['date_created'].astype('datetime64[ns]')\n",
    "autos['last_seen'] = autos['last_seen'].astype('datetime64[ns]')"
   ]
  },
  {
   "cell_type": "markdown",
   "metadata": {},
   "source": [
    "### Cleaning <code>price</code>"
   ]
  },
  {
   "cell_type": "code",
   "execution_count": 724,
   "metadata": {},
   "outputs": [
    {
     "data": {
      "text/plain": [
       "array(['$5,000', '$8,500', '$8,990', ..., '$385', '$22,200', '$16,995'],\n",
       "      dtype=object)"
      ]
     },
     "execution_count": 724,
     "metadata": {},
     "output_type": "execute_result"
    }
   ],
   "source": [
    "autos['price'].unique()"
   ]
  },
  {
   "cell_type": "code",
   "execution_count": 725,
   "metadata": {},
   "outputs": [],
   "source": [
    "#remove special characters and convert to integer\n",
    "autos['price'] = (autos['price']\n",
    "                          .str.replace(\"$\",\"\")\n",
    "                          .str.replace(\",\",\"\")\n",
    "                          .astype(int)\n",
    "                          )"
   ]
  },
  {
   "cell_type": "code",
   "execution_count": 726,
   "metadata": {},
   "outputs": [
    {
     "name": "stdout",
     "output_type": "stream",
     "text": [
      "count    4.999800e+04\n",
      "mean     9.840435e+03\n",
      "std      4.811140e+05\n",
      "min      0.000000e+00\n",
      "25%      1.100000e+03\n",
      "50%      2.950000e+03\n",
      "75%      7.200000e+03\n",
      "max      1.000000e+08\n",
      "Name: price, dtype: float64\n",
      "___\n",
      "0       0.028401\n",
      "500     0.015621\n",
      "1500    0.014681\n",
      "2500    0.012861\n",
      "1000    0.012781\n",
      "Name: price, dtype: float64\n",
      "___\n",
      "36818      350000\n",
      "37585      999990\n",
      "514        999999\n",
      "43049      999999\n",
      "22947     1234566\n",
      "7814      1300000\n",
      "47634     3890000\n",
      "11137    10000000\n",
      "24384    11111111\n",
      "2897     11111111\n",
      "39377    12345678\n",
      "47598    12345678\n",
      "27371    12345678\n",
      "42221    27322222\n",
      "39705    99999999\n",
      "Name: price, dtype: int64\n",
      "___\n",
      "0     1420\n",
      "1      156\n",
      "2        3\n",
      "3        1\n",
      "5        2\n",
      "8        1\n",
      "9        1\n",
      "10       7\n",
      "11       2\n",
      "12       3\n",
      "Name: price, dtype: int64\n"
     ]
    }
   ],
   "source": [
    "#explore the data in \"price\" column\n",
    "print(autos[\"price\"].describe())\n",
    "print('___')\n",
    "print(autos[\"price\"].value_counts(normalize=True).head())\n",
    "print('___')\n",
    "print(autos[\"price\"].sort_values().tail(15))\n",
    "print('___')\n",
    "print(autos[\"price\"].value_counts().sort_index(ascending=True).head(10))"
   ]
  },
  {
   "cell_type": "markdown",
   "metadata": {},
   "source": [
    "#### Findings\n",
    "eBay is an auction site, so we could assume that opening bid is \\\\$1, \\\\$0 is strange but it is only 3% of the data, so we can remove it without risk. However, it is even more strange to see such prices near 1 million especially as high as \\\\$99,999,999. "
   ]
  },
  {
   "cell_type": "code",
   "execution_count": 727,
   "metadata": {},
   "outputs": [
    {
     "data": {
      "text/plain": [
       "(48564, 17)"
      ]
     },
     "execution_count": 727,
     "metadata": {},
     "output_type": "execute_result"
    }
   ],
   "source": [
    "#exclude rows with price outliers \n",
    "autos = autos[autos[\"price\"].between(1,900000)]\n",
    "autos.shape"
   ]
  },
  {
   "cell_type": "markdown",
   "metadata": {},
   "source": [
    "**For now we lost 1436 rows or 2.87% of the initial data**"
   ]
  },
  {
   "cell_type": "markdown",
   "metadata": {},
   "source": [
    "### Clear <code>odometer</code> "
   ]
  },
  {
   "cell_type": "code",
   "execution_count": 728,
   "metadata": {},
   "outputs": [
    {
     "data": {
      "text/plain": [
       "array(['150,000km', '70,000km', '50,000km', '80,000km', '10,000km',\n",
       "       '30,000km', '125,000km', '90,000km', '20,000km', '60,000km',\n",
       "       '5,000km', '100,000km', '40,000km'], dtype=object)"
      ]
     },
     "execution_count": 728,
     "metadata": {},
     "output_type": "execute_result"
    }
   ],
   "source": [
    "autos['odometer'].unique()"
   ]
  },
  {
   "cell_type": "code",
   "execution_count": 729,
   "metadata": {},
   "outputs": [],
   "source": [
    "autos[\"odometer\"] = (autos[\"odometer\"]\n",
    "                             .str.replace(\"km\",\"\")\n",
    "                             .str.replace(\",\",\"\")\n",
    "                             .astype(int)\n",
    "                             )\n",
    "autos.rename({\"odometer\": \"odometer_km\"}, axis=1, inplace=True)"
   ]
  },
  {
   "cell_type": "code",
   "execution_count": 730,
   "metadata": {},
   "outputs": [
    {
     "name": "stdout",
     "output_type": "stream",
     "text": [
      "count     48564.000000\n",
      "mean     125769.602998\n",
      "std       39788.894542\n",
      "min        5000.000000\n",
      "25%      125000.000000\n",
      "50%      150000.000000\n",
      "75%      150000.000000\n",
      "max      150000.000000\n",
      "Name: odometer_km, dtype: float64\n",
      "___\n",
      "150000    31413\n",
      "125000     5057\n",
      "100000     2115\n",
      "90000      1734\n",
      "80000      1415\n",
      "70000      1217\n",
      "60000      1155\n",
      "50000      1012\n",
      "5000        836\n",
      "40000       815\n",
      "30000       780\n",
      "20000       762\n",
      "10000       253\n",
      "Name: odometer_km, dtype: int64\n"
     ]
    }
   ],
   "source": [
    "#explore the data in 'odometer_km' column\n",
    "print(autos[\"odometer_km\"].describe())\n",
    "print('___')\n",
    "print(autos[\"odometer_km\"].value_counts())"
   ]
  },
  {
   "cell_type": "markdown",
   "metadata": {},
   "source": [
    "### Clean <code>regestration_year</code>"
   ]
  },
  {
   "cell_type": "code",
   "execution_count": 731,
   "metadata": {},
   "outputs": [
    {
     "name": "stdout",
     "output_type": "stream",
     "text": [
      "9999       3\n",
      "9000       1\n",
      "8888       1\n",
      "6200       1\n",
      "5911       1\n",
      "5000       4\n",
      "4800       1\n",
      "4500       1\n",
      "4100       1\n",
      "2800       1\n",
      "2019       2\n",
      "2018     470\n",
      "2017    1392\n",
      "2016    1220\n",
      "2015     392\n",
      "Name: registration_year, dtype: int64\n",
      "___\n",
      "1000    1\n",
      "1001    1\n",
      "1111    1\n",
      "1800    2\n",
      "1910    5\n",
      "1927    1\n",
      "1929    1\n",
      "1931    1\n",
      "1934    2\n",
      "1937    4\n",
      "1938    1\n",
      "1939    1\n",
      "1941    2\n",
      "1943    1\n",
      "1948    1\n",
      "Name: registration_year, dtype: int64\n",
      "___\n",
      "2016-04-07 14:36:56\n"
     ]
    }
   ],
   "source": [
    "print(autos[\"registration_year\"].value_counts().sort_index(ascending=False).head(15))\n",
    "print('___')\n",
    "print(autos[\"registration_year\"].value_counts().sort_index().head(15))\n",
    "print('___')\n",
    "print(autos[\"date_crawled\"].max())"
   ]
  },
  {
   "cell_type": "markdown",
   "metadata": {},
   "source": [
    "#### Findings\n",
    "Data was crawled in 2016, so all cars that registered in the future need to be dropped, as well as the cars that were registered before cars were invented."
   ]
  },
  {
   "cell_type": "code",
   "execution_count": 732,
   "metadata": {},
   "outputs": [],
   "source": [
    "autos = autos[autos[\"registration_year\"].between(1900,2016)]"
   ]
  },
  {
   "cell_type": "code",
   "execution_count": 733,
   "metadata": {},
   "outputs": [
    {
     "data": {
      "text/plain": [
       "(46680, 17)"
      ]
     },
     "execution_count": 733,
     "metadata": {},
     "output_type": "execute_result"
    }
   ],
   "source": [
    "autos.shape"
   ]
  },
  {
   "cell_type": "markdown",
   "metadata": {},
   "source": [
    "**We lost abother 1884 columns, totaling to 6.64% loss.**"
   ]
  },
  {
   "cell_type": "markdown",
   "metadata": {},
   "source": [
    "### Clear <code>power_ps</code>"
   ]
  },
  {
   "cell_type": "code",
   "execution_count": 734,
   "metadata": {},
   "outputs": [
    {
     "name": "stdout",
     "output_type": "stream",
     "text": [
      "count    46680.000000\n",
      "mean       117.895458\n",
      "std        184.924086\n",
      "min          0.000000\n",
      "25%         75.000000\n",
      "50%        109.000000\n",
      "75%        150.000000\n",
      "max      17700.000000\n",
      "Name: power_ps, dtype: float64\n",
      "___\n",
      "0      0.096530\n",
      "75     0.062254\n",
      "60     0.043509\n",
      "150    0.041045\n",
      "140    0.038710\n",
      "Name: power_ps, dtype: float64\n",
      "___\n",
      "0     4506\n",
      "1        4\n",
      "2        2\n",
      "3        2\n",
      "4        4\n",
      "5       13\n",
      "6        3\n",
      "8        2\n",
      "9        1\n",
      "10       2\n",
      "Name: power_ps, dtype: int64\n",
      "___\n",
      "(45, 17)\n"
     ]
    }
   ],
   "source": [
    "#explore the data in \"power_ps\" column\n",
    "print(autos[\"power_ps\"].describe())\n",
    "print('___')\n",
    "print(autos[\"power_ps\"].value_counts(normalize=True).head())\n",
    "print('___')\n",
    "print(autos[\"power_ps\"].value_counts().sort_index(ascending=True).head(10))\n",
    "print('___')\n",
    "print(autos[autos[\"power_ps\"] > 1000].shape)"
   ]
  },
  {
   "cell_type": "markdown",
   "metadata": {},
   "source": [
    "### Findings\n",
    "Perhabs, <code>power_ps</code> considered by sellers not that important, since almost 10% of the ads does not contain that information. But some listings claim that their car has more hourse power than Aston Martin Valhalla (which is most powerfull car as of 2020 and has 1,014 PS)."
   ]
  },
  {
   "cell_type": "code",
   "execution_count": 735,
   "metadata": {},
   "outputs": [
    {
     "data": {
      "text/plain": [
       "(46634, 17)"
      ]
     },
     "execution_count": 735,
     "metadata": {},
     "output_type": "execute_result"
    }
   ],
   "source": [
    "autos = autos[autos[\"power_ps\"] < 1000]\n",
    "autos.shape"
   ]
  },
  {
   "cell_type": "markdown",
   "metadata": {},
   "source": [
    "**We droped another 46 rows, resulting in 6.73% total loss**"
   ]
  },
  {
   "cell_type": "markdown",
   "metadata": {},
   "source": [
    "## Extracting information from <code>name</code>"
   ]
  },
  {
   "cell_type": "markdown",
   "metadata": {},
   "source": [
    "In the beginning we saw that columns <code>vehicleType</code>, <code>gearbox</code>, <code>model</code>, <code>fuelType</code>, <code>notRepairedDamage</code> contain missing values. Let's explore them now."
   ]
  },
  {
   "cell_type": "code",
   "execution_count": 736,
   "metadata": {},
   "outputs": [
    {
     "data": {
      "text/plain": [
       "vehicle_type    2702\n",
       "gearbox         2107\n",
       "model           2189\n",
       "fuel_type       3311\n",
       "damage          8288\n",
       "dtype: int64"
      ]
     },
     "execution_count": 736,
     "metadata": {},
     "output_type": "execute_result"
    }
   ],
   "source": [
    "autos[['vehicle_type', 'gearbox', 'model', 'fuel_type', 'damage']].isnull().sum()"
   ]
  },
  {
   "cell_type": "code",
   "execution_count": 737,
   "metadata": {},
   "outputs": [
    {
     "data": {
      "text/plain": [
       "0                                   peugeot_807_160_navtech_on_board\n",
       "1                         bmw_740i_4_4_liter_hamann_umbau_mega_optik\n",
       "2                                         volkswagen_golf_1.6_united\n",
       "3                smart_smart_fortwo_coupe_softouch/f1/klima/panorama\n",
       "4    ford_focus_1_6_benzin_tüv_neu_ist_sehr_gepflegt.mit_klimaanlage\n",
       "Name: name, dtype: object"
      ]
     },
     "execution_count": 737,
     "metadata": {},
     "output_type": "execute_result"
    }
   ],
   "source": [
    "#make all letters lowercase\n",
    "autos['name'] = autos['name'].str.lower()\n",
    "autos['name'].head()"
   ]
  },
  {
   "cell_type": "markdown",
   "metadata": {},
   "source": [
    "### Reconstructing <code>gearbox</code>"
   ]
  },
  {
   "cell_type": "code",
   "execution_count": 738,
   "metadata": {},
   "outputs": [
    {
     "name": "stdout",
     "output_type": "stream",
     "text": [
      "manuell      34681\n",
      "automatik     9846\n",
      "Name: gearbox, dtype: int64\n",
      "___\n",
      "Empty: 2107\n"
     ]
    }
   ],
   "source": [
    "print(autos['gearbox'].value_counts())\n",
    "print('___')\n",
    "print('Empty:',autos['gearbox'].isnull().sum())"
   ]
  },
  {
   "cell_type": "markdown",
   "metadata": {},
   "source": [
    "4.52% of <code>gearbox</code> is empty. Let's try to find information in <code>name</code>"
   ]
  },
  {
   "cell_type": "code",
   "execution_count": 739,
   "metadata": {},
   "outputs": [
    {
     "data": {
      "text/plain": [
       "11                                        mercedes_a140_motorschaden\n",
       "52     senator_a_3.0e_karosserie_restauriert_m._vielen_neuteilen_top\n",
       "60                                             vw_vento_1_8_tuev_neu\n",
       "64                                autotransport__abschlepp_schlepper\n",
       "92                                                      zu_verkaufen\n",
       "101                  schnaepchen_in_einem_jahr_oldteimer_kennzeichen\n",
       "124                                   passat_2.0_tdi_dpf_comfortline\n",
       "144                skoda_felicia_8_fach_bereift_86300_km___kein_rost\n",
       "175                                                        mg_mgb_gt\n",
       "183                                               smart_smart_&_pure\n",
       "192                                                      opel_vivaro\n",
       "211                                       fiat_marea_weekend_bastler\n",
       "217                                            porsche_924s__11/1989\n",
       "219                                                  opel_zafira_2.2\n",
       "220                                                      ford_ka_1.2\n",
       "227                                             als_bastler_fahrzeug\n",
       "262                                                      audi_a6_2_6\n",
       "264                                              mazda_mx_5_1.6i_16v\n",
       "274                                                smart_cabrio_pure\n",
       "276                            peugeot_106_1_4_55kw_nuer_heute!!!!!!\n",
       "Name: name, dtype: object"
      ]
     },
     "execution_count": 739,
     "metadata": {},
     "output_type": "execute_result"
    }
   ],
   "source": [
    "autos['name'][autos['gearbox'].isnull()].head(20)"
   ]
  },
  {
   "cell_type": "markdown",
   "metadata": {},
   "source": [
    "It does not seem that there <code>name</code> will help us, but let's try anyway."
   ]
  },
  {
   "cell_type": "code",
   "execution_count": 740,
   "metadata": {},
   "outputs": [],
   "source": [
    "gearbox_values = ['manuell','automatik']\n",
    "\n",
    "def get_gearbox(df):\n",
    "    \n",
    "    if isinstance(df['gearbox'], str):\n",
    "        return df['gearbox']\n",
    "    \n",
    "    for value in gearbox_values:\n",
    "        if value in df['name']:\n",
    "            return value\n",
    "\n",
    "autos['gearbox'] = autos.apply(get_gearbox, axis=1)"
   ]
  },
  {
   "cell_type": "code",
   "execution_count": 741,
   "metadata": {},
   "outputs": [
    {
     "name": "stdout",
     "output_type": "stream",
     "text": [
      "manuell      34681\n",
      "automatik     9873\n",
      "Name: gearbox, dtype: int64\n",
      "___\n",
      "Empty: 2080\n"
     ]
    }
   ],
   "source": [
    "print(autos['gearbox'].value_counts())\n",
    "print('___')\n",
    "print('Empty:',autos['gearbox'].isnull().sum())"
   ]
  },
  {
   "cell_type": "markdown",
   "metadata": {},
   "source": [
    "**We filled 27 cells, now only 4.46% is empty (0.06% reduction)**"
   ]
  },
  {
   "cell_type": "markdown",
   "metadata": {},
   "source": [
    "### Reconstructing <code>vehicle_type</code>"
   ]
  },
  {
   "cell_type": "code",
   "execution_count": 742,
   "metadata": {},
   "outputs": [
    {
     "name": "stdout",
     "output_type": "stream",
     "text": [
      "limousine     12589\n",
      "kleinwagen    10571\n",
      "kombi          8917\n",
      "bus            4028\n",
      "cabrio         3014\n",
      "coupe          2460\n",
      "suv            1965\n",
      "andere          388\n",
      "Name: vehicle_type, dtype: int64\n",
      "___\n",
      "Empty: 2702\n"
     ]
    }
   ],
   "source": [
    "print(autos['vehicle_type'].value_counts())\n",
    "print('___')\n",
    "print('Empty:',autos['vehicle_type'].isnull().sum())"
   ]
  },
  {
   "cell_type": "markdown",
   "metadata": {},
   "source": [
    "5.79% of <code>vehicle_type</code> is empty. Let's try to find information in <code>name</code>"
   ]
  },
  {
   "cell_type": "code",
   "execution_count": 743,
   "metadata": {},
   "outputs": [
    {
     "data": {
      "text/plain": [
       "2328     kadett_c_limo_karosserie_nache_zu_rostfrei_!!!!_aber_kaltverformt\n",
       "3149                                  opeoe_rekord_c_2tl_limonengruen_met.\n",
       "6124               bmw_e90_318i_limousine_bj.2006**tausch_oder_verkauf__**\n",
       "6662                passat_35i_limo_tausch_gegen_golf_2_oder_golf_3_cabrio\n",
       "18190             bmw_318i_e36_limousine_abn._ahk_klima_tüv_8_fach_alu_top\n",
       "Name: name, dtype: object"
      ]
     },
     "execution_count": 743,
     "metadata": {},
     "output_type": "execute_result"
    }
   ],
   "source": [
    "#there should be no problem with 'bus' or 'suv', but let's explore limousine and kleinwagen\n",
    "no_vehicle_type = autos[autos['vehicle_type'].isnull()]\n",
    "limo_in_name = no_vehicle_type[no_vehicle_type[\"name\"].str.contains('limo', case = False)]\n",
    "limo_in_name['name'].head()"
   ]
  },
  {
   "cell_type": "markdown",
   "metadata": {},
   "source": [
    "It seems that we can find information we need in <code>name</code>. Many sellers seem to shorten 'limousine' to 'limo', so we would need to rename 'limo' to 'limousine' after."
   ]
  },
  {
   "cell_type": "code",
   "execution_count": 744,
   "metadata": {},
   "outputs": [
    {
     "data": {
      "text/plain": [
       "5039                                      suche_kleinwagen_bis_maximal_1200\n",
       "9678                                        corsa_12v_city_fuer_kleines_geld\n",
       "13230                   ?tausche_samsung_s5_mini_gegen_kleinwagen_mit_tuev!?\n",
       "15880                                                  kleines_auto_mit_tuev\n",
       "18959                              flotter_kleinwagen_chevrolet_spark_1.2_ls\n",
       "19834         kleines_sportcoupe_|_sparsam_|_tuev_010117|_navi_|_top_zustand\n",
       "26047                                                            klein_wagen\n",
       "26619                                           kleiner_diesel_mit_tüv_11/16\n",
       "29343     opel_corsa_b__echte_top_gebot_sport_paket_fuer_klein_geld__vhb_699\n",
       "31279                                                     audi_a3__kleinwage\n",
       "31592                                                      suche_klein_wagen\n",
       "37140                                            schoener_kleinwagen_mit_tüv\n",
       "41279                                       suche_kleinwagen_fuer_die_arbeit\n",
       "43138                             suche_kleinen_pkw_bis_zu_550_euro_mit_?uev\n",
       "44817                                                   kleiner_stadtflitzer\n",
       "45179    opel_vivaro_kleinbus_9_sitzer___2_schiebetueren_+_dach_+_radtraeger\n",
       "46260                                 guenstig__abzugeben___kleine_maengel__\n",
       "49991                                                             kleinwagen\n",
       "Name: name, dtype: object"
      ]
     },
     "execution_count": 744,
     "metadata": {},
     "output_type": "execute_result"
    }
   ],
   "source": [
    "klein_in_name = no_vehicle_type[no_vehicle_type[\"name\"].str.contains('klein', case = False)]\n",
    "klein_in_name['name'].head(20)"
   ]
  },
  {
   "cell_type": "markdown",
   "metadata": {},
   "source": [
    "As we suspected 'klein' used a lot in <code>name</code>. We will be interested in variations 'Kleinwagen', 'Klein_wagen', 'Kleinwage'."
   ]
  },
  {
   "cell_type": "markdown",
   "metadata": {},
   "source": [
    "**Wait!**\n",
    "There are 'Suche' in <code>name</code>. Someone is searching for a car, not selling one! How much of those do we have?!"
   ]
  },
  {
   "cell_type": "markdown",
   "metadata": {},
   "source": [
    "### Drop the 'Suche' offers"
   ]
  },
  {
   "cell_type": "code",
   "execution_count": 745,
   "metadata": {},
   "outputs": [
    {
     "name": "stdout",
     "output_type": "stream",
     "text": [
      "<class 'pandas.core.frame.DataFrame'>\n",
      "Int64Index: 138 entries, 1115 to 49815\n",
      "Data columns (total 17 columns):\n",
      "date_crawled          138 non-null datetime64[ns]\n",
      "name                  138 non-null object\n",
      "price                 138 non-null int64\n",
      "abtest                138 non-null object\n",
      "vehicle_type          45 non-null object\n",
      "registration_year     138 non-null int64\n",
      "gearbox               38 non-null object\n",
      "power_ps              138 non-null int64\n",
      "model                 70 non-null object\n",
      "odometer_km           138 non-null int64\n",
      "registration_month    138 non-null int64\n",
      "fuel_type             49 non-null object\n",
      "brand                 138 non-null object\n",
      "damage                33 non-null object\n",
      "date_created          138 non-null datetime64[ns]\n",
      "postal_code           138 non-null int64\n",
      "last_seen             138 non-null datetime64[ns]\n",
      "dtypes: datetime64[ns](3), int64(6), object(8)\n",
      "memory usage: 19.4+ KB\n"
     ]
    }
   ],
   "source": [
    "suche_autos = autos[autos[\"name\"].str.contains('suche', case = False)]\n",
    "suche_autos.info()"
   ]
  },
  {
   "cell_type": "markdown",
   "metadata": {},
   "source": [
    "138 trojan horses! Let's drop them!"
   ]
  },
  {
   "cell_type": "code",
   "execution_count": 746,
   "metadata": {},
   "outputs": [
    {
     "data": {
      "text/plain": [
       "(46496, 17)"
      ]
     },
     "execution_count": 746,
     "metadata": {},
     "output_type": "execute_result"
    }
   ],
   "source": [
    "#drop wrong offers \n",
    "autos = autos.drop(autos[autos[\"name\"].str.contains('suche', case = False)].index)\n",
    "autos.shape"
   ]
  },
  {
   "cell_type": "markdown",
   "metadata": {},
   "source": [
    "**With those rows droped, total loss is 7.01%**"
   ]
  },
  {
   "cell_type": "markdown",
   "metadata": {},
   "source": [
    "### Back to <code>vehicle_type</code>"
   ]
  },
  {
   "cell_type": "code",
   "execution_count": 747,
   "metadata": {},
   "outputs": [
    {
     "name": "stdout",
     "output_type": "stream",
     "text": [
      "limousine     12582\n",
      "kleinwagen    10564\n",
      "kombi          8911\n",
      "bus            4015\n",
      "cabrio         3011\n",
      "coupe          2458\n",
      "suv            1960\n",
      "andere          386\n",
      "Name: vehicle_type, dtype: int64\n",
      "___\n",
      "Empty: 2609\n"
     ]
    }
   ],
   "source": [
    "# let's remember what information we already have\n",
    "print(autos['vehicle_type'].value_counts())\n",
    "print('___')\n",
    "print('Empty:',autos['vehicle_type'].isnull().sum())"
   ]
  },
  {
   "cell_type": "markdown",
   "metadata": {},
   "source": [
    "With new dropped rows <code>vehicle_type</code> is 5.59% empty."
   ]
  },
  {
   "cell_type": "code",
   "execution_count": 748,
   "metadata": {},
   "outputs": [],
   "source": [
    "vehicle_type = ['bus', 'limo', 'kleinwagen', 'kombi', 'coupe', 'suv', 'cabrio', 'klein_wagen','kleinwage']\n",
    "\n",
    "def get_vehicle_type(df):\n",
    "    \n",
    "    if isinstance(df['vehicle_type'], str):\n",
    "        return df['vehicle_type']\n",
    "    \n",
    "    for value in vehicle_type:\n",
    "        if value in df['name']:\n",
    "            return value\n",
    "\n",
    "autos['vehicle_type'] = autos.apply(get_vehicle_type, axis=1)"
   ]
  },
  {
   "cell_type": "code",
   "execution_count": 749,
   "metadata": {},
   "outputs": [
    {
     "name": "stdout",
     "output_type": "stream",
     "text": [
      "limousine      12582\n",
      "kleinwagen     10568\n",
      "kombi           8959\n",
      "bus             4027\n",
      "cabrio          3045\n",
      "coupe           2489\n",
      "suv             1960\n",
      "andere           386\n",
      "limo              14\n",
      "kleinwage          1\n",
      "klein_wagen        1\n",
      "Name: vehicle_type, dtype: int64\n",
      "___\n",
      "Empty: 2464\n"
     ]
    }
   ],
   "source": [
    "print(autos['vehicle_type'].value_counts())\n",
    "print('___')\n",
    "print('Empty:',autos['vehicle_type'].isnull().sum())"
   ]
  },
  {
   "cell_type": "markdown",
   "metadata": {},
   "source": [
    "We filled 145 <code>vehicle_type</code> cells. But we need to correct 'limousine' and 'kleinwagen' categories."
   ]
  },
  {
   "cell_type": "code",
   "execution_count": 750,
   "metadata": {},
   "outputs": [
    {
     "data": {
      "text/plain": [
       "array(['bus', 'limousine', 'kleinwagen', 'kombi', None, 'coupe', 'suv',\n",
       "       'cabrio', 'andere', 'limo', 'klein_wagen', 'kleinwage'],\n",
       "      dtype=object)"
      ]
     },
     "execution_count": 750,
     "metadata": {},
     "output_type": "execute_result"
    }
   ],
   "source": [
    "autos['vehicle_type'].unique()"
   ]
  },
  {
   "cell_type": "code",
   "execution_count": 751,
   "metadata": {},
   "outputs": [
    {
     "name": "stdout",
     "output_type": "stream",
     "text": [
      "{'bus': 'bus', 'limousine': 'limousine', 'kleinwagen': 'kleinwagen', 'kombi': 'kombi', None: None, 'coupe': 'coupe', 'suv': 'suv', 'cabrio': 'cabrio', 'andere': 'andere', 'limo': 'limousine', 'klein_wagen': 'kleinwagen', 'kleinwage': 'kleinwagen'}\n"
     ]
    }
   ],
   "source": [
    "mapping_dict = {}\n",
    "\n",
    "for vehicle in autos['vehicle_type'].unique():\n",
    "    mapping_dict[vehicle] = vehicle\n",
    "\n",
    "mapping_dict['limo'] = 'limousine'\n",
    "mapping_dict['klein_wagen'] = 'kleinwagen'\n",
    "mapping_dict['kleinwage'] = 'kleinwagen'\n",
    "\n",
    "print(mapping_dict)"
   ]
  },
  {
   "cell_type": "code",
   "execution_count": 752,
   "metadata": {},
   "outputs": [
    {
     "name": "stdout",
     "output_type": "stream",
     "text": [
      "limousine     12596\n",
      "kleinwagen    10570\n",
      "kombi          8959\n",
      "bus            4027\n",
      "cabrio         3045\n",
      "coupe          2489\n",
      "suv            1960\n",
      "andere          386\n",
      "Name: vehicle_type, dtype: int64\n"
     ]
    }
   ],
   "source": [
    "autos[\"vehicle_type\"] = autos[\"vehicle_type\"].map(mapping_dict)\n",
    "print(autos['vehicle_type'].value_counts())"
   ]
  },
  {
   "cell_type": "markdown",
   "metadata": {},
   "source": [
    "**We filled 145 cells, now only 5.3% is empty (0.58% reduction)**"
   ]
  },
  {
   "cell_type": "markdown",
   "metadata": {},
   "source": [
    "### Reconstructing <code>model</code>"
   ]
  },
  {
   "cell_type": "code",
   "execution_count": 753,
   "metadata": {},
   "outputs": [
    {
     "name": "stdout",
     "output_type": "stream",
     "text": [
      "golf        3696\n",
      "andere      3370\n",
      "3er         2611\n",
      "polo        1604\n",
      "corsa       1590\n",
      "passat      1345\n",
      "astra       1343\n",
      "a4          1230\n",
      "c_klasse    1135\n",
      "5er         1128\n",
      "e_klasse     954\n",
      "a3           822\n",
      "a6           794\n",
      "focus        758\n",
      "fiesta       720\n",
      "Name: model, dtype: int64\n",
      "___\n",
      "Empty: 2121\n"
     ]
    }
   ],
   "source": [
    "print(autos['model'].value_counts().head(15))\n",
    "print('___')\n",
    "print('Empty:',autos['model'].isnull().sum())"
   ]
  },
  {
   "cell_type": "markdown",
   "metadata": {},
   "source": [
    "4.55% of <code>model</code> is empty. Let's try to find information in <code>name</code>"
   ]
  },
  {
   "cell_type": "code",
   "execution_count": 754,
   "metadata": {},
   "outputs": [
    {
     "data": {
      "text/plain": [
       "array(['andere', '7er', 'golf', 'fortwo', 'focus', 'voyager', 'arosa',\n",
       "       'megane', 'a3', 'clio', 'vectra', 'scirocco', '3er', 'a4', '911',\n",
       "       'cooper', '5er', 'polo', 'e_klasse', '2_reihe', 'c_klasse',\n",
       "       'corsa', 'mondeo', 'altea', 'a1', 'twingo', 'a_klasse', 'cl',\n",
       "       '3_reihe', 's_klasse', 'sandero', 'passat', 'primera', 'wrangler',\n",
       "       'a6', 'transporter', 'astra', 'v40', 'ibiza', 'micra', '1er',\n",
       "       'yaris', 'colt', '6_reihe', '5_reihe', 'corolla', 'ka', 'tigra',\n",
       "       'punto', 'vito', 'cordoba', 'galaxy', '100', 'octavia', 'm_klasse',\n",
       "       'lupo', 'fiesta', 'superb', 'meriva', 'c_max', 'laguna', 'touran',\n",
       "       '1_reihe', 'm_reihe', 'touareg', 'seicento', 'avensis', 'vivaro',\n",
       "       'x_reihe', 'ducato', 'carnival', 'boxster', 'signum', 'sharan',\n",
       "       'zafira', 'rav', 'a5', 'beetle', 'c_reihe', 'phaeton', 'i_reihe',\n",
       "       'sl', 'insignia', 'up', 'civic', '80', 'mx_reihe', 'omega',\n",
       "       'sorento', 'z_reihe', 'berlingo', 'clk', 's_max', 'kalos',\n",
       "       'cx_reihe', 'grand', 'swift', 'tiguan', 'sprinter', 'mii', 'viano',\n",
       "       'kaefer', 'almera', 'picanto', 'espace', 'scenic', 'one', 'bora',\n",
       "       'fox', 'leon', 'transit', 'tucson', 'tt', 'qashqai', 'mustang',\n",
       "       'jazz', 'nubira', 'v70', 'duster', 'stilo', 'justy', 'kangoo',\n",
       "       'fabia', 'matiz', 'freelander', 'lancer', 'forester', 's_type',\n",
       "       'bravo', '500', '156', 'cr_reihe', 'toledo', 'panda', 'a8', 'ceed',\n",
       "       'caddy', 'aygo', 'citigo', 'exeo', 'c1', 'doblo', 'impreza', '147',\n",
       "       'agila', '145', 'c3', 'roomster', 'auris', '601', 'eos', 'aveo',\n",
       "       'slk', 'terios', 'fusion', 'c4', 'glk', 'materia', 'v50', 'combo',\n",
       "       'yeti', '900', '850', 'outlander', 'rio', 'escort', 'c2', 'jimny',\n",
       "       'forfour', 'a2', 'spider', 'kadett', 'b_klasse', 'carisma',\n",
       "       'cayenne', 'r19', 'cc', 'note', 'logan', 'xc_reihe', 'verso',\n",
       "       'v_klasse', 'jetta', 'c5', 'q5', 'getz', 'navara', 'x_type',\n",
       "       'clubman', 's60', '4_reihe', 'lybra', 'cherokee', 'q3', 'q7',\n",
       "       'roadster', 'captiva', 'cuore', '90', 'ptcruiser', 'kuga',\n",
       "       'x_trail', 'ypsilon', 'pajero', 'delta', 'rx_reihe', 'modus',\n",
       "       'sportage', 'calibra', 'sirion', 'gl', 'amarok', 'santa', '300c',\n",
       "       'antara', 'accord', 'crossfire', '159', '6er', 'niva', 'galant',\n",
       "       'legacy', 'defender', 'range_rover', 'juke', 'spark', 'lanos',\n",
       "       'v60', 'alhambra', 'discovery', 'range_rover_sport',\n",
       "       'range_rover_evoque', 'move', 'croma', 'g_klasse', 'lodgy',\n",
       "       'rangerover', 'samara', 'kappa', '9000', 'charade', 'i3', '200',\n",
       "       'b_max'], dtype=object)"
      ]
     },
     "execution_count": 754,
     "metadata": {},
     "output_type": "execute_result"
    }
   ],
   "source": [
    "models = autos['model'].unique()\n",
    "#delete none from models\n",
    "models = np.delete(models,8)\n",
    "models"
   ]
  },
  {
   "cell_type": "markdown",
   "metadata": {},
   "source": [
    "We need to remove numbers from the list, as well as two-character models that does not include numbers."
   ]
  },
  {
   "cell_type": "code",
   "execution_count": 755,
   "metadata": {},
   "outputs": [
    {
     "name": "stdout",
     "output_type": "stream",
     "text": [
      "['7er', 'a3', '3er', 'a4', '911', '5er', 'a1', 'cl', 'a6', 'v40', '1er', 'ka', '100', 'rav', 'a5', 'sl', 'up', '80', 'clk', 'mii', 'one', 'fox', 'tt', 'v70', '500', '156', 'a8', 'c1', '147', '145', 'c3', '601', 'eos', 'slk', 'c4', 'glk', 'v50', '900', '850', 'rio', 'c2', 'a2', 'r19', 'cc', 'c5', 'q5', 's60', 'q3', 'q7', '90', 'gl', '159', '6er', 'v60', 'i3', '200']\n"
     ]
    }
   ],
   "source": [
    "small_models = []\n",
    "\n",
    "for model in models:\n",
    "    if len(str(model)) < 4:\n",
    "        small_models.append(model)\n",
    "        \n",
    "print(small_models)"
   ]
  },
  {
   "cell_type": "code",
   "execution_count": 756,
   "metadata": {},
   "outputs": [
    {
     "name": "stdout",
     "output_type": "stream",
     "text": [
      "['andere', '9000', 'ka', '100', 'rav', 'sl', 'up', '80', 'clk', 'one', 'fox', 'tt', '500', '156', '147', '145', '601', '900', '850', 'cc', '90', 'gl', '159', '200']\n"
     ]
    }
   ],
   "source": [
    "models_delete = ['andere','9000', 'ka', '100', 'rav', 'sl', 'up', '80', 'clk', 'one', 'fox', 'tt', '500', '156', '147', '145', '601', '900', '850', 'cc','90', 'gl', '159', '200']\n",
    "print(models_delete)"
   ]
  },
  {
   "cell_type": "code",
   "execution_count": 757,
   "metadata": {},
   "outputs": [
    {
     "name": "stdout",
     "output_type": "stream",
     "text": [
      "['7er' 'golf' 'fortwo' 'focus' 'voyager' 'arosa' 'megane' 'a3' 'clio'\n",
      " 'vectra' 'scirocco' '3er' 'a4' '911' 'cooper' '5er' 'polo' 'e_klasse'\n",
      " '2_reihe' 'c_klasse' 'corsa' 'mondeo' 'altea' 'a1' 'twingo' 'a_klasse'\n",
      " 'cl' '3_reihe' 's_klasse' 'sandero' 'passat' 'primera' 'wrangler' 'a6'\n",
      " 'transporter' 'astra' 'v40' 'ibiza' 'micra' '1er' 'yaris' 'colt'\n",
      " '6_reihe' '5_reihe' 'corolla' 'tigra' 'punto' 'vito' 'cordoba' 'galaxy'\n",
      " 'octavia' 'm_klasse' 'lupo' 'fiesta' 'superb' 'meriva' 'c_max' 'laguna'\n",
      " 'touran' '1_reihe' 'm_reihe' 'touareg' 'seicento' 'avensis' 'vivaro'\n",
      " 'x_reihe' 'ducato' 'carnival' 'boxster' 'signum' 'sharan' 'zafira' 'a5'\n",
      " 'beetle' 'c_reihe' 'phaeton' 'i_reihe' 'insignia' 'civic' 'mx_reihe'\n",
      " 'omega' 'sorento' 'z_reihe' 'berlingo' 's_max' 'kalos' 'cx_reihe' 'grand'\n",
      " 'swift' 'tiguan' 'sprinter' 'mii' 'viano' 'kaefer' 'almera' 'picanto'\n",
      " 'espace' 'scenic' 'bora' 'leon' 'transit' 'tucson' 'qashqai' 'mustang'\n",
      " 'jazz' 'nubira' 'v70' 'duster' 'stilo' 'justy' 'kangoo' 'fabia' 'matiz'\n",
      " 'freelander' 'lancer' 'forester' 's_type' 'bravo' 'cr_reihe' 'toledo'\n",
      " 'panda' 'a8' 'ceed' 'caddy' 'aygo' 'citigo' 'exeo' 'c1' 'doblo' 'impreza'\n",
      " 'agila' 'c3' 'roomster' 'auris' 'eos' 'aveo' 'slk' 'terios' 'fusion' 'c4'\n",
      " 'glk' 'materia' 'v50' 'combo' 'yeti' 'outlander' 'rio' 'escort' 'c2'\n",
      " 'jimny' 'forfour' 'a2' 'spider' 'kadett' 'b_klasse' 'carisma' 'cayenne'\n",
      " 'r19' 'note' 'logan' 'xc_reihe' 'verso' 'v_klasse' 'jetta' 'c5' 'q5'\n",
      " 'getz' 'navara' 'x_type' 'clubman' 's60' '4_reihe' 'lybra' 'cherokee'\n",
      " 'q3' 'q7' 'roadster' 'captiva' 'cuore' 'ptcruiser' 'kuga' 'x_trail'\n",
      " 'ypsilon' 'pajero' 'delta' 'rx_reihe' 'modus' 'sportage' 'calibra'\n",
      " 'sirion' 'amarok' 'santa' '300c' 'antara' 'accord' 'crossfire' '6er'\n",
      " 'niva' 'galant' 'legacy' 'defender' 'range_rover' 'juke' 'spark' 'lanos'\n",
      " 'v60' 'alhambra' 'discovery' 'range_rover_sport' 'range_rover_evoque'\n",
      " 'move' 'croma' 'g_klasse' 'lodgy' 'rangerover' 'samara' 'kappa' 'charade'\n",
      " 'i3' 'b_max']\n"
     ]
    }
   ],
   "source": [
    "delete_index = []\n",
    "\n",
    "for model in models_delete:\n",
    "    index = np.argwhere(models==model)[0]\n",
    "    delete_index.append(index)\n",
    "\n",
    "clean_models = np.delete(models,delete_index)\n",
    "print(clean_models)"
   ]
  },
  {
   "cell_type": "code",
   "execution_count": 758,
   "metadata": {},
   "outputs": [],
   "source": [
    "def get_model(df):\n",
    "    \n",
    "    if isinstance(df['model'], str):\n",
    "        return df['model']\n",
    "    \n",
    "    for model in clean_models:\n",
    "        if model in df['name']:\n",
    "            return model\n",
    "\n",
    "autos['model'] = autos.apply(get_model, axis=1)"
   ]
  },
  {
   "cell_type": "code",
   "execution_count": 759,
   "metadata": {},
   "outputs": [
    {
     "name": "stdout",
     "output_type": "stream",
     "text": [
      "golf        3835\n",
      "andere      3370\n",
      "3er         2614\n",
      "polo        1684\n",
      "corsa       1638\n",
      "passat      1389\n",
      "astra       1383\n",
      "a4          1271\n",
      "c_klasse    1138\n",
      "5er         1130\n",
      "e_klasse     954\n",
      "a3           837\n",
      "a6           815\n",
      "focus        787\n",
      "fiesta       741\n",
      "Name: model, dtype: int64\n",
      "___\n",
      "Empty: 1148\n"
     ]
    }
   ],
   "source": [
    "print(autos['model'].value_counts().head(15))\n",
    "print('___')\n",
    "print('Empty:',autos['model'].isnull().sum())"
   ]
  },
  {
   "cell_type": "markdown",
   "metadata": {},
   "source": [
    "The most sussesful reconstruction so far. We filled 973 empty values, now only 2.47% cells are empty (2.09% reduction)"
   ]
  },
  {
   "cell_type": "markdown",
   "metadata": {},
   "source": [
    "### Reconstructing <code>fuel_type</code>"
   ]
  },
  {
   "cell_type": "code",
   "execution_count": 760,
   "metadata": {},
   "outputs": [
    {
     "name": "stdout",
     "output_type": "stream",
     "text": [
      "benzin     28481\n",
      "diesel     14004\n",
      "lpg          647\n",
      "cng           71\n",
      "hybrid        37\n",
      "elektro       19\n",
      "andere        15\n",
      "Name: fuel_type, dtype: int64\n",
      "___\n",
      "Empty: 3222\n"
     ]
    }
   ],
   "source": [
    "print(autos['fuel_type'].value_counts())\n",
    "print('___')\n",
    "print('Empty:',autos['fuel_type'].isnull().sum())"
   ]
  },
  {
   "cell_type": "markdown",
   "metadata": {},
   "source": [
    "6.93% of <code>fuel_type</code> is empty. Let's try to find information in <code>name</code>"
   ]
  },
  {
   "cell_type": "code",
   "execution_count": 761,
   "metadata": {},
   "outputs": [],
   "source": [
    "fuel_type = ['lpg', 'benzin', 'diesel','cng', 'hybrid', 'elektro']\n",
    "\n",
    "def get_fuel_type(df):\n",
    "    \n",
    "    if isinstance(df['fuel_type'], str):\n",
    "        return df['fuel_type']\n",
    "    \n",
    "    for fuel in fuel_type:\n",
    "        if fuel in df['name']:\n",
    "            return fuel\n",
    "\n",
    "autos['fuel_type'] = autos.apply(get_fuel_type, axis=1)"
   ]
  },
  {
   "cell_type": "code",
   "execution_count": 762,
   "metadata": {},
   "outputs": [
    {
     "name": "stdout",
     "output_type": "stream",
     "text": [
      "benzin     28530\n",
      "diesel     14087\n",
      "lpg          682\n",
      "cng           71\n",
      "hybrid        38\n",
      "elektro       19\n",
      "andere        15\n",
      "Name: fuel_type, dtype: int64\n",
      "___\n",
      "Empty: 3054\n"
     ]
    }
   ],
   "source": [
    "print(autos['fuel_type'].value_counts())\n",
    "print('___')\n",
    "print('Empty:',autos['fuel_type'].isnull().sum())"
   ]
  },
  {
   "cell_type": "markdown",
   "metadata": {},
   "source": [
    "We filled 168 values for column <code>fuel_type</code>, now only 6.57% of columns is empty (0.36% reduction)."
   ]
  },
  {
   "cell_type": "markdown",
   "metadata": {},
   "source": [
    "### Reconstructing <code>damage</code>"
   ]
  },
  {
   "cell_type": "code",
   "execution_count": 763,
   "metadata": {},
   "outputs": [
    {
     "name": "stdout",
     "output_type": "stream",
     "text": [
      "nein    33783\n",
      "ja       4530\n",
      "Name: damage, dtype: int64\n",
      "___\n",
      "Empty: 8183\n"
     ]
    }
   ],
   "source": [
    "print(autos['damage'].value_counts())\n",
    "print('___')\n",
    "print('Empty:',autos['damage'].isnull().sum())"
   ]
  },
  {
   "cell_type": "markdown",
   "metadata": {},
   "source": [
    "17.6% of <code>damage</code> information is missing. Let's explore what can <code>name</code> help us with that."
   ]
  },
  {
   "cell_type": "code",
   "execution_count": 764,
   "metadata": {},
   "outputs": [
    {
     "data": {
      "text/plain": [
       "5     chrysler_grand_voyager_2.8_crd_aut.limited_stow´n_go_sitze_7sitze\n",
       "6       vw_golf_iii_gt_special_electronic_green_metallic_reserviert_!!!\n",
       "11                                           mercedes_a140_motorschaden\n",
       "14     renault_clio_3__dynamique_1.2__16_v;_viele_verschleissteile_neu!\n",
       "18                                 verkaufen_mein_bmw_e36_320_i_touring\n",
       "20           audi_a4_avant_1.9_tdi_*6_gang*ahk*klimatronik*dpf*agr*tüv*\n",
       "32                                                 corsa_mit_tüv_5.2016\n",
       "34                                              bmw_530d__navi_tuv03/18\n",
       "42         vw_polo_l.0_/60_ps_blue_motion_technologie_sondermodel_fresh\n",
       "46                                                         bmw_mit__lpg\n",
       "56                                                         renault_clio\n",
       "59                                 mercedes_a_klasse_w_168__a_140_gruen\n",
       "64                                   autotransport__abschlepp_schlepper\n",
       "67                                                     jeep_wrangler_yj\n",
       "73                                          vw_t3_doka_1_7d_tüv_07/2017\n",
       "76                                           bmw_318i_neustes_model_0km\n",
       "77                                                 volvo_v40___tuev_neu\n",
       "79                                               seat_ibiza_1.9_tdi__fr\n",
       "85                                                    toyota_yaris_cool\n",
       "92                                                         zu_verkaufen\n",
       "Name: name, dtype: object"
      ]
     },
     "execution_count": 764,
     "metadata": {},
     "output_type": "execute_result"
    }
   ],
   "source": [
    "#display long names\n",
    "pd.options.display.max_colwidth = 100\n",
    "autos['name'][autos['damage'].isnull()].head(20)"
   ]
  },
  {
   "cell_type": "markdown",
   "metadata": {},
   "source": [
    "Car with index <code>14</code> contains 'neu' in the name. We can assume that a new car does no have any damage. Let's check how many new car contains 'neu' in the name."
   ]
  },
  {
   "cell_type": "code",
   "execution_count": 765,
   "metadata": {},
   "outputs": [],
   "source": [
    "new_cars = autos.loc[(autos[\"name\"].str.contains('neu', case = False)) & (autos[\"registration_year\"] > 2014)]"
   ]
  },
  {
   "cell_type": "code",
   "execution_count": 766,
   "metadata": {},
   "outputs": [
    {
     "name": "stdout",
     "output_type": "stream",
     "text": [
      "Empty: 11\n",
      "___\n",
      "nein    30\n",
      "ja       3\n",
      "Name: damage, dtype: int64\n"
     ]
    }
   ],
   "source": [
    "print('Empty:',new_cars['damage'].isnull().sum())\n",
    "print('___')\n",
    "print(new_cars['damage'].value_counts())"
   ]
  },
  {
   "cell_type": "markdown",
   "metadata": {},
   "source": [
    "Let's delete <code>ja</code> rows and assign to all other <code>nein</code> value, that will help us fill 11 rows with relevant information."
   ]
  },
  {
   "cell_type": "code",
   "execution_count": 767,
   "metadata": {},
   "outputs": [
    {
     "name": "stdout",
     "output_type": "stream",
     "text": [
      "nein    30\n",
      "Name: damage, dtype: int64\n"
     ]
    }
   ],
   "source": [
    "new_cars = new_cars.drop(new_cars[new_cars['damage'] == 'ja'].index)\n",
    "print(new_cars['damage'].value_counts())"
   ]
  },
  {
   "cell_type": "code",
   "execution_count": 768,
   "metadata": {},
   "outputs": [],
   "source": [
    "new_indexes = new_cars['damage'].index\n",
    "\n",
    "autos.at[new_indexes,'damage'] = 'nein'"
   ]
  },
  {
   "cell_type": "code",
   "execution_count": 769,
   "metadata": {},
   "outputs": [
    {
     "name": "stdout",
     "output_type": "stream",
     "text": [
      "nein    33794\n",
      "ja       4530\n",
      "Name: damage, dtype: int64\n",
      "___\n",
      "Empty: 8172\n"
     ]
    }
   ],
   "source": [
    "print(autos['damage'].value_counts())\n",
    "print('___')\n",
    "print('Empty:',autos['damage'].isnull().sum())"
   ]
  },
  {
   "cell_type": "markdown",
   "metadata": {},
   "source": [
    "We filled 11 cells, but still 17.58% of data are missing."
   ]
  },
  {
   "cell_type": "markdown",
   "metadata": {},
   "source": [
    "## Analysis"
   ]
  },
  {
   "cell_type": "code",
   "execution_count": 771,
   "metadata": {
    "scrolled": false
   },
   "outputs": [
    {
     "data": {
      "text/html": [
       "<div>\n",
       "<style scoped>\n",
       "    .dataframe tbody tr th:only-of-type {\n",
       "        vertical-align: middle;\n",
       "    }\n",
       "\n",
       "    .dataframe tbody tr th {\n",
       "        vertical-align: top;\n",
       "    }\n",
       "\n",
       "    .dataframe thead th {\n",
       "        text-align: right;\n",
       "    }\n",
       "</style>\n",
       "<table border=\"1\" class=\"dataframe\">\n",
       "  <thead>\n",
       "    <tr style=\"text-align: right;\">\n",
       "      <th></th>\n",
       "      <th>date_crawled</th>\n",
       "      <th>name</th>\n",
       "      <th>price</th>\n",
       "      <th>abtest</th>\n",
       "      <th>vehicle_type</th>\n",
       "      <th>registration_year</th>\n",
       "      <th>gearbox</th>\n",
       "      <th>power_ps</th>\n",
       "      <th>model</th>\n",
       "      <th>odometer_km</th>\n",
       "      <th>registration_month</th>\n",
       "      <th>fuel_type</th>\n",
       "      <th>brand</th>\n",
       "      <th>damage</th>\n",
       "      <th>date_created</th>\n",
       "      <th>postal_code</th>\n",
       "      <th>last_seen</th>\n",
       "    </tr>\n",
       "  </thead>\n",
       "  <tbody>\n",
       "    <tr>\n",
       "      <th>0</th>\n",
       "      <td>2016-03-26 17:47:46</td>\n",
       "      <td>peugeot_807_160_navtech_on_board</td>\n",
       "      <td>5000</td>\n",
       "      <td>control</td>\n",
       "      <td>bus</td>\n",
       "      <td>2004</td>\n",
       "      <td>manuell</td>\n",
       "      <td>158</td>\n",
       "      <td>andere</td>\n",
       "      <td>150000</td>\n",
       "      <td>3</td>\n",
       "      <td>lpg</td>\n",
       "      <td>peugeot</td>\n",
       "      <td>nein</td>\n",
       "      <td>2016-03-26</td>\n",
       "      <td>79588</td>\n",
       "      <td>2016-04-06 06:45:54</td>\n",
       "    </tr>\n",
       "    <tr>\n",
       "      <th>1</th>\n",
       "      <td>2016-04-04 13:38:56</td>\n",
       "      <td>bmw_740i_4_4_liter_hamann_umbau_mega_optik</td>\n",
       "      <td>8500</td>\n",
       "      <td>control</td>\n",
       "      <td>limousine</td>\n",
       "      <td>1997</td>\n",
       "      <td>automatik</td>\n",
       "      <td>286</td>\n",
       "      <td>7er</td>\n",
       "      <td>150000</td>\n",
       "      <td>6</td>\n",
       "      <td>benzin</td>\n",
       "      <td>bmw</td>\n",
       "      <td>nein</td>\n",
       "      <td>2016-04-04</td>\n",
       "      <td>71034</td>\n",
       "      <td>2016-04-06 14:45:08</td>\n",
       "    </tr>\n",
       "    <tr>\n",
       "      <th>2</th>\n",
       "      <td>2016-03-26 18:57:24</td>\n",
       "      <td>volkswagen_golf_1.6_united</td>\n",
       "      <td>8990</td>\n",
       "      <td>test</td>\n",
       "      <td>limousine</td>\n",
       "      <td>2009</td>\n",
       "      <td>manuell</td>\n",
       "      <td>102</td>\n",
       "      <td>golf</td>\n",
       "      <td>70000</td>\n",
       "      <td>7</td>\n",
       "      <td>benzin</td>\n",
       "      <td>volkswagen</td>\n",
       "      <td>nein</td>\n",
       "      <td>2016-03-26</td>\n",
       "      <td>35394</td>\n",
       "      <td>2016-04-06 20:15:37</td>\n",
       "    </tr>\n",
       "    <tr>\n",
       "      <th>3</th>\n",
       "      <td>2016-03-12 16:58:10</td>\n",
       "      <td>smart_smart_fortwo_coupe_softouch/f1/klima/panorama</td>\n",
       "      <td>4350</td>\n",
       "      <td>control</td>\n",
       "      <td>kleinwagen</td>\n",
       "      <td>2007</td>\n",
       "      <td>automatik</td>\n",
       "      <td>71</td>\n",
       "      <td>fortwo</td>\n",
       "      <td>70000</td>\n",
       "      <td>6</td>\n",
       "      <td>benzin</td>\n",
       "      <td>smart</td>\n",
       "      <td>nein</td>\n",
       "      <td>2016-03-12</td>\n",
       "      <td>33729</td>\n",
       "      <td>2016-03-15 03:16:28</td>\n",
       "    </tr>\n",
       "    <tr>\n",
       "      <th>4</th>\n",
       "      <td>2016-04-01 14:38:50</td>\n",
       "      <td>ford_focus_1_6_benzin_tüv_neu_ist_sehr_gepflegt.mit_klimaanlage</td>\n",
       "      <td>1350</td>\n",
       "      <td>test</td>\n",
       "      <td>kombi</td>\n",
       "      <td>2003</td>\n",
       "      <td>manuell</td>\n",
       "      <td>0</td>\n",
       "      <td>focus</td>\n",
       "      <td>150000</td>\n",
       "      <td>7</td>\n",
       "      <td>benzin</td>\n",
       "      <td>ford</td>\n",
       "      <td>nein</td>\n",
       "      <td>2016-04-01</td>\n",
       "      <td>39218</td>\n",
       "      <td>2016-04-01 14:38:50</td>\n",
       "    </tr>\n",
       "    <tr>\n",
       "      <th>5</th>\n",
       "      <td>2016-03-21 13:47:45</td>\n",
       "      <td>chrysler_grand_voyager_2.8_crd_aut.limited_stow´n_go_sitze_7sitze</td>\n",
       "      <td>7900</td>\n",
       "      <td>test</td>\n",
       "      <td>bus</td>\n",
       "      <td>2006</td>\n",
       "      <td>automatik</td>\n",
       "      <td>150</td>\n",
       "      <td>voyager</td>\n",
       "      <td>150000</td>\n",
       "      <td>4</td>\n",
       "      <td>diesel</td>\n",
       "      <td>chrysler</td>\n",
       "      <td>NaN</td>\n",
       "      <td>2016-03-21</td>\n",
       "      <td>22962</td>\n",
       "      <td>2016-04-06 09:45:21</td>\n",
       "    </tr>\n",
       "    <tr>\n",
       "      <th>6</th>\n",
       "      <td>2016-03-20 17:55:21</td>\n",
       "      <td>vw_golf_iii_gt_special_electronic_green_metallic_reserviert_!!!</td>\n",
       "      <td>300</td>\n",
       "      <td>test</td>\n",
       "      <td>limousine</td>\n",
       "      <td>1995</td>\n",
       "      <td>manuell</td>\n",
       "      <td>90</td>\n",
       "      <td>golf</td>\n",
       "      <td>150000</td>\n",
       "      <td>8</td>\n",
       "      <td>benzin</td>\n",
       "      <td>volkswagen</td>\n",
       "      <td>NaN</td>\n",
       "      <td>2016-03-20</td>\n",
       "      <td>31535</td>\n",
       "      <td>2016-03-23 02:48:59</td>\n",
       "    </tr>\n",
       "    <tr>\n",
       "      <th>7</th>\n",
       "      <td>2016-03-16 18:55:19</td>\n",
       "      <td>golf_iv_1.9_tdi_90ps</td>\n",
       "      <td>1990</td>\n",
       "      <td>control</td>\n",
       "      <td>limousine</td>\n",
       "      <td>1998</td>\n",
       "      <td>manuell</td>\n",
       "      <td>90</td>\n",
       "      <td>golf</td>\n",
       "      <td>150000</td>\n",
       "      <td>12</td>\n",
       "      <td>diesel</td>\n",
       "      <td>volkswagen</td>\n",
       "      <td>nein</td>\n",
       "      <td>2016-03-16</td>\n",
       "      <td>53474</td>\n",
       "      <td>2016-04-07 03:17:32</td>\n",
       "    </tr>\n",
       "    <tr>\n",
       "      <th>8</th>\n",
       "      <td>2016-03-22 16:51:34</td>\n",
       "      <td>seat_arosa</td>\n",
       "      <td>250</td>\n",
       "      <td>test</td>\n",
       "      <td>None</td>\n",
       "      <td>2000</td>\n",
       "      <td>manuell</td>\n",
       "      <td>0</td>\n",
       "      <td>arosa</td>\n",
       "      <td>150000</td>\n",
       "      <td>10</td>\n",
       "      <td>None</td>\n",
       "      <td>seat</td>\n",
       "      <td>nein</td>\n",
       "      <td>2016-03-22</td>\n",
       "      <td>7426</td>\n",
       "      <td>2016-03-26 18:18:10</td>\n",
       "    </tr>\n",
       "    <tr>\n",
       "      <th>9</th>\n",
       "      <td>2016-03-16 13:47:02</td>\n",
       "      <td>renault_megane_scenic_1.6e_rt_klimaanlage</td>\n",
       "      <td>590</td>\n",
       "      <td>control</td>\n",
       "      <td>bus</td>\n",
       "      <td>1997</td>\n",
       "      <td>manuell</td>\n",
       "      <td>90</td>\n",
       "      <td>megane</td>\n",
       "      <td>150000</td>\n",
       "      <td>7</td>\n",
       "      <td>benzin</td>\n",
       "      <td>renault</td>\n",
       "      <td>nein</td>\n",
       "      <td>2016-03-16</td>\n",
       "      <td>15749</td>\n",
       "      <td>2016-04-06 10:46:35</td>\n",
       "    </tr>\n",
       "    <tr>\n",
       "      <th>11</th>\n",
       "      <td>2016-03-16 18:45:34</td>\n",
       "      <td>mercedes_a140_motorschaden</td>\n",
       "      <td>350</td>\n",
       "      <td>control</td>\n",
       "      <td>None</td>\n",
       "      <td>2000</td>\n",
       "      <td>None</td>\n",
       "      <td>0</td>\n",
       "      <td>a1</td>\n",
       "      <td>150000</td>\n",
       "      <td>0</td>\n",
       "      <td>benzin</td>\n",
       "      <td>mercedes_benz</td>\n",
       "      <td>NaN</td>\n",
       "      <td>2016-03-16</td>\n",
       "      <td>17498</td>\n",
       "      <td>2016-03-16 18:45:34</td>\n",
       "    </tr>\n",
       "    <tr>\n",
       "      <th>12</th>\n",
       "      <td>2016-03-31 19:48:22</td>\n",
       "      <td>smart_smart_fortwo_coupe_softouch_pure_mhd_panoramadach__klima_</td>\n",
       "      <td>5299</td>\n",
       "      <td>control</td>\n",
       "      <td>kleinwagen</td>\n",
       "      <td>2010</td>\n",
       "      <td>automatik</td>\n",
       "      <td>71</td>\n",
       "      <td>fortwo</td>\n",
       "      <td>50000</td>\n",
       "      <td>9</td>\n",
       "      <td>benzin</td>\n",
       "      <td>smart</td>\n",
       "      <td>nein</td>\n",
       "      <td>2016-03-31</td>\n",
       "      <td>34590</td>\n",
       "      <td>2016-04-06 14:17:52</td>\n",
       "    </tr>\n",
       "    <tr>\n",
       "      <th>13</th>\n",
       "      <td>2016-03-23 10:48:32</td>\n",
       "      <td>audi_a3_1.6_tuning</td>\n",
       "      <td>1350</td>\n",
       "      <td>control</td>\n",
       "      <td>limousine</td>\n",
       "      <td>1999</td>\n",
       "      <td>manuell</td>\n",
       "      <td>101</td>\n",
       "      <td>a3</td>\n",
       "      <td>150000</td>\n",
       "      <td>11</td>\n",
       "      <td>benzin</td>\n",
       "      <td>audi</td>\n",
       "      <td>nein</td>\n",
       "      <td>2016-03-23</td>\n",
       "      <td>12043</td>\n",
       "      <td>2016-04-01 14:17:13</td>\n",
       "    </tr>\n",
       "    <tr>\n",
       "      <th>14</th>\n",
       "      <td>2016-03-23 11:50:46</td>\n",
       "      <td>renault_clio_3__dynamique_1.2__16_v;_viele_verschleissteile_neu!</td>\n",
       "      <td>3999</td>\n",
       "      <td>test</td>\n",
       "      <td>kleinwagen</td>\n",
       "      <td>2007</td>\n",
       "      <td>manuell</td>\n",
       "      <td>75</td>\n",
       "      <td>clio</td>\n",
       "      <td>150000</td>\n",
       "      <td>9</td>\n",
       "      <td>benzin</td>\n",
       "      <td>renault</td>\n",
       "      <td>NaN</td>\n",
       "      <td>2016-03-23</td>\n",
       "      <td>81737</td>\n",
       "      <td>2016-04-01 15:46:47</td>\n",
       "    </tr>\n",
       "    <tr>\n",
       "      <th>15</th>\n",
       "      <td>2016-04-01 12:06:20</td>\n",
       "      <td>corvette_c3_coupe_t_top_crossfire_injection</td>\n",
       "      <td>18900</td>\n",
       "      <td>test</td>\n",
       "      <td>coupe</td>\n",
       "      <td>1982</td>\n",
       "      <td>automatik</td>\n",
       "      <td>203</td>\n",
       "      <td>c3</td>\n",
       "      <td>80000</td>\n",
       "      <td>6</td>\n",
       "      <td>benzin</td>\n",
       "      <td>sonstige_autos</td>\n",
       "      <td>nein</td>\n",
       "      <td>2016-04-01</td>\n",
       "      <td>61276</td>\n",
       "      <td>2016-04-02 21:10:48</td>\n",
       "    </tr>\n",
       "  </tbody>\n",
       "</table>\n",
       "</div>"
      ],
      "text/plain": [
       "          date_crawled  \\\n",
       "0  2016-03-26 17:47:46   \n",
       "1  2016-04-04 13:38:56   \n",
       "2  2016-03-26 18:57:24   \n",
       "3  2016-03-12 16:58:10   \n",
       "4  2016-04-01 14:38:50   \n",
       "5  2016-03-21 13:47:45   \n",
       "6  2016-03-20 17:55:21   \n",
       "7  2016-03-16 18:55:19   \n",
       "8  2016-03-22 16:51:34   \n",
       "9  2016-03-16 13:47:02   \n",
       "11 2016-03-16 18:45:34   \n",
       "12 2016-03-31 19:48:22   \n",
       "13 2016-03-23 10:48:32   \n",
       "14 2016-03-23 11:50:46   \n",
       "15 2016-04-01 12:06:20   \n",
       "\n",
       "                                                                 name  price  \\\n",
       "0                                    peugeot_807_160_navtech_on_board   5000   \n",
       "1                          bmw_740i_4_4_liter_hamann_umbau_mega_optik   8500   \n",
       "2                                          volkswagen_golf_1.6_united   8990   \n",
       "3                 smart_smart_fortwo_coupe_softouch/f1/klima/panorama   4350   \n",
       "4     ford_focus_1_6_benzin_tüv_neu_ist_sehr_gepflegt.mit_klimaanlage   1350   \n",
       "5   chrysler_grand_voyager_2.8_crd_aut.limited_stow´n_go_sitze_7sitze   7900   \n",
       "6     vw_golf_iii_gt_special_electronic_green_metallic_reserviert_!!!    300   \n",
       "7                                                golf_iv_1.9_tdi_90ps   1990   \n",
       "8                                                          seat_arosa    250   \n",
       "9                           renault_megane_scenic_1.6e_rt_klimaanlage    590   \n",
       "11                                         mercedes_a140_motorschaden    350   \n",
       "12    smart_smart_fortwo_coupe_softouch_pure_mhd_panoramadach__klima_   5299   \n",
       "13                                                 audi_a3_1.6_tuning   1350   \n",
       "14   renault_clio_3__dynamique_1.2__16_v;_viele_verschleissteile_neu!   3999   \n",
       "15                        corvette_c3_coupe_t_top_crossfire_injection  18900   \n",
       "\n",
       "     abtest vehicle_type  registration_year    gearbox  power_ps    model  \\\n",
       "0   control          bus               2004    manuell       158   andere   \n",
       "1   control    limousine               1997  automatik       286      7er   \n",
       "2      test    limousine               2009    manuell       102     golf   \n",
       "3   control   kleinwagen               2007  automatik        71   fortwo   \n",
       "4      test        kombi               2003    manuell         0    focus   \n",
       "5      test          bus               2006  automatik       150  voyager   \n",
       "6      test    limousine               1995    manuell        90     golf   \n",
       "7   control    limousine               1998    manuell        90     golf   \n",
       "8      test         None               2000    manuell         0    arosa   \n",
       "9   control          bus               1997    manuell        90   megane   \n",
       "11  control         None               2000       None         0       a1   \n",
       "12  control   kleinwagen               2010  automatik        71   fortwo   \n",
       "13  control    limousine               1999    manuell       101       a3   \n",
       "14     test   kleinwagen               2007    manuell        75     clio   \n",
       "15     test        coupe               1982  automatik       203       c3   \n",
       "\n",
       "    odometer_km  registration_month fuel_type           brand damage  \\\n",
       "0        150000                   3       lpg         peugeot   nein   \n",
       "1        150000                   6    benzin             bmw   nein   \n",
       "2         70000                   7    benzin      volkswagen   nein   \n",
       "3         70000                   6    benzin           smart   nein   \n",
       "4        150000                   7    benzin            ford   nein   \n",
       "5        150000                   4    diesel        chrysler    NaN   \n",
       "6        150000                   8    benzin      volkswagen    NaN   \n",
       "7        150000                  12    diesel      volkswagen   nein   \n",
       "8        150000                  10      None            seat   nein   \n",
       "9        150000                   7    benzin         renault   nein   \n",
       "11       150000                   0    benzin   mercedes_benz    NaN   \n",
       "12        50000                   9    benzin           smart   nein   \n",
       "13       150000                  11    benzin            audi   nein   \n",
       "14       150000                   9    benzin         renault    NaN   \n",
       "15        80000                   6    benzin  sonstige_autos   nein   \n",
       "\n",
       "   date_created  postal_code           last_seen  \n",
       "0    2016-03-26        79588 2016-04-06 06:45:54  \n",
       "1    2016-04-04        71034 2016-04-06 14:45:08  \n",
       "2    2016-03-26        35394 2016-04-06 20:15:37  \n",
       "3    2016-03-12        33729 2016-03-15 03:16:28  \n",
       "4    2016-04-01        39218 2016-04-01 14:38:50  \n",
       "5    2016-03-21        22962 2016-04-06 09:45:21  \n",
       "6    2016-03-20        31535 2016-03-23 02:48:59  \n",
       "7    2016-03-16        53474 2016-04-07 03:17:32  \n",
       "8    2016-03-22         7426 2016-03-26 18:18:10  \n",
       "9    2016-03-16        15749 2016-04-06 10:46:35  \n",
       "11   2016-03-16        17498 2016-03-16 18:45:34  \n",
       "12   2016-03-31        34590 2016-04-06 14:17:52  \n",
       "13   2016-03-23        12043 2016-04-01 14:17:13  \n",
       "14   2016-03-23        81737 2016-04-01 15:46:47  \n",
       "15   2016-04-01        61276 2016-04-02 21:10:48  "
      ]
     },
     "execution_count": 771,
     "metadata": {},
     "output_type": "execute_result"
    }
   ],
   "source": [
    "autos.head(15)"
   ]
  },
  {
   "cell_type": "code",
   "execution_count": 838,
   "metadata": {},
   "outputs": [
    {
     "data": {
      "text/plain": [
       "(46496, 17)"
      ]
     },
     "execution_count": 838,
     "metadata": {},
     "output_type": "execute_result"
    }
   ],
   "source": [
    "autos.shape"
   ]
  },
  {
   "cell_type": "markdown",
   "metadata": {},
   "source": [
    "### How much used cars in Germany cost?\n",
    "#### What cars are the most popular?"
   ]
  },
  {
   "cell_type": "code",
   "execution_count": 775,
   "metadata": {},
   "outputs": [
    {
     "data": {
      "text/plain": [
       "volkswagen       0.211244\n",
       "bmw              0.110182\n",
       "opel             0.107536\n",
       "mercedes_benz    0.096460\n",
       "audi             0.086567\n",
       "ford             0.069942\n",
       "renault          0.047230\n",
       "peugeot          0.029895\n",
       "fiat             0.025723\n",
       "seat             0.018303\n",
       "Name: brand, dtype: float64"
      ]
     },
     "execution_count": 775,
     "metadata": {},
     "output_type": "execute_result"
    }
   ],
   "source": [
    "autos['brand'].value_counts(normalize=True).head(10)"
   ]
  },
  {
   "cell_type": "markdown",
   "metadata": {},
   "source": [
    "German manufacturers represent top six brands, more than 60% of overall listings."
   ]
  },
  {
   "cell_type": "code",
   "execution_count": 773,
   "metadata": {},
   "outputs": [
    {
     "data": {
      "image/png": "[encoded data removed]",
      "text/plain": [
       "<Figure size 720x360 with 1 Axes>"
      ]
     },
     "metadata": {
      "needs_background": "light"
     },
     "output_type": "display_data"
    }
   ],
   "source": [
    "#draw a histogram and fit a kernel density estimate (KDE) of prices\n",
    "fig, ax = plt.subplots(1, 1, figsize=(10, 5))\n",
    "\n",
    "sns.distplot(autos['price'])\n",
    "sns.despine(bottom = True, left = True)\n",
    "\n",
    "#add descriptions\n",
    "plt.title(\"Price distribution for all brands\", fontsize = 20)\n",
    "plt.xlabel(\"Price\", fontsize = 14)\n",
    "\n",
    "#format x-axis\n",
    "fmt = '${x:,.0f}'\n",
    "tick = mtick.StrMethodFormatter(fmt)\n",
    "ax.xaxis.set_major_formatter(tick)"
   ]
  },
  {
   "cell_type": "markdown",
   "metadata": {},
   "source": [
    "Unfortunately a histogram does not tell as much, data is extremely squed. Let's look at the box plot without outliers."
   ]
  },
  {
   "cell_type": "code",
   "execution_count": 806,
   "metadata": {},
   "outputs": [
    {
     "data": {
      "image/png": "[encoded data removed]",
      "text/plain": [
       "<Figure size 720x288 with 1 Axes>"
      ]
     },
     "metadata": {},
     "output_type": "display_data"
    }
   ],
   "source": [
    "fig, ax = plt.subplots(figsize=(10,4))\n",
    "\n",
    "ax.boxplot(autos['price'], vert=False, showfliers=False)\n",
    "\n",
    "#add descriptions\n",
    "plt.title(\"Price distribution for all brands\", fontsize = 20)\n",
    "plt.xlabel(\"Price\", fontsize = 14)\n",
    "ax.set_yticks([])\n",
    "\n",
    "#format x-axis\n",
    "fmt = '${x:,.0f}'\n",
    "tick = mtick.StrMethodFormatter(fmt)\n",
    "ax.xaxis.set_major_formatter(tick)\n",
    "\n",
    "sns.despine(bottom = True, left = True)"
   ]
  },
  {
   "cell_type": "markdown",
   "metadata": {},
   "source": [
    "Let's load the exact numbers:"
   ]
  },
  {
   "cell_type": "code",
   "execution_count": 635,
   "metadata": {},
   "outputs": [
    {
     "name": "stdout",
     "output_type": "stream",
     "text": [
      "count     46496.000000\n",
      "mean       5986.651024\n",
      "std        9171.697008\n",
      "min           1.000000\n",
      "25%        1250.000000\n",
      "50%        3100.000000\n",
      "75%        7500.000000\n",
      "max      350000.000000\n",
      "Name: price, dtype: float64\n",
      "___\n",
      "(-349.0, 17500.95]       43345\n",
      "(17500.95, 35000.9]       2650\n",
      "(35000.9, 52500.85]        331\n",
      "(52500.85, 70000.8]         89\n",
      "(70000.8, 87500.75]         31\n",
      "(87500.75, 105000.7]        15\n",
      "(105000.7, 122500.65]        9\n",
      "(122500.65, 140000.6]        5\n",
      "(140000.6, 157500.55]        3\n",
      "(157500.55, 175000.5]        5\n",
      "Name: price, dtype: int64\n"
     ]
    }
   ],
   "source": [
    "print(autos['price'].describe())\n",
    "print('___')\n",
    "print(autos[\"price\"].value_counts(bins=20).sort_index(ascending=True).head(10))"
   ]
  },
  {
   "cell_type": "markdown",
   "metadata": {},
   "source": [
    "#### Average price for top brands"
   ]
  },
  {
   "cell_type": "code",
   "execution_count": 810,
   "metadata": {},
   "outputs": [
    {
     "data": {
      "text/plain": [
       "brand\n",
       "audi             9354.056398\n",
       "mercedes_benz    8642.010702\n",
       "bmw              8338.697638\n",
       "volkswagen       5411.620648\n",
       "opel             2976.403200\n",
       "Name: price, dtype: float64"
      ]
     },
     "execution_count": 810,
     "metadata": {},
     "output_type": "execute_result"
    }
   ],
   "source": [
    "top_brands = autos.loc[(autos['brand'] == 'volkswagen') | (autos['brand'] == 'bmw')| (autos['brand'] == 'opel')| (autos['brand'] == 'mercedes_benz')| (autos['brand'] == 'audi')]\n",
    "top_mean_price = top_brands['price'].groupby(top_brands['brand']).mean()\n",
    "top_mean_price = top_mean_price.sort_values(ascending=False)\n",
    "top_mean_price"
   ]
  },
  {
   "cell_type": "code",
   "execution_count": 812,
   "metadata": {},
   "outputs": [
    {
     "data": {
      "image/png": "[encoded data removed]",
      "text/plain": [
       "<Figure size 720x432 with 1 Axes>"
      ]
     },
     "metadata": {},
     "output_type": "display_data"
    }
   ],
   "source": [
    "fig, ax = plt.subplots(figsize=(10,6))\n",
    "\n",
    "plt.bar(x=top_mean_price.index, height=top_mean_price, color=['#bb0a30','#0B1F2A','#009ADA','#0d4671','#F7DA00'])\n",
    "\n",
    "#format y-axis\n",
    "ax.yaxis.set_major_formatter(tick)\n",
    "\n",
    "plt.xticks(np.arange(5), [\"Audi\", \"Mercedes-Benz\", \"BMW\", \"Volkswagen\", \"Opel\"], fontsize = 12)\n",
    "plt.title(\"Average Price for Top 5 Brands\", fontsize = 20)\n",
    "\n",
    "sns.despine(bottom = True, left = True)    \n",
    "plt.show()"
   ]
  },
  {
   "cell_type": "markdown",
   "metadata": {},
   "source": [
    "This graph, however, can mislead us. It visualises average listed price, but eBay is an auction. So in order to figure out what is average price of a sold car we need to explore our data further."
   ]
  },
  {
   "cell_type": "markdown",
   "metadata": {},
   "source": [
    "### Average Price for Sold Cars"
   ]
  },
  {
   "cell_type": "code",
   "execution_count": 827,
   "metadata": {
    "scrolled": false
   },
   "outputs": [
    {
     "name": "stdout",
     "output_type": "stream",
     "text": [
      "2016-03-05 14:06:30\n",
      "___\n",
      "2016-04-07 14:36:56\n",
      "___\n",
      "(2015-06-10 16:46:33.599999999, 2015-07-11 02:24:00]        1\n",
      "(2015-07-11 02:24:00, 2015-08-10 04:48:00]                  1\n",
      "(2015-08-10 04:48:00, 2015-09-09 07:12:00]                  1\n",
      "(2015-09-09 07:12:00, 2015-10-09 09:36:00]                  0\n",
      "(2015-10-09 09:36:00, 2015-11-08 12:00:00]                  0\n",
      "(2015-11-08 12:00:00, 2015-12-08 14:24:00]                  2\n",
      "(2015-12-08 14:24:00, 2016-01-07 16:48:00]                  3\n",
      "(2016-01-07 16:48:00, 2016-02-06 19:12:00]                 12\n",
      "(2016-02-06 19:12:00, 2016-03-07 21:36:00]               3579\n",
      "(2016-03-07 21:36:00, 2016-04-07]                       42897\n",
      "Name: date_created, dtype: int64\n",
      "___\n",
      "(2016-03-05 13:58:14.015999999, 2016-03-08 21:59:04.400000]      831\n",
      "(2016-03-08 21:59:04.400000, 2016-03-12 05:12:22.800000]        1657\n",
      "(2016-03-12 05:12:22.800000, 2016-03-15 12:25:41.200000]        2297\n",
      "(2016-03-15 12:25:41.200000, 2016-03-18 19:38:59.600000]        2794\n",
      "(2016-03-18 19:38:59.600000, 2016-03-22 02:52:18]               2735\n",
      "(2016-03-22 02:52:18, 2016-03-25 10:05:36.400000]               2977\n",
      "(2016-03-25 10:05:36.400000, 2016-03-28 17:18:54.800000]        2786\n",
      "(2016-03-28 17:18:54.800000, 2016-04-01 00:32:13.200000]        3553\n",
      "(2016-04-01 00:32:13.200000, 2016-04-04 07:45:31.600000]        3617\n",
      "(2016-04-04 07:45:31.600000, 2016-04-07 14:58:50]              23249\n",
      "Name: last_seen, dtype: int64\n",
      "___\n",
      "(2016-04-04 07:45:31.600000, 2016-04-04 23:36:11.280000]     837\n",
      "(2016-04-04 23:36:11.280000, 2016-04-05 15:26:50.960000]    2563\n",
      "(2016-04-05 15:26:50.960000, 2016-04-06 07:17:30.640000]    6604\n",
      "(2016-04-06 07:17:30.640000, 2016-04-06 23:08:10.320000]    6674\n",
      "(2016-04-06 23:08:10.320000, 2016-04-07 14:58:50]           6571\n",
      "Name: last_seen, dtype: int64\n"
     ]
    }
   ],
   "source": [
    "print(autos['date_crawled'].min())\n",
    "print('___')\n",
    "print(autos['date_crawled'].max())\n",
    "print('___')\n",
    "print(autos['date_created'].value_counts(bins=10).sort_index())\n",
    "print('___')\n",
    "print(autos['last_seen'].value_counts(bins=10).sort_index())\n",
    "print('___')\n",
    "print(autos['last_seen'].value_counts(bins=50).sort_index().tail(5))"
   ]
  },
  {
   "cell_type": "markdown",
   "metadata": {},
   "source": [
    "The crawler recorded the date it last saw any listing, which allows us to determine on what day a listing was removed, presumably because the car was sold.\n",
    "\n",
    "The last three days contain a disproportionate amount of 'last seen' values. Given that these are 6-10x the values from the previous days, it's unlikely that there was a massive spike in sales, and more likely that these values are to do with the crawling period ending and don't indicate car sales.\n",
    "\n",
    "Let's drop cars wih <code>date_created</code> before 2016 and <code>last_seen</code> from 2016-04-05 to 2016-04-07. "
   ]
  },
  {
   "cell_type": "code",
   "execution_count": 837,
   "metadata": {},
   "outputs": [
    {
     "data": {
      "text/plain": [
       "(24104, 17)"
      ]
     },
     "execution_count": 837,
     "metadata": {},
     "output_type": "execute_result"
    }
   ],
   "source": [
    "autos_sold = autos.loc[(autos['date_created'] > '2016-01-01 00:00:00') & (autos['last_seen'] < '2016-04-05 00:00:00')]\n",
    "autos_sold.shape"
   ]
  },
  {
   "cell_type": "markdown",
   "metadata": {},
   "source": [
    "It appears that only 51.84% are sold."
   ]
  },
  {
   "cell_type": "code",
   "execution_count": 843,
   "metadata": {},
   "outputs": [
    {
     "data": {
      "text/html": [
       "<div>\n",
       "<style scoped>\n",
       "    .dataframe tbody tr th:only-of-type {\n",
       "        vertical-align: middle;\n",
       "    }\n",
       "\n",
       "    .dataframe tbody tr th {\n",
       "        vertical-align: top;\n",
       "    }\n",
       "\n",
       "    .dataframe thead th {\n",
       "        text-align: right;\n",
       "    }\n",
       "</style>\n",
       "<table border=\"1\" class=\"dataframe\">\n",
       "  <thead>\n",
       "    <tr style=\"text-align: right;\">\n",
       "      <th></th>\n",
       "      <th>price_listed</th>\n",
       "      <th>price_sold</th>\n",
       "    </tr>\n",
       "    <tr>\n",
       "      <th>brand</th>\n",
       "      <th></th>\n",
       "      <th></th>\n",
       "    </tr>\n",
       "  </thead>\n",
       "  <tbody>\n",
       "    <tr>\n",
       "      <th>audi</th>\n",
       "      <td>9354.056398</td>\n",
       "      <td>7160.053111</td>\n",
       "    </tr>\n",
       "    <tr>\n",
       "      <th>mercedes_benz</th>\n",
       "      <td>8642.010702</td>\n",
       "      <td>7076.638549</td>\n",
       "    </tr>\n",
       "    <tr>\n",
       "      <th>bmw</th>\n",
       "      <td>8338.697638</td>\n",
       "      <td>6862.459555</td>\n",
       "    </tr>\n",
       "    <tr>\n",
       "      <th>volkswagen</th>\n",
       "      <td>5411.620648</td>\n",
       "      <td>4338.405323</td>\n",
       "    </tr>\n",
       "    <tr>\n",
       "      <th>opel</th>\n",
       "      <td>2976.403200</td>\n",
       "      <td>2442.205007</td>\n",
       "    </tr>\n",
       "  </tbody>\n",
       "</table>\n",
       "</div>"
      ],
      "text/plain": [
       "               price_listed   price_sold\n",
       "brand                                   \n",
       "audi            9354.056398  7160.053111\n",
       "mercedes_benz   8642.010702  7076.638549\n",
       "bmw             8338.697638  6862.459555\n",
       "volkswagen      5411.620648  4338.405323\n",
       "opel            2976.403200  2442.205007"
      ]
     },
     "execution_count": 843,
     "metadata": {},
     "output_type": "execute_result"
    }
   ],
   "source": [
    "top_sold_brands = autos_sold.loc[(autos_sold['brand'] == 'volkswagen') | (autos_sold['brand'] == 'bmw')| (autos_sold['brand'] == 'opel')| (autos_sold['brand'] == 'mercedes_benz')| (autos_sold['brand'] == 'audi')]\n",
    "top_sold_mean_price = top_sold_brands['price'].groupby(top_sold_brands['brand']).mean()\n",
    "\n",
    "mean_price = pd.DataFrame(index=top_mean_price.index, columns=['price_listed','price_sold'])\n",
    "mean_price['price_listed'] = top_mean_price\n",
    "mean_price['price_sold'] = top_sold_mean_price\n",
    "mean_price"
   ]
  },
  {
   "cell_type": "code",
   "execution_count": 864,
   "metadata": {},
   "outputs": [
    {
     "data": {
      "image/png": "[encoded data removed]",
      "text/plain": [
       "<Figure size 1080x432 with 1 Axes>"
      ]
     },
     "metadata": {},
     "output_type": "display_data"
    }
   ],
   "source": [
    "fig, ax = plt.subplots(figsize=(15,6))\n",
    "\n",
    "# set width of bar\n",
    "bar_width = 0.25\n",
    "\n",
    "# Set position of bar on X axis\n",
    "r1 = np.arange(len(mean_price))\n",
    "r2 = [x + bar_width for x in r1]\n",
    " \n",
    "# Make the plot\n",
    "plt.bar(r1, mean_price['price_listed'], color=['#bb0a30','#0B1F2A','#009ADA','#0d4671','#F7DA00'], width=bar_width, label='Listed')\n",
    "plt.bar(r2, mean_price['price_sold'], color=['#bb0a30','#0B1F2A','#009ADA','#0d4671','#F7DA00'], width=bar_width, alpha=0.5, label='Sold')\n",
    "\n",
    "#format y-axis\n",
    "ax.yaxis.set_major_formatter(tick)\n",
    " \n",
    "# Create legend & Show graphic\n",
    "\n",
    "plt.xticks([r + bar_width/2 for r in range(len(mean_price))], [\"Audi\", \"Mercedes-Benz\", \"BMW\", \"Volkswagen\", \"Opel\"], fontsize = 12)\n",
    "plt.title(\"Average Price for Top 5 Brands\", fontsize = 20)\n",
    "\n",
    "sns.despine(bottom = True, left = True)  \n",
    "\n",
    "plt.legend()\n",
    "plt.show()"
   ]
  },
  {
   "cell_type": "markdown",
   "metadata": {},
   "source": [
    "#### Findings\n",
    "\n",
    "Not only sold cars are appear to be cheaper, there is less difference between prices of Audi, Mercedes-Benz and BMW."
   ]
  }
 ],
 "metadata": {
  "kernelspec": {
   "display_name": "Python 3",
   "language": "python",
   "name": "python3"
  },
  "language_info": {
   "codemirror_mode": {
    "name": "ipython",
    "version": 3
   },
   "file_extension": ".py",
   "mimetype": "text/x-python",
   "name": "python",
   "nbconvert_exporter": "python",
   "pygments_lexer": "ipython3",
   "version": "3.7.3"
  }
 },
 "nbformat": 4,
 "nbformat_minor": 2
}
